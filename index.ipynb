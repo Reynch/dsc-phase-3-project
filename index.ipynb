{
 "cells": [
  {
   "cell_type": "markdown",
   "metadata": {
    "heading_collapsed": true
   },
   "source": [
    "# Churn in Telecom"
   ]
  },
  {
   "cell_type": "markdown",
   "metadata": {
    "heading_collapsed": true,
    "hidden": true
   },
   "source": [
    "## Imports"
   ]
  },
  {
   "cell_type": "code",
   "execution_count": 90,
   "metadata": {
    "ExecuteTime": {
     "end_time": "2023-10-09T06:02:23.075656Z",
     "start_time": "2023-10-09T06:02:23.058608Z"
    },
    "hidden": true
   },
   "outputs": [],
   "source": [
    "import pandas as pd\n",
    "import numpy as np\n",
    "from matplotlib import pyplot as plt\n",
    "import seaborn as sns\n",
    "\n",
    "from sklearn.model_selection import train_test_split, GridSearchCV, cross_val_score, cross_validate\n",
    "from sklearn.pipeline import Pipeline\n",
    "from sklearn.preprocessing import StandardScaler, OneHotEncoder, FunctionTransformer, PolynomialFeatures\n",
    "from sklearn.impute import SimpleImputer\n",
    "from sklearn.compose import ColumnTransformer,  make_column_selector as selector\n",
    "from sklearn.linear_model import LogisticRegression\n",
    "from sklearn.ensemble import RandomForestClassifier, GradientBoostingClassifier\n",
    "from sklearn.metrics import plot_confusion_matrix, recall_score,\\\n",
    "    accuracy_score, precision_score, f1_score, plot_roc_curve, classification_report\n",
    "\n",
    "from sklearn.dummy import DummyClassifier, DummyRegressor\n",
    "\n",
    "from imblearn.over_sampling import SMOTE\n",
    "from imblearn.pipeline import Pipeline as ImPipeline\n",
    "\n",
    "import warnings\n",
    "warnings.filterwarnings('ignore')"
   ]
  },
  {
   "cell_type": "markdown",
   "metadata": {
    "heading_collapsed": true
   },
   "source": [
    "# Data"
   ]
  },
  {
   "cell_type": "markdown",
   "metadata": {
    "heading_collapsed": true,
    "hidden": true
   },
   "source": [
    "## Importing Data"
   ]
  },
  {
   "cell_type": "code",
   "execution_count": 22,
   "metadata": {
    "ExecuteTime": {
     "end_time": "2023-10-09T05:46:02.009709Z",
     "start_time": "2023-10-09T05:46:01.995188Z"
    },
    "hidden": true
   },
   "outputs": [],
   "source": [
    "churn_data = pd.read_csv('./data/bigml_59c28831336c6604c800002a.csv')"
   ]
  },
  {
   "cell_type": "code",
   "execution_count": 23,
   "metadata": {
    "ExecuteTime": {
     "end_time": "2023-10-09T05:46:02.056577Z",
     "start_time": "2023-10-09T05:46:02.028385Z"
    },
    "hidden": true
   },
   "outputs": [
    {
     "data": {
      "text/html": [
       "<div>\n",
       "<style scoped>\n",
       "    .dataframe tbody tr th:only-of-type {\n",
       "        vertical-align: middle;\n",
       "    }\n",
       "\n",
       "    .dataframe tbody tr th {\n",
       "        vertical-align: top;\n",
       "    }\n",
       "\n",
       "    .dataframe thead th {\n",
       "        text-align: right;\n",
       "    }\n",
       "</style>\n",
       "<table border=\"1\" class=\"dataframe\">\n",
       "  <thead>\n",
       "    <tr style=\"text-align: right;\">\n",
       "      <th></th>\n",
       "      <th>state</th>\n",
       "      <th>account length</th>\n",
       "      <th>area code</th>\n",
       "      <th>phone number</th>\n",
       "      <th>international plan</th>\n",
       "      <th>voice mail plan</th>\n",
       "      <th>number vmail messages</th>\n",
       "      <th>total day minutes</th>\n",
       "      <th>total day calls</th>\n",
       "      <th>total day charge</th>\n",
       "      <th>...</th>\n",
       "      <th>total eve calls</th>\n",
       "      <th>total eve charge</th>\n",
       "      <th>total night minutes</th>\n",
       "      <th>total night calls</th>\n",
       "      <th>total night charge</th>\n",
       "      <th>total intl minutes</th>\n",
       "      <th>total intl calls</th>\n",
       "      <th>total intl charge</th>\n",
       "      <th>customer service calls</th>\n",
       "      <th>churn</th>\n",
       "    </tr>\n",
       "  </thead>\n",
       "  <tbody>\n",
       "    <tr>\n",
       "      <th>0</th>\n",
       "      <td>KS</td>\n",
       "      <td>128</td>\n",
       "      <td>415</td>\n",
       "      <td>382-4657</td>\n",
       "      <td>no</td>\n",
       "      <td>yes</td>\n",
       "      <td>25</td>\n",
       "      <td>265.1</td>\n",
       "      <td>110</td>\n",
       "      <td>45.07</td>\n",
       "      <td>...</td>\n",
       "      <td>99</td>\n",
       "      <td>16.78</td>\n",
       "      <td>244.7</td>\n",
       "      <td>91</td>\n",
       "      <td>11.01</td>\n",
       "      <td>10.0</td>\n",
       "      <td>3</td>\n",
       "      <td>2.70</td>\n",
       "      <td>1</td>\n",
       "      <td>False</td>\n",
       "    </tr>\n",
       "    <tr>\n",
       "      <th>1</th>\n",
       "      <td>OH</td>\n",
       "      <td>107</td>\n",
       "      <td>415</td>\n",
       "      <td>371-7191</td>\n",
       "      <td>no</td>\n",
       "      <td>yes</td>\n",
       "      <td>26</td>\n",
       "      <td>161.6</td>\n",
       "      <td>123</td>\n",
       "      <td>27.47</td>\n",
       "      <td>...</td>\n",
       "      <td>103</td>\n",
       "      <td>16.62</td>\n",
       "      <td>254.4</td>\n",
       "      <td>103</td>\n",
       "      <td>11.45</td>\n",
       "      <td>13.7</td>\n",
       "      <td>3</td>\n",
       "      <td>3.70</td>\n",
       "      <td>1</td>\n",
       "      <td>False</td>\n",
       "    </tr>\n",
       "    <tr>\n",
       "      <th>2</th>\n",
       "      <td>NJ</td>\n",
       "      <td>137</td>\n",
       "      <td>415</td>\n",
       "      <td>358-1921</td>\n",
       "      <td>no</td>\n",
       "      <td>no</td>\n",
       "      <td>0</td>\n",
       "      <td>243.4</td>\n",
       "      <td>114</td>\n",
       "      <td>41.38</td>\n",
       "      <td>...</td>\n",
       "      <td>110</td>\n",
       "      <td>10.30</td>\n",
       "      <td>162.6</td>\n",
       "      <td>104</td>\n",
       "      <td>7.32</td>\n",
       "      <td>12.2</td>\n",
       "      <td>5</td>\n",
       "      <td>3.29</td>\n",
       "      <td>0</td>\n",
       "      <td>False</td>\n",
       "    </tr>\n",
       "    <tr>\n",
       "      <th>3</th>\n",
       "      <td>OH</td>\n",
       "      <td>84</td>\n",
       "      <td>408</td>\n",
       "      <td>375-9999</td>\n",
       "      <td>yes</td>\n",
       "      <td>no</td>\n",
       "      <td>0</td>\n",
       "      <td>299.4</td>\n",
       "      <td>71</td>\n",
       "      <td>50.90</td>\n",
       "      <td>...</td>\n",
       "      <td>88</td>\n",
       "      <td>5.26</td>\n",
       "      <td>196.9</td>\n",
       "      <td>89</td>\n",
       "      <td>8.86</td>\n",
       "      <td>6.6</td>\n",
       "      <td>7</td>\n",
       "      <td>1.78</td>\n",
       "      <td>2</td>\n",
       "      <td>False</td>\n",
       "    </tr>\n",
       "    <tr>\n",
       "      <th>4</th>\n",
       "      <td>OK</td>\n",
       "      <td>75</td>\n",
       "      <td>415</td>\n",
       "      <td>330-6626</td>\n",
       "      <td>yes</td>\n",
       "      <td>no</td>\n",
       "      <td>0</td>\n",
       "      <td>166.7</td>\n",
       "      <td>113</td>\n",
       "      <td>28.34</td>\n",
       "      <td>...</td>\n",
       "      <td>122</td>\n",
       "      <td>12.61</td>\n",
       "      <td>186.9</td>\n",
       "      <td>121</td>\n",
       "      <td>8.41</td>\n",
       "      <td>10.1</td>\n",
       "      <td>3</td>\n",
       "      <td>2.73</td>\n",
       "      <td>3</td>\n",
       "      <td>False</td>\n",
       "    </tr>\n",
       "  </tbody>\n",
       "</table>\n",
       "<p>5 rows × 21 columns</p>\n",
       "</div>"
      ],
      "text/plain": [
       "  state  account length  area code phone number international plan  \\\n",
       "0    KS             128        415     382-4657                 no   \n",
       "1    OH             107        415     371-7191                 no   \n",
       "2    NJ             137        415     358-1921                 no   \n",
       "3    OH              84        408     375-9999                yes   \n",
       "4    OK              75        415     330-6626                yes   \n",
       "\n",
       "  voice mail plan  number vmail messages  total day minutes  total day calls  \\\n",
       "0             yes                     25              265.1              110   \n",
       "1             yes                     26              161.6              123   \n",
       "2              no                      0              243.4              114   \n",
       "3              no                      0              299.4               71   \n",
       "4              no                      0              166.7              113   \n",
       "\n",
       "   total day charge  ...  total eve calls  total eve charge  \\\n",
       "0             45.07  ...               99             16.78   \n",
       "1             27.47  ...              103             16.62   \n",
       "2             41.38  ...              110             10.30   \n",
       "3             50.90  ...               88              5.26   \n",
       "4             28.34  ...              122             12.61   \n",
       "\n",
       "   total night minutes  total night calls  total night charge  \\\n",
       "0                244.7                 91               11.01   \n",
       "1                254.4                103               11.45   \n",
       "2                162.6                104                7.32   \n",
       "3                196.9                 89                8.86   \n",
       "4                186.9                121                8.41   \n",
       "\n",
       "   total intl minutes  total intl calls  total intl charge  \\\n",
       "0                10.0                 3               2.70   \n",
       "1                13.7                 3               3.70   \n",
       "2                12.2                 5               3.29   \n",
       "3                 6.6                 7               1.78   \n",
       "4                10.1                 3               2.73   \n",
       "\n",
       "   customer service calls  churn  \n",
       "0                       1  False  \n",
       "1                       1  False  \n",
       "2                       0  False  \n",
       "3                       2  False  \n",
       "4                       3  False  \n",
       "\n",
       "[5 rows x 21 columns]"
      ]
     },
     "execution_count": 23,
     "metadata": {},
     "output_type": "execute_result"
    }
   ],
   "source": [
    "churn_data.head()"
   ]
  },
  {
   "cell_type": "code",
   "execution_count": 24,
   "metadata": {
    "ExecuteTime": {
     "end_time": "2023-10-09T05:46:02.071456Z",
     "start_time": "2023-10-09T05:46:02.061441Z"
    },
    "hidden": true
   },
   "outputs": [
    {
     "name": "stdout",
     "output_type": "stream",
     "text": [
      "<class 'pandas.core.frame.DataFrame'>\n",
      "RangeIndex: 3333 entries, 0 to 3332\n",
      "Data columns (total 21 columns):\n",
      " #   Column                  Non-Null Count  Dtype  \n",
      "---  ------                  --------------  -----  \n",
      " 0   state                   3333 non-null   object \n",
      " 1   account length          3333 non-null   int64  \n",
      " 2   area code               3333 non-null   int64  \n",
      " 3   phone number            3333 non-null   object \n",
      " 4   international plan      3333 non-null   object \n",
      " 5   voice mail plan         3333 non-null   object \n",
      " 6   number vmail messages   3333 non-null   int64  \n",
      " 7   total day minutes       3333 non-null   float64\n",
      " 8   total day calls         3333 non-null   int64  \n",
      " 9   total day charge        3333 non-null   float64\n",
      " 10  total eve minutes       3333 non-null   float64\n",
      " 11  total eve calls         3333 non-null   int64  \n",
      " 12  total eve charge        3333 non-null   float64\n",
      " 13  total night minutes     3333 non-null   float64\n",
      " 14  total night calls       3333 non-null   int64  \n",
      " 15  total night charge      3333 non-null   float64\n",
      " 16  total intl minutes      3333 non-null   float64\n",
      " 17  total intl calls        3333 non-null   int64  \n",
      " 18  total intl charge       3333 non-null   float64\n",
      " 19  customer service calls  3333 non-null   int64  \n",
      " 20  churn                   3333 non-null   bool   \n",
      "dtypes: bool(1), float64(8), int64(8), object(4)\n",
      "memory usage: 524.2+ KB\n"
     ]
    }
   ],
   "source": [
    "churn_data.info()"
   ]
  },
  {
   "cell_type": "code",
   "execution_count": 25,
   "metadata": {
    "ExecuteTime": {
     "end_time": "2023-10-09T05:46:02.101433Z",
     "start_time": "2023-10-09T05:46:02.088419Z"
    },
    "hidden": true
   },
   "outputs": [
    {
     "data": {
      "text/plain": [
       "False    0.855086\n",
       "True     0.144914\n",
       "Name: churn, dtype: float64"
      ]
     },
     "execution_count": 25,
     "metadata": {},
     "output_type": "execute_result"
    }
   ],
   "source": [
    "churn_data['churn'].value_counts(normalize = True)"
   ]
  },
  {
   "cell_type": "markdown",
   "metadata": {
    "hidden": true
   },
   "source": [
    "The data is imbalanced marginally but could potentially use some balancing when we do our predictions"
   ]
  },
  {
   "cell_type": "markdown",
   "metadata": {
    "heading_collapsed": true,
    "hidden": true
   },
   "source": [
    "## Train Test Split"
   ]
  },
  {
   "cell_type": "code",
   "execution_count": 26,
   "metadata": {
    "ExecuteTime": {
     "end_time": "2023-10-09T05:46:02.207815Z",
     "start_time": "2023-10-09T05:46:02.194641Z"
    },
    "hidden": true
   },
   "outputs": [],
   "source": [
    "X = churn_data.drop(['phone number','churn'], axis = 1)\n",
    "y = churn_data.churn\n",
    "\n",
    "X_train, X_test, y_train, y_test = train_test_split(X,y, random_state = 0)"
   ]
  },
  {
   "cell_type": "code",
   "execution_count": 27,
   "metadata": {
    "ExecuteTime": {
     "end_time": "2023-10-09T05:46:02.238567Z",
     "start_time": "2023-10-09T05:46:02.225054Z"
    },
    "hidden": true
   },
   "outputs": [
    {
     "data": {
      "text/plain": [
       "Index(['state', 'account length', 'area code', 'international plan',\n",
       "       'voice mail plan', 'number vmail messages', 'total day minutes',\n",
       "       'total day calls', 'total day charge', 'total eve minutes',\n",
       "       'total eve calls', 'total eve charge', 'total night minutes',\n",
       "       'total night calls', 'total night charge', 'total intl minutes',\n",
       "       'total intl calls', 'total intl charge', 'customer service calls'],\n",
       "      dtype='object')"
      ]
     },
     "execution_count": 27,
     "metadata": {},
     "output_type": "execute_result"
    }
   ],
   "source": [
    "X_train.columns"
   ]
  },
  {
   "cell_type": "code",
   "execution_count": 28,
   "metadata": {
    "ExecuteTime": {
     "end_time": "2023-10-09T05:46:02.270328Z",
     "start_time": "2023-10-09T05:46:02.257556Z"
    },
    "hidden": true
   },
   "outputs": [
    {
     "name": "stdout",
     "output_type": "stream",
     "text": [
      "<class 'pandas.core.frame.DataFrame'>\n",
      "Int64Index: 2499 entries, 427 to 2732\n",
      "Data columns (total 19 columns):\n",
      " #   Column                  Non-Null Count  Dtype  \n",
      "---  ------                  --------------  -----  \n",
      " 0   state                   2499 non-null   object \n",
      " 1   account length          2499 non-null   int64  \n",
      " 2   area code               2499 non-null   int64  \n",
      " 3   international plan      2499 non-null   object \n",
      " 4   voice mail plan         2499 non-null   object \n",
      " 5   number vmail messages   2499 non-null   int64  \n",
      " 6   total day minutes       2499 non-null   float64\n",
      " 7   total day calls         2499 non-null   int64  \n",
      " 8   total day charge        2499 non-null   float64\n",
      " 9   total eve minutes       2499 non-null   float64\n",
      " 10  total eve calls         2499 non-null   int64  \n",
      " 11  total eve charge        2499 non-null   float64\n",
      " 12  total night minutes     2499 non-null   float64\n",
      " 13  total night calls       2499 non-null   int64  \n",
      " 14  total night charge      2499 non-null   float64\n",
      " 15  total intl minutes      2499 non-null   float64\n",
      " 16  total intl calls        2499 non-null   int64  \n",
      " 17  total intl charge       2499 non-null   float64\n",
      " 18  customer service calls  2499 non-null   int64  \n",
      "dtypes: float64(8), int64(8), object(3)\n",
      "memory usage: 390.5+ KB\n"
     ]
    }
   ],
   "source": [
    "X_train.info()"
   ]
  },
  {
   "cell_type": "code",
   "execution_count": 29,
   "metadata": {
    "ExecuteTime": {
     "end_time": "2023-10-09T05:46:02.301992Z",
     "start_time": "2023-10-09T05:46:02.288488Z"
    },
    "hidden": true
   },
   "outputs": [],
   "source": [
    "#Creating lists to use in pipelines\n",
    "\n",
    "cat_cols = ['state', 'international plan', 'voice mail plan','area code']\n",
    "\n",
    "\n",
    "numeric_cols = ['account length', 'number vmail messages', 'total day minutes',\n",
    "       'total day calls', 'total day charge', 'total eve minutes',\n",
    "       'total eve calls', 'total eve charge', 'total night minutes',\n",
    "       'total night calls', 'total night charge', 'total intl minutes',\n",
    "       'total intl calls', 'total intl charge', 'customer service calls']"
   ]
  },
  {
   "cell_type": "code",
   "execution_count": 30,
   "metadata": {
    "ExecuteTime": {
     "end_time": "2023-10-09T05:46:02.332265Z",
     "start_time": "2023-10-09T05:46:02.318246Z"
    },
    "hidden": true
   },
   "outputs": [],
   "source": [
    "# Creating Pipelines with simpleimputer to prepare for data which may have null values in future\n",
    "\n",
    "subpipe_numeric = Pipeline(steps =[\n",
    "    ('num_impute', SimpleImputer()),\n",
    "    ('ss', StandardScaler())\n",
    "])\n",
    "\n",
    "subpipe_cat = Pipeline(steps = [\n",
    "    ('cat_impute', SimpleImputer(strategy='most_frequent')),\n",
    "    ('ohe', OneHotEncoder(sparse = False, handle_unknown='ignore'))\n",
    "])"
   ]
  },
  {
   "cell_type": "code",
   "execution_count": 31,
   "metadata": {
    "ExecuteTime": {
     "end_time": "2023-10-09T05:46:02.363839Z",
     "start_time": "2023-10-09T05:46:02.349750Z"
    },
    "hidden": true
   },
   "outputs": [],
   "source": [
    "# Basic Colum Transformer\n",
    "\n",
    "CT = ColumnTransformer(transformers = [\n",
    "    ('subpipe_num', subpipe_numeric,numeric_cols),\n",
    "    ('subpipe_cat', subpipe_cat, cat_cols)\n",
    "])"
   ]
  },
  {
   "cell_type": "markdown",
   "metadata": {
    "heading_collapsed": true
   },
   "source": [
    "# Models"
   ]
  },
  {
   "cell_type": "markdown",
   "metadata": {
    "heading_collapsed": true,
    "hidden": true
   },
   "source": [
    "## Baseline Model"
   ]
  },
  {
   "cell_type": "code",
   "execution_count": 32,
   "metadata": {
    "ExecuteTime": {
     "end_time": "2023-10-09T05:46:02.471480Z",
     "start_time": "2023-10-09T05:46:02.459459Z"
    },
    "hidden": true
   },
   "outputs": [],
   "source": [
    "dummy_model_pipe = Pipeline([\n",
    "    ('ct',CT),\n",
    "    ('dummy', DummyClassifier(strategy = 'most_frequent'))\n",
    "])"
   ]
  },
  {
   "cell_type": "code",
   "execution_count": 33,
   "metadata": {
    "ExecuteTime": {
     "end_time": "2023-10-09T05:46:02.550070Z",
     "start_time": "2023-10-09T05:46:02.488556Z"
    },
    "hidden": true
   },
   "outputs": [
    {
     "data": {
      "text/plain": [
       "Pipeline(steps=[('ct',\n",
       "                 ColumnTransformer(transformers=[('subpipe_num',\n",
       "                                                  Pipeline(steps=[('num_impute',\n",
       "                                                                   SimpleImputer()),\n",
       "                                                                  ('ss',\n",
       "                                                                   StandardScaler())]),\n",
       "                                                  ['account length',\n",
       "                                                   'number vmail messages',\n",
       "                                                   'total day minutes',\n",
       "                                                   'total day calls',\n",
       "                                                   'total day charge',\n",
       "                                                   'total eve minutes',\n",
       "                                                   'total eve calls',\n",
       "                                                   'total eve charge',\n",
       "                                                   'total night minutes',\n",
       "                                                   'total night calls',\n",
       "                                                   'total night charge',\n",
       "                                                   'total intl minutes',\n",
       "                                                   'total intl calls',\n",
       "                                                   'total intl charge',\n",
       "                                                   'customer service calls']),\n",
       "                                                 ('subpipe_cat',\n",
       "                                                  Pipeline(steps=[('cat_impute',\n",
       "                                                                   SimpleImputer(strategy='most_frequent')),\n",
       "                                                                  ('ohe',\n",
       "                                                                   OneHotEncoder(handle_unknown='ignore',\n",
       "                                                                                 sparse=False))]),\n",
       "                                                  ['state',\n",
       "                                                   'international plan',\n",
       "                                                   'voice mail plan',\n",
       "                                                   'area code'])])),\n",
       "                ('dummy', DummyClassifier(strategy='most_frequent'))])"
      ]
     },
     "execution_count": 33,
     "metadata": {},
     "output_type": "execute_result"
    }
   ],
   "source": [
    "dummy_model_pipe.fit(X_train,y_train)"
   ]
  },
  {
   "cell_type": "code",
   "execution_count": 34,
   "metadata": {
    "ExecuteTime": {
     "end_time": "2023-10-09T05:46:02.565315Z",
     "start_time": "2023-10-09T05:46:02.551069Z"
    },
    "hidden": true
   },
   "outputs": [
    {
     "data": {
      "text/plain": [
       "0.8527410964385754"
      ]
     },
     "execution_count": 34,
     "metadata": {},
     "output_type": "execute_result"
    }
   ],
   "source": [
    "dummy_model_pipe.score(X_train, y_train)"
   ]
  },
  {
   "cell_type": "code",
   "execution_count": 35,
   "metadata": {
    "ExecuteTime": {
     "end_time": "2023-10-09T05:46:02.887534Z",
     "start_time": "2023-10-09T05:46:02.875011Z"
    },
    "hidden": true
   },
   "outputs": [
    {
     "data": {
      "text/plain": [
       "0.8621103117505995"
      ]
     },
     "execution_count": 35,
     "metadata": {},
     "output_type": "execute_result"
    }
   ],
   "source": [
    "dummy_model_pipe.score(X_test, y_test)"
   ]
  },
  {
   "cell_type": "code",
   "execution_count": 41,
   "metadata": {
    "ExecuteTime": {
     "end_time": "2023-10-09T05:47:30.578840Z",
     "start_time": "2023-10-09T05:47:30.562122Z"
    },
    "hidden": true
   },
   "outputs": [
    {
     "name": "stdout",
     "output_type": "stream",
     "text": [
      "              precision    recall  f1-score   support\n",
      "\n",
      "       False       0.86      1.00      0.93       719\n",
      "        True       0.00      0.00      0.00       115\n",
      "\n",
      "    accuracy                           0.86       834\n",
      "   macro avg       0.43      0.50      0.46       834\n",
      "weighted avg       0.74      0.86      0.80       834\n",
      "\n"
     ]
    },
    {
     "name": "stderr",
     "output_type": "stream",
     "text": [
      "C:\\Users\\rchag\\anaconda3\\envs\\learn-env\\lib\\site-packages\\sklearn\\metrics\\_classification.py:1221: UndefinedMetricWarning: Precision and F-score are ill-defined and being set to 0.0 in labels with no predicted samples. Use `zero_division` parameter to control this behavior.\n",
      "  _warn_prf(average, modifier, msg_start, len(result))\n"
     ]
    }
   ],
   "source": [
    "print(classification_report(y_test, dummy_model_pipe.predict(X_test)))"
   ]
  },
  {
   "cell_type": "markdown",
   "metadata": {
    "hidden": true
   },
   "source": [
    "Baseline model predicting majority class has an accuracy of 86%, I would like to maximize recall without sacrificing accuracy in an attempt to retain as many customers as possible without having to offer coupons or discounts unnecessarily "
   ]
  },
  {
   "cell_type": "code",
   "execution_count": 42,
   "metadata": {
    "ExecuteTime": {
     "end_time": "2023-10-09T05:49:47.884544Z",
     "start_time": "2023-10-09T05:49:46.761957Z"
    },
    "hidden": true
   },
   "outputs": [
    {
     "data": {
      "text/plain": [
       "<AxesSubplot:>"
      ]
     },
     "execution_count": 42,
     "metadata": {},
     "output_type": "execute_result"
    },
    {
     "data": {
      "image/png": "[encoded data removed]",
      "text/plain": [
       "<Figure size 864x576 with 2 Axes>"
      ]
     },
     "metadata": {
      "needs_background": "light"
     },
     "output_type": "display_data"
    }
   ],
   "source": [
    "# Looking to see if there are columns that may improve accuracy or recall based on correlation\n",
    "\n",
    "fig, ax = plt.subplots(figsize = (12,8))\n",
    "sns.heatmap(churn_data.drop(['state', 'international plan', 'voice mail plan'], axis = 1).corr(), annot = True)"
   ]
  },
  {
   "cell_type": "markdown",
   "metadata": {
    "heading_collapsed": true,
    "hidden": true
   },
   "source": [
    "## Basic Logistic Regression Model"
   ]
  },
  {
   "cell_type": "code",
   "execution_count": 44,
   "metadata": {
    "ExecuteTime": {
     "end_time": "2023-10-09T05:49:51.897041Z",
     "start_time": "2023-10-09T05:49:51.890016Z"
    },
    "hidden": true
   },
   "outputs": [],
   "source": [
    "logreg = Pipeline(steps = [\n",
    "    ('ct', CT),\n",
    "    ('logreg', LogisticRegression())\n",
    "])"
   ]
  },
  {
   "cell_type": "code",
   "execution_count": 45,
   "metadata": {
    "ExecuteTime": {
     "end_time": "2023-10-09T05:50:39.528988Z",
     "start_time": "2023-10-09T05:50:39.410282Z"
    },
    "hidden": true
   },
   "outputs": [
    {
     "data": {
      "text/plain": [
       "Pipeline(steps=[('ct',\n",
       "                 ColumnTransformer(transformers=[('subpipe_num',\n",
       "                                                  Pipeline(steps=[('num_impute',\n",
       "                                                                   SimpleImputer()),\n",
       "                                                                  ('ss',\n",
       "                                                                   StandardScaler())]),\n",
       "                                                  ['account length',\n",
       "                                                   'number vmail messages',\n",
       "                                                   'total day minutes',\n",
       "                                                   'total day calls',\n",
       "                                                   'total day charge',\n",
       "                                                   'total eve minutes',\n",
       "                                                   'total eve calls',\n",
       "                                                   'total eve charge',\n",
       "                                                   'total night minutes',\n",
       "                                                   'total night calls',\n",
       "                                                   'total night charge',\n",
       "                                                   'total intl minutes',\n",
       "                                                   'total intl calls',\n",
       "                                                   'total intl charge',\n",
       "                                                   'customer service calls']),\n",
       "                                                 ('subpipe_cat',\n",
       "                                                  Pipeline(steps=[('cat_impute',\n",
       "                                                                   SimpleImputer(strategy='most_frequent')),\n",
       "                                                                  ('ohe',\n",
       "                                                                   OneHotEncoder(handle_unknown='ignore',\n",
       "                                                                                 sparse=False))]),\n",
       "                                                  ['state',\n",
       "                                                   'international plan',\n",
       "                                                   'voice mail plan',\n",
       "                                                   'area code'])])),\n",
       "                ('logreg', LogisticRegression())])"
      ]
     },
     "execution_count": 45,
     "metadata": {},
     "output_type": "execute_result"
    }
   ],
   "source": [
    "logreg.fit(X_train, y_train)"
   ]
  },
  {
   "cell_type": "code",
   "execution_count": 46,
   "metadata": {
    "ExecuteTime": {
     "end_time": "2023-10-09T05:50:44.965914Z",
     "start_time": "2023-10-09T05:50:44.947396Z"
    },
    "hidden": true
   },
   "outputs": [
    {
     "data": {
      "text/plain": [
       "0.8711484593837535"
      ]
     },
     "execution_count": 46,
     "metadata": {},
     "output_type": "execute_result"
    }
   ],
   "source": [
    "logreg.score(X_train, y_train)"
   ]
  },
  {
   "cell_type": "code",
   "execution_count": 49,
   "metadata": {
    "ExecuteTime": {
     "end_time": "2023-10-09T05:51:11.466258Z",
     "start_time": "2023-10-09T05:51:11.450246Z"
    },
    "hidden": true
   },
   "outputs": [
    {
     "data": {
      "text/plain": [
       "0.8513189448441247"
      ]
     },
     "execution_count": 49,
     "metadata": {},
     "output_type": "execute_result"
    }
   ],
   "source": [
    "logreg.score(X_test, y_test)"
   ]
  },
  {
   "cell_type": "code",
   "execution_count": 51,
   "metadata": {
    "ExecuteTime": {
     "end_time": "2023-10-09T05:51:29.185948Z",
     "start_time": "2023-10-09T05:51:29.106343Z"
    },
    "hidden": true
   },
   "outputs": [
    {
     "data": {
      "text/plain": [
       "<sklearn.metrics._plot.roc_curve.RocCurveDisplay at 0x236eab8b7c0>"
      ]
     },
     "execution_count": 51,
     "metadata": {},
     "output_type": "execute_result"
    },
    {
     "data": {
      "image/png": "[encoded data removed]",
      "text/plain": [
       "<Figure size 432x288 with 1 Axes>"
      ]
     },
     "metadata": {
      "needs_background": "light"
     },
     "output_type": "display_data"
    }
   ],
   "source": [
    "plot_roc_curve(logreg, X_test, y_test)"
   ]
  },
  {
   "cell_type": "code",
   "execution_count": 53,
   "metadata": {
    "ExecuteTime": {
     "end_time": "2023-10-09T05:51:39.785793Z",
     "start_time": "2023-10-09T05:51:39.698101Z"
    },
    "hidden": true
   },
   "outputs": [
    {
     "data": {
      "text/plain": [
       "<sklearn.metrics._plot.confusion_matrix.ConfusionMatrixDisplay at 0x236a16319d0>"
      ]
     },
     "execution_count": 53,
     "metadata": {},
     "output_type": "execute_result"
    },
    {
     "data": {
      "image/png": "[encoded data removed]",
      "text/plain": [
       "<Figure size 432x288 with 2 Axes>"
      ]
     },
     "metadata": {
      "needs_background": "light"
     },
     "output_type": "display_data"
    }
   ],
   "source": [
    "plot_confusion_matrix(logreg, X_test, y_test)"
   ]
  },
  {
   "cell_type": "code",
   "execution_count": 54,
   "metadata": {
    "ExecuteTime": {
     "end_time": "2023-10-09T05:51:46.924976Z",
     "start_time": "2023-10-09T05:51:46.913870Z"
    },
    "hidden": true
   },
   "outputs": [
    {
     "name": "stdout",
     "output_type": "stream",
     "text": [
      "              precision    recall  f1-score   support\n",
      "\n",
      "       False       0.88      0.96      0.92       719\n",
      "        True       0.42      0.20      0.27       115\n",
      "\n",
      "    accuracy                           0.85       834\n",
      "   macro avg       0.65      0.58      0.59       834\n",
      "weighted avg       0.82      0.85      0.83       834\n",
      "\n"
     ]
    }
   ],
   "source": [
    "print(classification_report(y_test, logreg.predict(X_test)))"
   ]
  },
  {
   "cell_type": "markdown",
   "metadata": {
    "hidden": true
   },
   "source": [
    "Not a great recall score, I think we should err on the side of caution and try to identify as many cases as churn as possible without drastically decreasing our accuracy score to prevent as many people as possible from leaving the service by perhaps offering incentives on the positively correlated items that seem to have people leave the service"
   ]
  },
  {
   "cell_type": "markdown",
   "metadata": {
    "heading_collapsed": true,
    "hidden": true
   },
   "source": [
    "## No states Model"
   ]
  },
  {
   "cell_type": "code",
   "execution_count": 56,
   "metadata": {
    "ExecuteTime": {
     "end_time": "2023-10-09T05:55:04.721274Z",
     "start_time": "2023-10-09T05:55:04.713768Z"
    },
    "hidden": true
   },
   "outputs": [],
   "source": [
    "cat_cols_no_states = cat_cols[1:]"
   ]
  },
  {
   "cell_type": "code",
   "execution_count": 57,
   "metadata": {
    "ExecuteTime": {
     "end_time": "2023-10-09T05:55:09.337826Z",
     "start_time": "2023-10-09T05:55:09.321654Z"
    },
    "hidden": true
   },
   "outputs": [],
   "source": [
    "CT_no_states = ColumnTransformer(transformers = [\n",
    "    ('subpipe_num', subpipe_numeric,numeric_cols),\n",
    "    ('subpipe_cat', subpipe_cat, cat_cols_no_states)\n",
    "])"
   ]
  },
  {
   "cell_type": "code",
   "execution_count": 58,
   "metadata": {
    "ExecuteTime": {
     "end_time": "2023-10-09T05:55:12.982747Z",
     "start_time": "2023-10-09T05:55:12.969239Z"
    },
    "hidden": true
   },
   "outputs": [],
   "source": [
    "logreg_no_states = Pipeline([\n",
    "    ('ct', CT_no_states),\n",
    "    ('logreg', LogisticRegression())\n",
    "])"
   ]
  },
  {
   "cell_type": "code",
   "execution_count": 59,
   "metadata": {
    "ExecuteTime": {
     "end_time": "2023-10-09T05:55:18.231569Z",
     "start_time": "2023-10-09T05:55:18.153284Z"
    },
    "hidden": true
   },
   "outputs": [
    {
     "data": {
      "text/plain": [
       "Pipeline(steps=[('ct',\n",
       "                 ColumnTransformer(transformers=[('subpipe_num',\n",
       "                                                  Pipeline(steps=[('num_impute',\n",
       "                                                                   SimpleImputer()),\n",
       "                                                                  ('ss',\n",
       "                                                                   StandardScaler())]),\n",
       "                                                  ['account length',\n",
       "                                                   'number vmail messages',\n",
       "                                                   'total day minutes',\n",
       "                                                   'total day calls',\n",
       "                                                   'total day charge',\n",
       "                                                   'total eve minutes',\n",
       "                                                   'total eve calls',\n",
       "                                                   'total eve charge',\n",
       "                                                   'total night minutes',\n",
       "                                                   'total night calls',\n",
       "                                                   'total night charge',\n",
       "                                                   'total intl minutes',\n",
       "                                                   'total intl calls',\n",
       "                                                   'total intl charge',\n",
       "                                                   'customer service calls']),\n",
       "                                                 ('subpipe_cat',\n",
       "                                                  Pipeline(steps=[('cat_impute',\n",
       "                                                                   SimpleImputer(strategy='most_frequent')),\n",
       "                                                                  ('ohe',\n",
       "                                                                   OneHotEncoder(handle_unknown='ignore',\n",
       "                                                                                 sparse=False))]),\n",
       "                                                  ['international plan',\n",
       "                                                   'voice mail plan',\n",
       "                                                   'area code'])])),\n",
       "                ('logreg', LogisticRegression())])"
      ]
     },
     "execution_count": 59,
     "metadata": {},
     "output_type": "execute_result"
    }
   ],
   "source": [
    "logreg_no_states.fit(X_train, y_train)"
   ]
  },
  {
   "cell_type": "code",
   "execution_count": 60,
   "metadata": {
    "ExecuteTime": {
     "end_time": "2023-10-09T05:55:26.756848Z",
     "start_time": "2023-10-09T05:55:26.672797Z"
    },
    "hidden": true
   },
   "outputs": [
    {
     "data": {
      "text/plain": [
       "<sklearn.metrics._plot.roc_curve.RocCurveDisplay at 0x236a14a94f0>"
      ]
     },
     "execution_count": 60,
     "metadata": {},
     "output_type": "execute_result"
    },
    {
     "data": {
      "image/png": "[encoded data removed]",
      "text/plain": [
       "<Figure size 432x288 with 1 Axes>"
      ]
     },
     "metadata": {
      "needs_background": "light"
     },
     "output_type": "display_data"
    }
   ],
   "source": [
    "plot_roc_curve(logreg_no_states, X_test, y_test)"
   ]
  },
  {
   "cell_type": "code",
   "execution_count": 61,
   "metadata": {
    "ExecuteTime": {
     "end_time": "2023-10-09T05:55:33.475365Z",
     "start_time": "2023-10-09T05:55:33.394066Z"
    },
    "hidden": true
   },
   "outputs": [
    {
     "data": {
      "text/plain": [
       "<sklearn.metrics._plot.confusion_matrix.ConfusionMatrixDisplay at 0x236a2c5aac0>"
      ]
     },
     "execution_count": 61,
     "metadata": {},
     "output_type": "execute_result"
    },
    {
     "data": {
      "image/png": "[encoded data removed]",
      "text/plain": [
       "<Figure size 432x288 with 2 Axes>"
      ]
     },
     "metadata": {
      "needs_background": "light"
     },
     "output_type": "display_data"
    }
   ],
   "source": [
    "plot_confusion_matrix(logreg_no_states, X_test, y_test)"
   ]
  },
  {
   "cell_type": "code",
   "execution_count": 62,
   "metadata": {
    "ExecuteTime": {
     "end_time": "2023-10-09T05:55:48.331686Z",
     "start_time": "2023-10-09T05:55:48.322676Z"
    },
    "hidden": true
   },
   "outputs": [
    {
     "name": "stdout",
     "output_type": "stream",
     "text": [
      "              precision    recall  f1-score   support\n",
      "\n",
      "       False       0.88      0.97      0.93       719\n",
      "        True       0.55      0.19      0.28       115\n",
      "\n",
      "    accuracy                           0.87       834\n",
      "   macro avg       0.72      0.58      0.61       834\n",
      "weighted avg       0.84      0.87      0.84       834\n",
      "\n"
     ]
    }
   ],
   "source": [
    "print(classification_report(y_test, logreg_no_states.predict(X_test)))"
   ]
  },
  {
   "cell_type": "markdown",
   "metadata": {
    "hidden": true
   },
   "source": [
    "Looks like our recall decreased and our accuracy only marginally decreased. I think I will keep the states in the model as it seems to help a little bit."
   ]
  },
  {
   "cell_type": "markdown",
   "metadata": {
    "heading_collapsed": true,
    "hidden": true
   },
   "source": [
    "## Correlated columns Model"
   ]
  },
  {
   "cell_type": "code",
   "execution_count": 55,
   "metadata": {
    "ExecuteTime": {
     "end_time": "2023-10-09T05:53:17.818179Z",
     "start_time": "2023-10-09T05:53:16.658338Z"
    },
    "hidden": true
   },
   "outputs": [
    {
     "data": {
      "text/plain": [
       "<AxesSubplot:>"
      ]
     },
     "execution_count": 55,
     "metadata": {},
     "output_type": "execute_result"
    },
    {
     "data": {
      "image/png": "[encoded data removed]",
      "text/plain": [
       "<Figure size 864x576 with 2 Axes>"
      ]
     },
     "metadata": {
      "needs_background": "light"
     },
     "output_type": "display_data"
    }
   ],
   "source": [
    "fig, ax = plt.subplots(figsize = (12,8))\n",
    "sns.heatmap(churn_data.drop(['state', 'international plan', 'voice mail plan'], axis = 1).corr(), annot = True)"
   ]
  },
  {
   "cell_type": "code",
   "execution_count": 63,
   "metadata": {
    "ExecuteTime": {
     "end_time": "2023-10-09T05:57:35.291206Z",
     "start_time": "2023-10-09T05:57:35.273199Z"
    },
    "hidden": true
   },
   "outputs": [],
   "source": [
    "strong_numeric_cols = ['total day minutes', 'total day charge', 'total eve minutes','total eve charge',\n",
    "                       'customer service calls','number vmail messages', 'total intl calls']"
   ]
  },
  {
   "cell_type": "code",
   "execution_count": 64,
   "metadata": {
    "ExecuteTime": {
     "end_time": "2023-10-09T05:57:39.275773Z",
     "start_time": "2023-10-09T05:57:39.265097Z"
    },
    "hidden": true
   },
   "outputs": [],
   "source": [
    "CT_strong = ColumnTransformer(transformers = [\n",
    "    ('subpipe_num', subpipe_numeric,strong_numeric_cols),\n",
    "    ('subpipe_cat', subpipe_cat, cat_cols)\n",
    "])"
   ]
  },
  {
   "cell_type": "code",
   "execution_count": 65,
   "metadata": {
    "ExecuteTime": {
     "end_time": "2023-10-09T05:57:47.067684Z",
     "start_time": "2023-10-09T05:57:47.065679Z"
    },
    "hidden": true
   },
   "outputs": [],
   "source": [
    "logreg_corr = Pipeline([\n",
    "    ('ct',CT_strong),\n",
    "    ('logreg', LogisticRegression())\n",
    "])"
   ]
  },
  {
   "cell_type": "code",
   "execution_count": 66,
   "metadata": {
    "ExecuteTime": {
     "end_time": "2023-10-09T05:57:55.560503Z",
     "start_time": "2023-10-09T05:57:55.472904Z"
    },
    "hidden": true
   },
   "outputs": [
    {
     "data": {
      "text/plain": [
       "Pipeline(steps=[('ct',\n",
       "                 ColumnTransformer(transformers=[('subpipe_num',\n",
       "                                                  Pipeline(steps=[('num_impute',\n",
       "                                                                   SimpleImputer()),\n",
       "                                                                  ('ss',\n",
       "                                                                   StandardScaler())]),\n",
       "                                                  ['total day minutes',\n",
       "                                                   'total day charge',\n",
       "                                                   'total eve minutes',\n",
       "                                                   'total eve charge',\n",
       "                                                   'customer service calls',\n",
       "                                                   'number vmail messages',\n",
       "                                                   'total intl calls']),\n",
       "                                                 ('subpipe_cat',\n",
       "                                                  Pipeline(steps=[('cat_impute',\n",
       "                                                                   SimpleImputer(strategy='most_frequent')),\n",
       "                                                                  ('ohe',\n",
       "                                                                   OneHotEncoder(handle_unknown='ignore',\n",
       "                                                                                 sparse=False))]),\n",
       "                                                  ['state',\n",
       "                                                   'international plan',\n",
       "                                                   'voice mail plan',\n",
       "                                                   'area code'])])),\n",
       "                ('logreg', LogisticRegression())])"
      ]
     },
     "execution_count": 66,
     "metadata": {},
     "output_type": "execute_result"
    }
   ],
   "source": [
    "logreg_corr.fit(X_train, y_train)"
   ]
  },
  {
   "cell_type": "code",
   "execution_count": 67,
   "metadata": {
    "ExecuteTime": {
     "end_time": "2023-10-09T05:58:04.635783Z",
     "start_time": "2023-10-09T05:58:04.417239Z"
    },
    "hidden": true
   },
   "outputs": [
    {
     "data": {
      "text/plain": [
       "array([0.86893447, 0.86943472, 0.87043522, 0.87043522, 0.87      ])"
      ]
     },
     "execution_count": 67,
     "metadata": {},
     "output_type": "execute_result"
    }
   ],
   "source": [
    "cv_results = cross_validate(\n",
    "                    estimator=logreg_corr,\n",
    "                    X=X_train,\n",
    "                    y=y_train,\n",
    "                    cv=5,\n",
    "                    return_train_score=True\n",
    ")\n",
    "\n",
    "cv_results['train_score']"
   ]
  },
  {
   "cell_type": "code",
   "execution_count": 70,
   "metadata": {
    "ExecuteTime": {
     "end_time": "2023-10-09T05:58:18.768526Z",
     "start_time": "2023-10-09T05:58:18.688921Z"
    },
    "hidden": true
   },
   "outputs": [
    {
     "data": {
      "text/plain": [
       "<sklearn.metrics._plot.roc_curve.RocCurveDisplay at 0x236a28c17c0>"
      ]
     },
     "execution_count": 70,
     "metadata": {},
     "output_type": "execute_result"
    },
    {
     "data": {
      "image/png": "[encoded data removed]",
      "text/plain": [
       "<Figure size 432x288 with 1 Axes>"
      ]
     },
     "metadata": {
      "needs_background": "light"
     },
     "output_type": "display_data"
    }
   ],
   "source": [
    "plot_roc_curve(logreg_corr, X_test, y_test)"
   ]
  },
  {
   "cell_type": "code",
   "execution_count": 71,
   "metadata": {
    "ExecuteTime": {
     "end_time": "2023-10-09T05:58:25.418112Z",
     "start_time": "2023-10-09T05:58:25.328183Z"
    },
    "hidden": true
   },
   "outputs": [
    {
     "data": {
      "text/plain": [
       "<sklearn.metrics._plot.confusion_matrix.ConfusionMatrixDisplay at 0x236a2980040>"
      ]
     },
     "execution_count": 71,
     "metadata": {},
     "output_type": "execute_result"
    },
    {
     "data": {
      "image/png": "[encoded data removed]",
      "text/plain": [
       "<Figure size 432x288 with 2 Axes>"
      ]
     },
     "metadata": {
      "needs_background": "light"
     },
     "output_type": "display_data"
    }
   ],
   "source": [
    "plot_confusion_matrix(logreg_corr, X_test, y_test)"
   ]
  },
  {
   "cell_type": "code",
   "execution_count": 73,
   "metadata": {
    "ExecuteTime": {
     "end_time": "2023-10-09T05:58:33.703447Z",
     "start_time": "2023-10-09T05:58:33.689936Z"
    },
    "hidden": true
   },
   "outputs": [
    {
     "name": "stdout",
     "output_type": "stream",
     "text": [
      "              precision    recall  f1-score   support\n",
      "\n",
      "       False       0.88      0.96      0.92       719\n",
      "        True       0.45      0.18      0.26       115\n",
      "\n",
      "    accuracy                           0.86       834\n",
      "   macro avg       0.66      0.57      0.59       834\n",
      "weighted avg       0.82      0.86      0.83       834\n",
      "\n"
     ]
    }
   ],
   "source": [
    "print(classification_report(y_test, logreg_corr.predict(X_test)))"
   ]
  },
  {
   "cell_type": "markdown",
   "metadata": {
    "ExecuteTime": {
     "end_time": "2023-10-09T05:59:51.208946Z",
     "start_time": "2023-10-09T05:59:51.201931Z"
    },
    "hidden": true
   },
   "source": [
    "Seems like it had the opposite effect, I will try doing a polynomial features on the columns to see if that increases the recall at all."
   ]
  },
  {
   "cell_type": "markdown",
   "metadata": {
    "ExecuteTime": {
     "end_time": "2023-10-09T06:00:23.613011Z",
     "start_time": "2023-10-09T06:00:23.608505Z"
    },
    "heading_collapsed": true,
    "hidden": true
   },
   "source": [
    "## Polynomial Feature Model"
   ]
  },
  {
   "cell_type": "code",
   "execution_count": 76,
   "metadata": {
    "ExecuteTime": {
     "end_time": "2023-10-09T06:00:35.976023Z",
     "start_time": "2023-10-09T06:00:35.970928Z"
    },
    "hidden": true
   },
   "outputs": [],
   "source": [
    "subpipe_numeric_pf = Pipeline(steps =[\n",
    "    ('num_impute', SimpleImputer()),\n",
    "    ('ss', StandardScaler()),\n",
    "    ('pf', PolynomialFeatures())\n",
    "])\n"
   ]
  },
  {
   "cell_type": "code",
   "execution_count": 77,
   "metadata": {
    "ExecuteTime": {
     "end_time": "2023-10-09T06:00:39.628599Z",
     "start_time": "2023-10-09T06:00:39.620593Z"
    },
    "hidden": true
   },
   "outputs": [],
   "source": [
    "CT_pf = ColumnTransformer(transformers = [\n",
    "    ('subpipe_num', subpipe_numeric_pf,numeric_cols),\n",
    "    ('subpipe_cat', subpipe_cat, cat_cols)\n",
    "])"
   ]
  },
  {
   "cell_type": "code",
   "execution_count": 78,
   "metadata": {
    "ExecuteTime": {
     "end_time": "2023-10-09T06:00:43.121612Z",
     "start_time": "2023-10-09T06:00:43.108343Z"
    },
    "hidden": true
   },
   "outputs": [],
   "source": [
    "logreg_pf = Pipeline(steps = [\n",
    "    ('ct',CT_pf),\n",
    "    ('logreg', LogisticRegression())\n",
    "])"
   ]
  },
  {
   "cell_type": "code",
   "execution_count": 91,
   "metadata": {
    "ExecuteTime": {
     "end_time": "2023-10-09T06:02:28.332225Z",
     "start_time": "2023-10-09T06:02:28.212262Z"
    },
    "hidden": true
   },
   "outputs": [
    {
     "data": {
      "text/plain": [
       "Pipeline(steps=[('ct',\n",
       "                 ColumnTransformer(transformers=[('subpipe_num',\n",
       "                                                  Pipeline(steps=[('num_impute',\n",
       "                                                                   SimpleImputer()),\n",
       "                                                                  ('ss',\n",
       "                                                                   StandardScaler()),\n",
       "                                                                  ('pf',\n",
       "                                                                   PolynomialFeatures())]),\n",
       "                                                  ['account length',\n",
       "                                                   'number vmail messages',\n",
       "                                                   'total day minutes',\n",
       "                                                   'total day calls',\n",
       "                                                   'total day charge',\n",
       "                                                   'total eve minutes',\n",
       "                                                   'total eve calls',\n",
       "                                                   'total eve charge',\n",
       "                                                   'total night minutes',\n",
       "                                                   'total night calls',\n",
       "                                                   'total night charge',\n",
       "                                                   'total intl minutes',\n",
       "                                                   'total intl calls',\n",
       "                                                   'total intl charge',\n",
       "                                                   'customer service calls']),\n",
       "                                                 ('subpipe_cat',\n",
       "                                                  Pipeline(steps=[('cat_impute',\n",
       "                                                                   SimpleImputer(strategy='most_frequent')),\n",
       "                                                                  ('ohe',\n",
       "                                                                   OneHotEncoder(handle_unknown='ignore',\n",
       "                                                                                 sparse=False))]),\n",
       "                                                  ['state',\n",
       "                                                   'international plan',\n",
       "                                                   'voice mail plan',\n",
       "                                                   'area code'])])),\n",
       "                ('logreg', LogisticRegression())])"
      ]
     },
     "execution_count": 91,
     "metadata": {},
     "output_type": "execute_result"
    }
   ],
   "source": [
    "logreg_pf.fit(X_train,y_train)"
   ]
  },
  {
   "cell_type": "code",
   "execution_count": 92,
   "metadata": {
    "ExecuteTime": {
     "end_time": "2023-10-09T06:02:28.919867Z",
     "start_time": "2023-10-09T06:02:28.844595Z"
    },
    "hidden": true
   },
   "outputs": [
    {
     "data": {
      "text/plain": [
       "<sklearn.metrics._plot.roc_curve.RocCurveDisplay at 0x236a2e465e0>"
      ]
     },
     "execution_count": 92,
     "metadata": {},
     "output_type": "execute_result"
    },
    {
     "data": {
      "image/png": "[encoded data removed]",
      "text/plain": [
       "<Figure size 432x288 with 1 Axes>"
      ]
     },
     "metadata": {
      "needs_background": "light"
     },
     "output_type": "display_data"
    }
   ],
   "source": [
    "plot_roc_curve(logreg_pf, X_train, y_train)"
   ]
  },
  {
   "cell_type": "code",
   "execution_count": 93,
   "metadata": {
    "ExecuteTime": {
     "end_time": "2023-10-09T06:02:29.413667Z",
     "start_time": "2023-10-09T06:02:29.323967Z"
    },
    "hidden": true
   },
   "outputs": [
    {
     "data": {
      "text/plain": [
       "<sklearn.metrics._plot.confusion_matrix.ConfusionMatrixDisplay at 0x236a2fea190>"
      ]
     },
     "execution_count": 93,
     "metadata": {},
     "output_type": "execute_result"
    },
    {
     "data": {
      "image/png": "[encoded data removed]",
      "text/plain": [
       "<Figure size 432x288 with 2 Axes>"
      ]
     },
     "metadata": {
      "needs_background": "light"
     },
     "output_type": "display_data"
    }
   ],
   "source": [
    "plot_confusion_matrix(logreg_pf, X_test, y_test)"
   ]
  },
  {
   "cell_type": "code",
   "execution_count": 94,
   "metadata": {
    "ExecuteTime": {
     "end_time": "2023-10-09T06:02:30.052802Z",
     "start_time": "2023-10-09T06:02:29.980434Z"
    },
    "hidden": true
   },
   "outputs": [
    {
     "data": {
      "text/plain": [
       "<sklearn.metrics._plot.roc_curve.RocCurveDisplay at 0x236a2fea430>"
      ]
     },
     "execution_count": 94,
     "metadata": {},
     "output_type": "execute_result"
    },
    {
     "data": {
      "image/png": "[encoded data removed]",
      "text/plain": [
       "<Figure size 432x288 with 1 Axes>"
      ]
     },
     "metadata": {
      "needs_background": "light"
     },
     "output_type": "display_data"
    }
   ],
   "source": [
    "plot_roc_curve(logreg_pf, X_test, y_test)"
   ]
  },
  {
   "cell_type": "code",
   "execution_count": 95,
   "metadata": {
    "ExecuteTime": {
     "end_time": "2023-10-09T06:02:30.474588Z",
     "start_time": "2023-10-09T06:02:30.460239Z"
    },
    "hidden": true
   },
   "outputs": [
    {
     "name": "stdout",
     "output_type": "stream",
     "text": [
      "              precision    recall  f1-score   support\n",
      "\n",
      "       False       0.92      0.96      0.94       719\n",
      "        True       0.68      0.48      0.56       115\n",
      "\n",
      "    accuracy                           0.90       834\n",
      "   macro avg       0.80      0.72      0.75       834\n",
      "weighted avg       0.89      0.90      0.89       834\n",
      "\n"
     ]
    }
   ],
   "source": [
    "print(classification_report(y_test, logreg_pf.predict(X_test)))"
   ]
  },
  {
   "cell_type": "markdown",
   "metadata": {
    "ExecuteTime": {
     "end_time": "2023-10-09T06:01:16.605430Z",
     "start_time": "2023-10-09T06:01:16.587902Z"
    },
    "hidden": true
   },
   "source": [
    "Wow, these polynomial features have more than doubled the recall and also increased the accuracy, I'll try increasing the degrees one more time"
   ]
  },
  {
   "cell_type": "markdown",
   "metadata": {
    "ExecuteTime": {
     "end_time": "2023-10-09T06:01:31.490679Z",
     "start_time": "2023-10-09T06:01:31.487676Z"
    },
    "heading_collapsed": true,
    "hidden": true
   },
   "source": [
    "## Polynomial Feature Degree 3 Model"
   ]
  },
  {
   "cell_type": "code",
   "execution_count": 86,
   "metadata": {
    "ExecuteTime": {
     "end_time": "2023-10-09T06:01:39.521550Z",
     "start_time": "2023-10-09T06:01:39.512997Z"
    },
    "hidden": true
   },
   "outputs": [],
   "source": [
    "subpipe_numeric_pf2 = Pipeline(steps =[\n",
    "    ('num_impute', SimpleImputer()),\n",
    "    ('ss', StandardScaler()),\n",
    "    ('pf', PolynomialFeatures(degree = 3))\n",
    "])\n"
   ]
  },
  {
   "cell_type": "code",
   "execution_count": 87,
   "metadata": {
    "ExecuteTime": {
     "end_time": "2023-10-09T06:01:42.647319Z",
     "start_time": "2023-10-09T06:01:42.641816Z"
    },
    "hidden": true
   },
   "outputs": [],
   "source": [
    "CT_pf2 = ColumnTransformer(transformers = [\n",
    "    ('subpipe_num', subpipe_numeric_pf2,numeric_cols),\n",
    "    ('subpipe_cat', subpipe_cat, cat_cols)\n",
    "])"
   ]
  },
  {
   "cell_type": "code",
   "execution_count": 88,
   "metadata": {
    "ExecuteTime": {
     "end_time": "2023-10-09T06:01:45.643328Z",
     "start_time": "2023-10-09T06:01:45.625978Z"
    },
    "hidden": true
   },
   "outputs": [],
   "source": [
    "logreg_pf2 = Pipeline([\n",
    "    ('ct',CT_pf2),\n",
    "    ('logreg', LogisticRegression())\n",
    "])"
   ]
  },
  {
   "cell_type": "code",
   "execution_count": 96,
   "metadata": {
    "ExecuteTime": {
     "end_time": "2023-10-09T06:02:33.841088Z",
     "start_time": "2023-10-09T06:02:33.701164Z"
    },
    "hidden": true
   },
   "outputs": [
    {
     "data": {
      "text/plain": [
       "Pipeline(steps=[('ct',\n",
       "                 ColumnTransformer(transformers=[('subpipe_num',\n",
       "                                                  Pipeline(steps=[('num_impute',\n",
       "                                                                   SimpleImputer()),\n",
       "                                                                  ('ss',\n",
       "                                                                   StandardScaler()),\n",
       "                                                                  ('pf',\n",
       "                                                                   PolynomialFeatures(degree=3))]),\n",
       "                                                  ['account length',\n",
       "                                                   'number vmail messages',\n",
       "                                                   'total day minutes',\n",
       "                                                   'total day calls',\n",
       "                                                   'total day charge',\n",
       "                                                   'total eve minutes',\n",
       "                                                   'total eve calls',\n",
       "                                                   'total eve charge',\n",
       "                                                   'total night minutes',\n",
       "                                                   'total night calls',\n",
       "                                                   'total night charge',\n",
       "                                                   'total intl minutes',\n",
       "                                                   'total intl calls',\n",
       "                                                   'total intl charge',\n",
       "                                                   'customer service calls']),\n",
       "                                                 ('subpipe_cat',\n",
       "                                                  Pipeline(steps=[('cat_impute',\n",
       "                                                                   SimpleImputer(strategy='most_frequent')),\n",
       "                                                                  ('ohe',\n",
       "                                                                   OneHotEncoder(handle_unknown='ignore',\n",
       "                                                                                 sparse=False))]),\n",
       "                                                  ['state',\n",
       "                                                   'international plan',\n",
       "                                                   'voice mail plan',\n",
       "                                                   'area code'])])),\n",
       "                ('logreg', LogisticRegression())])"
      ]
     },
     "execution_count": 96,
     "metadata": {},
     "output_type": "execute_result"
    }
   ],
   "source": [
    "logreg_pf2.fit(X_train, y_train)"
   ]
  },
  {
   "cell_type": "code",
   "execution_count": 97,
   "metadata": {
    "ExecuteTime": {
     "end_time": "2023-10-09T06:02:34.323387Z",
     "start_time": "2023-10-09T06:02:34.228790Z"
    },
    "hidden": true
   },
   "outputs": [
    {
     "data": {
      "text/plain": [
       "<sklearn.metrics._plot.roc_curve.RocCurveDisplay at 0x236a2fd4a90>"
      ]
     },
     "execution_count": 97,
     "metadata": {},
     "output_type": "execute_result"
    },
    {
     "data": {
      "image/png": "[encoded data removed]",
      "text/plain": [
       "<Figure size 432x288 with 1 Axes>"
      ]
     },
     "metadata": {
      "needs_background": "light"
     },
     "output_type": "display_data"
    }
   ],
   "source": [
    "plot_roc_curve(logreg_pf2, X_train, y_train)"
   ]
  },
  {
   "cell_type": "code",
   "execution_count": 98,
   "metadata": {
    "ExecuteTime": {
     "end_time": "2023-10-09T06:02:40.463763Z",
     "start_time": "2023-10-09T06:02:40.375096Z"
    },
    "hidden": true
   },
   "outputs": [
    {
     "data": {
      "text/plain": [
       "<sklearn.metrics._plot.confusion_matrix.ConfusionMatrixDisplay at 0x236a2e9fc10>"
      ]
     },
     "execution_count": 98,
     "metadata": {},
     "output_type": "execute_result"
    },
    {
     "data": {
      "image/png": "[encoded data removed]",
      "text/plain": [
       "<Figure size 432x288 with 2 Axes>"
      ]
     },
     "metadata": {
      "needs_background": "light"
     },
     "output_type": "display_data"
    }
   ],
   "source": [
    "plot_confusion_matrix(logreg_pf2, X_test, y_test)"
   ]
  },
  {
   "cell_type": "code",
   "execution_count": 99,
   "metadata": {
    "ExecuteTime": {
     "end_time": "2023-10-09T06:02:45.679206Z",
     "start_time": "2023-10-09T06:02:45.600120Z"
    },
    "hidden": true
   },
   "outputs": [
    {
     "data": {
      "text/plain": [
       "<sklearn.metrics._plot.roc_curve.RocCurveDisplay at 0x236a2f74910>"
      ]
     },
     "execution_count": 99,
     "metadata": {},
     "output_type": "execute_result"
    },
    {
     "data": {
      "image/png": "[encoded data removed]",
      "text/plain": [
       "<Figure size 432x288 with 1 Axes>"
      ]
     },
     "metadata": {
      "needs_background": "light"
     },
     "output_type": "display_data"
    }
   ],
   "source": [
    "plot_roc_curve(logreg_pf2, X_test, y_test)"
   ]
  },
  {
   "cell_type": "code",
   "execution_count": 100,
   "metadata": {
    "ExecuteTime": {
     "end_time": "2023-10-09T06:02:49.639350Z",
     "start_time": "2023-10-09T06:02:49.617240Z"
    },
    "hidden": true
   },
   "outputs": [
    {
     "name": "stdout",
     "output_type": "stream",
     "text": [
      "              precision    recall  f1-score   support\n",
      "\n",
      "       False       0.93      0.91      0.92       719\n",
      "        True       0.49      0.57      0.53       115\n",
      "\n",
      "    accuracy                           0.86       834\n",
      "   macro avg       0.71      0.74      0.72       834\n",
      "weighted avg       0.87      0.86      0.86       834\n",
      "\n"
     ]
    }
   ],
   "source": [
    "print(classification_report(y_test, logreg_pf2.predict(X_test)))"
   ]
  },
  {
   "cell_type": "markdown",
   "metadata": {
    "hidden": true
   },
   "source": [
    "A degree of 3 seems to be a good point as the accuracy is starting to decrease and recall didn't increase as much between these two values, for fun let's go one step deeper tho"
   ]
  },
  {
   "cell_type": "markdown",
   "metadata": {
    "heading_collapsed": true,
    "hidden": true
   },
   "source": [
    "## Polynomial Features Degree 4 Model"
   ]
  },
  {
   "cell_type": "code",
   "execution_count": 101,
   "metadata": {
    "ExecuteTime": {
     "end_time": "2023-10-09T06:03:37.678989Z",
     "start_time": "2023-10-09T06:03:37.666976Z"
    },
    "hidden": true
   },
   "outputs": [],
   "source": [
    "subpipe_numeric_pf3 = Pipeline(steps =[\n",
    "    ('num_impute', SimpleImputer()),\n",
    "    ('ss', StandardScaler()),\n",
    "    ('pf', PolynomialFeatures(degree = 4))\n",
    "])\n"
   ]
  },
  {
   "cell_type": "code",
   "execution_count": 102,
   "metadata": {
    "ExecuteTime": {
     "end_time": "2023-10-09T06:03:42.308663Z",
     "start_time": "2023-10-09T06:03:42.291976Z"
    },
    "hidden": true
   },
   "outputs": [],
   "source": [
    "CT_pf3 = ColumnTransformer(transformers = [\n",
    "    ('subpipe_num', subpipe_numeric_pf3,numeric_cols),\n",
    "    ('subpipe_cat', subpipe_cat, cat_cols)\n",
    "])"
   ]
  },
  {
   "cell_type": "code",
   "execution_count": 103,
   "metadata": {
    "ExecuteTime": {
     "end_time": "2023-10-09T06:03:45.928328Z",
     "start_time": "2023-10-09T06:03:45.916818Z"
    },
    "hidden": true
   },
   "outputs": [],
   "source": [
    "logreg_pf3 = Pipeline([\n",
    "    ('ct',CT_pf3),\n",
    "    ('logreg', LogisticRegression(C = .0001))\n",
    "])"
   ]
  },
  {
   "cell_type": "code",
   "execution_count": 104,
   "metadata": {
    "ExecuteTime": {
     "end_time": "2023-10-09T06:03:50.571276Z",
     "start_time": "2023-10-09T06:03:50.126029Z"
    },
    "hidden": true
   },
   "outputs": [
    {
     "data": {
      "text/plain": [
       "Pipeline(steps=[('ct',\n",
       "                 ColumnTransformer(transformers=[('subpipe_num',\n",
       "                                                  Pipeline(steps=[('num_impute',\n",
       "                                                                   SimpleImputer()),\n",
       "                                                                  ('ss',\n",
       "                                                                   StandardScaler()),\n",
       "                                                                  ('pf',\n",
       "                                                                   PolynomialFeatures(degree=4))]),\n",
       "                                                  ['account length',\n",
       "                                                   'number vmail messages',\n",
       "                                                   'total day minutes',\n",
       "                                                   'total day calls',\n",
       "                                                   'total day charge',\n",
       "                                                   'total eve minutes',\n",
       "                                                   'total eve calls',\n",
       "                                                   'total eve charge',\n",
       "                                                   'total night minutes',\n",
       "                                                   'total night...',\n",
       "                                                   'total night charge',\n",
       "                                                   'total intl minutes',\n",
       "                                                   'total intl calls',\n",
       "                                                   'total intl charge',\n",
       "                                                   'customer service calls']),\n",
       "                                                 ('subpipe_cat',\n",
       "                                                  Pipeline(steps=[('cat_impute',\n",
       "                                                                   SimpleImputer(strategy='most_frequent')),\n",
       "                                                                  ('ohe',\n",
       "                                                                   OneHotEncoder(handle_unknown='ignore',\n",
       "                                                                                 sparse=False))]),\n",
       "                                                  ['state',\n",
       "                                                   'international plan',\n",
       "                                                   'voice mail plan',\n",
       "                                                   'area code'])])),\n",
       "                ('logreg', LogisticRegression(C=0.0001))])"
      ]
     },
     "execution_count": 104,
     "metadata": {},
     "output_type": "execute_result"
    }
   ],
   "source": [
    "logreg_pf3.fit(X_train, y_train)"
   ]
  },
  {
   "cell_type": "code",
   "execution_count": 105,
   "metadata": {
    "ExecuteTime": {
     "end_time": "2023-10-09T06:03:55.377425Z",
     "start_time": "2023-10-09T06:03:55.231761Z"
    },
    "hidden": true
   },
   "outputs": [
    {
     "data": {
      "text/plain": [
       "<sklearn.metrics._plot.roc_curve.RocCurveDisplay at 0x236a31e1760>"
      ]
     },
     "execution_count": 105,
     "metadata": {},
     "output_type": "execute_result"
    },
    {
     "data": {
      "image/png": "[encoded data removed]",
      "text/plain": [
       "<Figure size 432x288 with 1 Axes>"
      ]
     },
     "metadata": {
      "needs_background": "light"
     },
     "output_type": "display_data"
    }
   ],
   "source": [
    "plot_roc_curve(logreg_pf3, X_train, y_train)"
   ]
  },
  {
   "cell_type": "code",
   "execution_count": 106,
   "metadata": {
    "ExecuteTime": {
     "end_time": "2023-10-09T06:03:59.264194Z",
     "start_time": "2023-10-09T06:03:59.112025Z"
    },
    "hidden": true
   },
   "outputs": [
    {
     "data": {
      "text/plain": [
       "<sklearn.metrics._plot.roc_curve.RocCurveDisplay at 0x236a31ebca0>"
      ]
     },
     "execution_count": 106,
     "metadata": {},
     "output_type": "execute_result"
    },
    {
     "data": {
      "image/png": "[encoded data removed]",
      "text/plain": [
       "<Figure size 432x288 with 1 Axes>"
      ]
     },
     "metadata": {
      "needs_background": "light"
     },
     "output_type": "display_data"
    }
   ],
   "source": [
    "plot_roc_curve(logreg_pf3, X_test, y_test)"
   ]
  },
  {
   "cell_type": "code",
   "execution_count": 107,
   "metadata": {
    "ExecuteTime": {
     "end_time": "2023-10-09T06:04:02.983504Z",
     "start_time": "2023-10-09T06:04:02.952476Z"
    },
    "hidden": true
   },
   "outputs": [
    {
     "name": "stdout",
     "output_type": "stream",
     "text": [
      "              precision    recall  f1-score   support\n",
      "\n",
      "       False       0.90      0.99      0.94       719\n",
      "        True       0.82      0.32      0.46       115\n",
      "\n",
      "    accuracy                           0.90       834\n",
      "   macro avg       0.86      0.66      0.70       834\n",
      "weighted avg       0.89      0.90      0.88       834\n",
      "\n"
     ]
    }
   ],
   "source": [
    "print(classification_report(y_test, logreg_pf3.predict(X_test)))"
   ]
  },
  {
   "cell_type": "markdown",
   "metadata": {
    "ExecuteTime": {
     "end_time": "2023-10-09T06:04:07.614086Z",
     "start_time": "2023-10-09T06:04:07.603573Z"
    },
    "hidden": true
   },
   "source": [
    "Seems like we should stick with a maximum degree of 3"
   ]
  },
  {
   "cell_type": "markdown",
   "metadata": {
    "heading_collapsed": true
   },
   "source": [
    "# Grid Search on Polynomial Features Degree of 3 Model"
   ]
  },
  {
   "cell_type": "code",
   "execution_count": 111,
   "metadata": {
    "ExecuteTime": {
     "end_time": "2023-10-09T06:05:36.264193Z",
     "start_time": "2023-10-09T06:05:36.253747Z"
    },
    "hidden": true
   },
   "outputs": [],
   "source": [
    "grid = {\n",
    "    'logreg__penalty' : ['none','l1','l2','elasticnet'],\n",
    "    'logreg__max_iter' : [10,100,1000],\n",
    "    'logreg__C' : [0.000001, 0.00001, 0.0001, 0.001],\n",
    "    'logreg__tol' : [.0001, .001, .01, .1],\n",
    "    'logreg__solver': ['lbfgs', 'liblinear', 'newton-cg', 'newton-cholesky', 'sag', 'saga']\n",
    "}"
   ]
  },
  {
   "cell_type": "code",
   "execution_count": 112,
   "metadata": {
    "ExecuteTime": {
     "end_time": "2023-10-09T06:05:36.401894Z",
     "start_time": "2023-10-09T06:05:36.389375Z"
    },
    "hidden": true
   },
   "outputs": [],
   "source": [
    "gs = GridSearchCV(logreg_pf2, param_grid = grid, verbose =1, cv = 3)"
   ]
  },
  {
   "cell_type": "code",
   "execution_count": 113,
   "metadata": {
    "ExecuteTime": {
     "end_time": "2023-10-09T06:15:29.073652Z",
     "start_time": "2023-10-09T06:05:46.848972Z"
    },
    "hidden": true
   },
   "outputs": [
    {
     "name": "stdout",
     "output_type": "stream",
     "text": [
      "Fitting 3 folds for each of 1152 candidates, totalling 3456 fits\n"
     ]
    },
    {
     "name": "stderr",
     "output_type": "stream",
     "text": [
      "[Parallel(n_jobs=1)]: Using backend SequentialBackend with 1 concurrent workers.\n",
      "[Parallel(n_jobs=1)]: Done 3456 out of 3456 | elapsed:  9.7min finished\n"
     ]
    },
    {
     "data": {
      "text/plain": [
       "GridSearchCV(cv=3,\n",
       "             estimator=Pipeline(steps=[('ct',\n",
       "                                        ColumnTransformer(transformers=[('subpipe_num',\n",
       "                                                                         Pipeline(steps=[('num_impute',\n",
       "                                                                                          SimpleImputer()),\n",
       "                                                                                         ('ss',\n",
       "                                                                                          StandardScaler()),\n",
       "                                                                                         ('pf',\n",
       "                                                                                          PolynomialFeatures(degree=3))]),\n",
       "                                                                         ['account '\n",
       "                                                                          'length',\n",
       "                                                                          'number '\n",
       "                                                                          'vmail '\n",
       "                                                                          'messages',\n",
       "                                                                          'total '\n",
       "                                                                          'day '\n",
       "                                                                          'minutes',\n",
       "                                                                          'total '\n",
       "                                                                          'day '\n",
       "                                                                          'calls',\n",
       "                                                                          'total '\n",
       "                                                                          'day '\n",
       "                                                                          'charge',\n",
       "                                                                          'total '\n",
       "                                                                          'eve '\n",
       "                                                                          'minutes',\n",
       "                                                                          'total '\n",
       "                                                                          'eve '\n",
       "                                                                          'c...\n",
       "                                                                          'international '\n",
       "                                                                          'plan',\n",
       "                                                                          'voice '\n",
       "                                                                          'mail '\n",
       "                                                                          'plan',\n",
       "                                                                          'area '\n",
       "                                                                          'code'])])),\n",
       "                                       ('logreg', LogisticRegression())]),\n",
       "             param_grid={'logreg__C': [1e-06, 1e-05, 0.0001, 0.001],\n",
       "                         'logreg__max_iter': [10, 100, 1000],\n",
       "                         'logreg__penalty': ['none', 'l1', 'l2', 'elasticnet'],\n",
       "                         'logreg__solver': ['lbfgs', 'liblinear', 'newton-cg',\n",
       "                                            'newton-cholesky', 'sag', 'saga'],\n",
       "                         'logreg__tol': [0.0001, 0.001, 0.01, 0.1]},\n",
       "             verbose=1)"
      ]
     },
     "execution_count": 113,
     "metadata": {},
     "output_type": "execute_result"
    }
   ],
   "source": [
    "# Commenting out grid serach to save time hopefully \n",
    "\n",
    "#gs.fit(X_train,y_train)"
   ]
  },
  {
   "cell_type": "code",
   "execution_count": 115,
   "metadata": {
    "ExecuteTime": {
     "end_time": "2023-10-09T06:17:04.215097Z",
     "start_time": "2023-10-09T06:17:04.205592Z"
    },
    "hidden": true
   },
   "outputs": [
    {
     "name": "stdout",
     "output_type": "stream",
     "text": [
      "{'logreg__C': 1e-05, 'logreg__max_iter': 100, 'logreg__penalty': 'none', 'logreg__solver': 'sag', 'logreg__tol': 0.001}\n",
      "0.9143657462985194\n"
     ]
    }
   ],
   "source": [
    "#print(gs.best_params_)\n",
    "#print(gs.best_score_)"
   ]
  },
  {
   "cell_type": "markdown",
   "metadata": {
    "hidden": true
   },
   "source": [
    "## Best Model with grid search parameters #1"
   ]
  },
  {
   "cell_type": "code",
   "execution_count": 116,
   "metadata": {
    "ExecuteTime": {
     "end_time": "2023-10-09T06:17:04.728753Z",
     "start_time": "2023-10-09T06:17:04.726252Z"
    },
    "hidden": true
   },
   "outputs": [],
   "source": [
    "CT_cols = ColumnTransformer(transformers=[\n",
    "    ('num_cols',subpipe_numeric_pf2, numeric_cols),\n",
    "    ('ohe', OneHotEncoder(), cat_cols)\n",
    "])"
   ]
  },
  {
   "cell_type": "code",
   "execution_count": 117,
   "metadata": {
    "ExecuteTime": {
     "end_time": "2023-10-09T06:17:04.912124Z",
     "start_time": "2023-10-09T06:17:04.900112Z"
    },
    "hidden": true
   },
   "outputs": [],
   "source": [
    "best_model = Pipeline([\n",
    "    ('ct', CT_cols),\n",
    "    ('logreg', LogisticRegression(C = 1e-05, max_iter= 100, penalty= 'none', solver= 'sag', tol= 0.0001))\n",
    "])"
   ]
  },
  {
   "cell_type": "code",
   "execution_count": 118,
   "metadata": {
    "ExecuteTime": {
     "end_time": "2023-10-09T06:17:05.998676Z",
     "start_time": "2023-10-09T06:17:05.084589Z"
    },
    "hidden": true
   },
   "outputs": [
    {
     "data": {
      "text/plain": [
       "Pipeline(steps=[('ct',\n",
       "                 ColumnTransformer(transformers=[('num_cols',\n",
       "                                                  Pipeline(steps=[('num_impute',\n",
       "                                                                   SimpleImputer()),\n",
       "                                                                  ('ss',\n",
       "                                                                   StandardScaler()),\n",
       "                                                                  ('pf',\n",
       "                                                                   PolynomialFeatures(degree=3))]),\n",
       "                                                  ['account length',\n",
       "                                                   'number vmail messages',\n",
       "                                                   'total day minutes',\n",
       "                                                   'total day calls',\n",
       "                                                   'total day charge',\n",
       "                                                   'total eve minutes',\n",
       "                                                   'total eve calls',\n",
       "                                                   'total eve charge',\n",
       "                                                   'total night minutes',\n",
       "                                                   'total night calls',\n",
       "                                                   'total night charge',\n",
       "                                                   'total intl minutes',\n",
       "                                                   'total intl calls',\n",
       "                                                   'total intl charge',\n",
       "                                                   'customer service calls']),\n",
       "                                                 ('ohe', OneHotEncoder(),\n",
       "                                                  ['state',\n",
       "                                                   'international plan',\n",
       "                                                   'voice mail plan',\n",
       "                                                   'area code'])])),\n",
       "                ('logreg',\n",
       "                 LogisticRegression(C=1e-05, penalty='none', solver='sag'))])"
      ]
     },
     "execution_count": 118,
     "metadata": {},
     "output_type": "execute_result"
    }
   ],
   "source": [
    "best_model.fit(X_train, y_train)"
   ]
  },
  {
   "cell_type": "code",
   "execution_count": 119,
   "metadata": {
    "ExecuteTime": {
     "end_time": "2023-10-09T06:17:06.077815Z",
     "start_time": "2023-10-09T06:17:05.999676Z"
    },
    "hidden": true
   },
   "outputs": [
    {
     "data": {
      "text/plain": [
       "<sklearn.metrics._plot.roc_curve.RocCurveDisplay at 0x236a31ebc70>"
      ]
     },
     "execution_count": 119,
     "metadata": {},
     "output_type": "execute_result"
    },
    {
     "data": {
      "image/png": "[encoded data removed]",
      "text/plain": [
       "<Figure size 432x288 with 1 Axes>"
      ]
     },
     "metadata": {
      "needs_background": "light"
     },
     "output_type": "display_data"
    }
   ],
   "source": [
    "plot_roc_curve(best_model, X_test, y_test)"
   ]
  },
  {
   "cell_type": "code",
   "execution_count": 120,
   "metadata": {
    "ExecuteTime": {
     "end_time": "2023-10-09T06:17:06.093379Z",
     "start_time": "2023-10-09T06:17:06.078815Z"
    },
    "hidden": true
   },
   "outputs": [
    {
     "name": "stdout",
     "output_type": "stream",
     "text": [
      "              precision    recall  f1-score   support\n",
      "\n",
      "       False       0.92      0.97      0.95       719\n",
      "        True       0.72      0.50      0.59       115\n",
      "\n",
      "    accuracy                           0.90       834\n",
      "   macro avg       0.82      0.74      0.77       834\n",
      "weighted avg       0.90      0.90      0.90       834\n",
      "\n"
     ]
    }
   ],
   "source": [
    "print(classification_report(y_test, best_model.predict(X_test)))"
   ]
  },
  {
   "cell_type": "markdown",
   "metadata": {
    "hidden": true
   },
   "source": [
    "## Best Model with grid search parameters #2"
   ]
  },
  {
   "cell_type": "code",
   "execution_count": 121,
   "metadata": {
    "ExecuteTime": {
     "end_time": "2023-10-09T06:17:06.108851Z",
     "start_time": "2023-10-09T06:17:06.094380Z"
    },
    "hidden": true
   },
   "outputs": [],
   "source": [
    "logreg_pf2_gs = Pipeline([\n",
    "    ('ct',CT_pf2),\n",
    "    ('logreg', LogisticRegression(C = 1e-05, max_iter= 100, penalty= 'none', solver= 'sag', tol= 0.0001))\n",
    "])"
   ]
  },
  {
   "cell_type": "code",
   "execution_count": 122,
   "metadata": {
    "ExecuteTime": {
     "end_time": "2023-10-09T06:17:07.399906Z",
     "start_time": "2023-10-09T06:17:06.475606Z"
    },
    "hidden": true
   },
   "outputs": [
    {
     "data": {
      "text/plain": [
       "Pipeline(steps=[('ct',\n",
       "                 ColumnTransformer(transformers=[('subpipe_num',\n",
       "                                                  Pipeline(steps=[('num_impute',\n",
       "                                                                   SimpleImputer()),\n",
       "                                                                  ('ss',\n",
       "                                                                   StandardScaler()),\n",
       "                                                                  ('pf',\n",
       "                                                                   PolynomialFeatures(degree=3))]),\n",
       "                                                  ['account length',\n",
       "                                                   'number vmail messages',\n",
       "                                                   'total day minutes',\n",
       "                                                   'total day calls',\n",
       "                                                   'total day charge',\n",
       "                                                   'total eve minutes',\n",
       "                                                   'total eve calls',\n",
       "                                                   'total eve charge',\n",
       "                                                   'total night minutes',\n",
       "                                                   'total night...\n",
       "                                                   'total intl minutes',\n",
       "                                                   'total intl calls',\n",
       "                                                   'total intl charge',\n",
       "                                                   'customer service calls']),\n",
       "                                                 ('subpipe_cat',\n",
       "                                                  Pipeline(steps=[('cat_impute',\n",
       "                                                                   SimpleImputer(strategy='most_frequent')),\n",
       "                                                                  ('ohe',\n",
       "                                                                   OneHotEncoder(handle_unknown='ignore',\n",
       "                                                                                 sparse=False))]),\n",
       "                                                  ['state',\n",
       "                                                   'international plan',\n",
       "                                                   'voice mail plan',\n",
       "                                                   'area code'])])),\n",
       "                ('logreg',\n",
       "                 LogisticRegression(C=1e-05, penalty='none', solver='sag'))])"
      ]
     },
     "execution_count": 122,
     "metadata": {},
     "output_type": "execute_result"
    }
   ],
   "source": [
    "logreg_pf2_gs.fit(X_train,y_train)"
   ]
  },
  {
   "cell_type": "code",
   "execution_count": 123,
   "metadata": {
    "ExecuteTime": {
     "end_time": "2023-10-09T06:17:07.491251Z",
     "start_time": "2023-10-09T06:17:07.400906Z"
    },
    "hidden": true
   },
   "outputs": [
    {
     "data": {
      "text/plain": [
       "<sklearn.metrics._plot.roc_curve.RocCurveDisplay at 0x236a3fa2760>"
      ]
     },
     "execution_count": 123,
     "metadata": {},
     "output_type": "execute_result"
    },
    {
     "data": {
      "image/png": "[encoded data removed]",
      "text/plain": [
       "<Figure size 432x288 with 1 Axes>"
      ]
     },
     "metadata": {
      "needs_background": "light"
     },
     "output_type": "display_data"
    }
   ],
   "source": [
    "plot_roc_curve(logreg_pf2_gs, X_test, y_test)"
   ]
  },
  {
   "cell_type": "code",
   "execution_count": 124,
   "metadata": {
    "ExecuteTime": {
     "end_time": "2023-10-09T06:17:07.506765Z",
     "start_time": "2023-10-09T06:17:07.491251Z"
    },
    "hidden": true
   },
   "outputs": [
    {
     "name": "stdout",
     "output_type": "stream",
     "text": [
      "              precision    recall  f1-score   support\n",
      "\n",
      "       False       0.92      0.97      0.95       719\n",
      "        True       0.74      0.50      0.60       115\n",
      "\n",
      "    accuracy                           0.91       834\n",
      "   macro avg       0.83      0.74      0.77       834\n",
      "weighted avg       0.90      0.91      0.90       834\n",
      "\n"
     ]
    }
   ],
   "source": [
    "print(classification_report(y_test, logreg_pf2_gs.predict(X_test)))"
   ]
  },
  {
   "cell_type": "code",
   "execution_count": 125,
   "metadata": {
    "ExecuteTime": {
     "end_time": "2023-10-09T06:17:07.602316Z",
     "start_time": "2023-10-09T06:17:07.506765Z"
    },
    "hidden": true
   },
   "outputs": [
    {
     "data": {
      "text/plain": [
       "<sklearn.metrics._plot.confusion_matrix.ConfusionMatrixDisplay at 0x236a2fe2070>"
      ]
     },
     "execution_count": 125,
     "metadata": {},
     "output_type": "execute_result"
    },
    {
     "data": {
      "image/png": "[encoded data removed]",
      "text/plain": [
       "<Figure size 432x288 with 2 Axes>"
      ]
     },
     "metadata": {
      "needs_background": "light"
     },
     "output_type": "display_data"
    }
   ],
   "source": [
    "plot_confusion_matrix(logreg_pf2_gs, X_test, y_test)"
   ]
  },
  {
   "cell_type": "markdown",
   "metadata": {
    "heading_collapsed": true
   },
   "source": [
    "# Interpreting coefficients"
   ]
  },
  {
   "cell_type": "code",
   "execution_count": 126,
   "metadata": {
    "ExecuteTime": {
     "end_time": "2023-10-09T06:17:07.617961Z",
     "start_time": "2023-10-09T06:17:07.602817Z"
    },
    "hidden": true
   },
   "outputs": [],
   "source": [
    "categorical_feature_names = CT_pf.named_transformers_['subpipe_cat'].named_steps['ohe'].get_feature_names(input_features = cat_cols)\n",
    "poly_feature_names = CT_pf.named_transformers_['subpipe_num'].named_steps['pf'].get_feature_names(input_features = numeric_cols)\n",
    "allcols = poly_feature_names + list(categorical_feature_names)\n",
    "\n",
    "# Getting the feature names to relate to the coefficients"
   ]
  },
  {
   "cell_type": "code",
   "execution_count": 127,
   "metadata": {
    "ExecuteTime": {
     "end_time": "2023-10-09T06:17:07.647908Z",
     "start_time": "2023-10-09T06:17:07.636398Z"
    },
    "hidden": true
   },
   "outputs": [],
   "source": [
    "# Making a  model to pull out the coefficients for the model\n",
    "\n",
    "coefs = LogisticRegression(C = 1e-05, max_iter= 100, penalty= 'none', solver= 'sag', tol= 0.0001)"
   ]
  },
  {
   "cell_type": "code",
   "execution_count": 129,
   "metadata": {
    "ExecuteTime": {
     "end_time": "2023-10-09T06:17:33.503229Z",
     "start_time": "2023-10-09T06:17:33.490028Z"
    },
    "hidden": true
   },
   "outputs": [
    {
     "data": {
      "text/plain": [
       "[('international plan_no', -74.18933193439783),\n",
       " ('state_HI', -73.14575743625949),\n",
       " ('state_VT', -62.260026072332174),\n",
       " ('state_AK', -50.03269737335461),\n",
       " ('state_AZ', -47.83689593781262),\n",
       " ('voice mail plan_yes', -45.64119703778737),\n",
       " ('state_NM', -43.46671922599612),\n",
       " ('state_UT', -39.97774883085352),\n",
       " ('state_AL', -39.60448168674764),\n",
       " ('state_NC', -37.16403146108757),\n",
       " ('state_IL', -36.392161741164784),\n",
       " ('state_VA', -36.162591354776765),\n",
       " ('state_FL', -36.058990216148565),\n",
       " ('state_CO', -35.929461361583094),\n",
       " ('total intl calls', -34.4959145453973),\n",
       " ('state_DC', -33.03044668201473),\n",
       " ('state_WV', -32.75866071659983),\n",
       " ('state_WI', -31.47805849270654),\n",
       " ('state_ND', -30.42181066438391),\n",
       " ('total day minutes customer service calls', -30.108474749752567),\n",
       " ('total day charge customer service calls', -29.261344880779085),\n",
       " ('state_WY', -28.062670043073933),\n",
       " ('state_DE', -26.885463461550387),\n",
       " ('state_RI', -23.566426215000757),\n",
       " ('number vmail messages total day minutes', -21.678639696923018),\n",
       " ('number vmail messages total day charge', -21.65422747182553),\n",
       " ('state_NE', -21.610885766071284),\n",
       " ('state_MO', -20.41832205189489),\n",
       " ('state_CT', -17.096724909868797),\n",
       " ('total eve minutes customer service calls', -16.050243782593874),\n",
       " ('total night calls total intl calls', -14.31882571359523),\n",
       " ('number vmail messages total eve minutes', -14.300984580842336),\n",
       " ('number vmail messages total eve charge', -14.000652935707103),\n",
       " ('total eve charge customer service calls', -13.74382608873117),\n",
       " ('1', -9.437850565230244),\n",
       " ('total intl charge customer service calls', -9.30202024115303),\n",
       " ('account length customer service calls', -9.261285766576044),\n",
       " ('total day calls total night calls', -9.190118820707294),\n",
       " ('number vmail messages', -8.494914050950442),\n",
       " ('total intl minutes customer service calls', -7.942565596550299),\n",
       " ('account length total night minutes', -7.532567403274848),\n",
       " ('account length total intl minutes', -7.494000707395443),\n",
       " ('account length total night charge', -7.328242698597299),\n",
       " ('total day minutes total eve calls', -7.08859253644607),\n",
       " ('total day charge total eve calls', -6.956801949050084),\n",
       " ('state_TN', -6.851088996012367),\n",
       " ('total eve calls^2', -5.641983972313702),\n",
       " ('account length total night calls', -5.366024546001036),\n",
       " ('number vmail messages total night charge', -5.354761285984155),\n",
       " ('area code_415', -5.350581101546004),\n",
       " ('total night charge total intl minutes', -5.263791911744075),\n",
       " ('state_KY', -5.205761162918354),\n",
       " ('total day charge total intl minutes', -5.061387157290975),\n",
       " ('total night charge customer service calls', -4.910186718646969),\n",
       " ('total day minutes total intl minutes', -4.7714809451118505),\n",
       " ('state_IN', -4.608055428326708),\n",
       " ('total eve calls total night calls', -4.548325420561794),\n",
       " ('number vmail messages total day calls', -4.390106688988904),\n",
       " ('total night charge^2', -4.3833949546692725),\n",
       " ('total eve calls total night charge', -4.248140755420504),\n",
       " ('total eve calls customer service calls', -3.9754055977959224),\n",
       " ('account length total eve charge', -3.885750969410806),\n",
       " ('total intl calls customer service calls', -3.8635881676104433),\n",
       " ('total night minutes customer service calls', -3.475941054330034),\n",
       " ('total night minutes total intl minutes', -3.3964494134300582),\n",
       " ('area code_510', -3.394359598645569),\n",
       " ('number vmail messages total intl calls', -3.2601152940648803),\n",
       " ('total eve calls total night minutes', -3.1902319226646214),\n",
       " ('total night charge total intl charge', -3.13218165663971),\n",
       " ('total night minutes total night charge', -3.0662911120141634),\n",
       " ('total day minutes total night calls', -3.0241822610811986),\n",
       " ('number vmail messages total night minutes', -2.9966837061206397),\n",
       " ('state_NH', -2.6317107668273554),\n",
       " ('account length total intl charge', -2.5573248667891346),\n",
       " ('total day calls total night minutes', -2.5551948391893453),\n",
       " ('total night charge total intl calls', -2.5442236518208428),\n",
       " ('total eve charge total intl charge', -2.4567376716287836),\n",
       " ('total day charge total night calls', -2.4490700942692123),\n",
       " ('total eve minutes total intl charge', -2.439269296124791),\n",
       " ('total eve minutes total intl calls', -2.2869580456077787),\n",
       " ('total eve minutes total night charge', -2.2068418234933995),\n",
       " ('total night calls^2', -2.1977579438504424),\n",
       " ('state_GA', -1.9947191895805738),\n",
       " ('number vmail messages total intl charge', -1.7647612389272926),\n",
       " ('total night minutes^2', -1.7291524518517454),\n",
       " ('total night minutes total intl calls', -1.704915942623253),\n",
       " ('total day calls total night charge', -1.3404421257910415),\n",
       " ('total day calls total intl minutes', -1.2999807540254094),\n",
       " ('account length total eve minutes', -1.26933762557766),\n",
       " ('total night minutes total intl charge', -1.2351246328233922),\n",
       " ('total eve calls total intl minutes', -1.1739697137690075),\n",
       " ('total intl minutes^2', -1.0805658773333837),\n",
       " ('total night calls total night charge', -1.016937102632498),\n",
       " ('area code_408', -0.9564300173841023),\n",
       " ('total eve charge^2', -0.8243946139817937),\n",
       " ('total eve calls total eve charge', -0.6918468029970537),\n",
       " ('total eve charge total intl calls', -0.606646424882118),\n",
       " ('total night minutes total night calls', -0.3573618657244815),\n",
       " ('total intl minutes total intl charge', -0.10644149240025547),\n",
       " ('total eve charge total night charge', 0.19146030524228586),\n",
       " ('total eve minutes total eve calls', 0.27721930252542215),\n",
       " ('total eve calls total intl charge', 0.2863100700965404),\n",
       " ('account length total eve calls', 0.3217391764902766),\n",
       " ('account length total intl calls', 0.46595545286807205),\n",
       " ('total day calls total day charge', 0.49095794237699053),\n",
       " ('account length^2', 0.5475799508997348),\n",
       " ('total intl charge^2', 0.8782010384974948),\n",
       " ('total day minutes total day calls', 1.0278959221537098),\n",
       " ('total eve minutes total eve charge', 1.056545843507939),\n",
       " ('number vmail messages total intl minutes', 1.3824499209682761),\n",
       " ('total day calls total intl charge', 1.3966629775310047),\n",
       " ('total night calls total intl minutes', 2.2778916832853824),\n",
       " ('account length total day calls', 2.4410377601098876),\n",
       " ('total day calls', 2.702192923320834),\n",
       " ('total eve minutes total night minutes', 2.8291232600085037),\n",
       " ('total eve minutes^2', 2.973439277352563),\n",
       " ('number vmail messages total night calls', 3.0599489544056224),\n",
       " ('number vmail messages customer service calls', 3.09218154877009),\n",
       " ('total night calls', 3.2910002214462386),\n",
       " ('total intl minutes total intl calls', 3.433237131850464),\n",
       " ('total day minutes total intl calls', 3.547569960406971),\n",
       " ('total day charge total intl calls', 3.6493890125752104),\n",
       " ('total eve charge total intl minutes', 3.823918054959874),\n",
       " ('total eve minutes total intl minutes', 3.845355623889879),\n",
       " ('total day charge total intl charge', 4.606095455056725),\n",
       " ('total eve charge total night calls', 4.894443129975512),\n",
       " ('total day minutes total intl charge', 4.9283495988165615),\n",
       " ('total intl calls total intl charge', 5.019530090951241),\n",
       " ('account length total day minutes', 5.246756768275063),\n",
       " ('total eve charge total night minutes', 5.350339498693213),\n",
       " ('total day calls customer service calls', 5.537253802250497),\n",
       " ('total night calls customer service calls', 5.703279196722844),\n",
       " ('total eve calls total intl calls', 5.782646680421588),\n",
       " ('total eve minutes total night calls', 5.823549039297027),\n",
       " ('total day calls total eve calls', 6.078454294568525),\n",
       " ('total day calls total intl calls', 6.521617860948248),\n",
       " ('state_SD', 6.6313360184377945),\n",
       " ('account length total day charge', 6.679452457168078),\n",
       " ('state_NY', 7.519857370331717),\n",
       " ('total day calls^2', 7.835327092032784),\n",
       " ('number vmail messages total eve calls', 8.642636973283558),\n",
       " ('total night charge', 8.95870850453553),\n",
       " ('state_OR', 10.310509368299314),\n",
       " ('total day charge total night charge', 10.643015535664691),\n",
       " ('total day calls total eve minutes', 10.779821898596342),\n",
       " ('total day minutes total night charge', 11.03327313053204),\n",
       " ('total night minutes', 11.157176420862891),\n",
       " ('total day calls total eve charge', 11.293593041542426),\n",
       " ('total day charge total night minutes', 11.390255370483416),\n",
       " ('total day minutes total night minutes', 11.783393787322094),\n",
       " ('total day charge total eve charge', 12.052288935709754),\n",
       " ('total intl minutes', 12.332189786909375),\n",
       " ('total day minutes total eve charge', 12.360342640856924),\n",
       " ('account length number vmail messages', 12.683826389523212),\n",
       " ('state_IA', 12.705786308589829),\n",
       " ('total eve calls', 12.780452142110343),\n",
       " ('total day charge total eve minutes', 13.771731497485806),\n",
       " ('total day charge^2', 14.032723279548476),\n",
       " ('total day minutes total eve minutes', 14.08443622578892),\n",
       " ('total night calls total intl charge', 14.779836846742489),\n",
       " ('total day minutes total day charge', 14.782609141460634),\n",
       " ('total intl calls^2', 15.131918376683306),\n",
       " ('total day minutes^2', 15.537282241197392),\n",
       " ('state_AR', 15.600078232228354),\n",
       " ('state_OK', 16.572165468066903),\n",
       " ('state_ID', 18.335947479877458),\n",
       " ('account length', 19.703618373748277),\n",
       " ('customer service calls^2', 20.704661944673663),\n",
       " ('number vmail messages^2', 20.99166932391574),\n",
       " ('total eve charge', 21.891961128379723),\n",
       " ('total eve minutes', 22.20350488813554),\n",
       " ('total intl charge', 27.49775264578751),\n",
       " ('state_MS', 27.835230915634668),\n",
       " ('state_MA', 29.432031761703836),\n",
       " ('state_MN', 31.556322441627206),\n",
       " ('state_MD', 35.546169025541374),\n",
       " ('state_LA', 38.0335989827389),\n",
       " ('state_NV', 39.979654354695256),\n",
       " ('state_OH', 46.15340259050207),\n",
       " ('total day minutes', 53.7327845102054),\n",
       " ('total day charge', 54.468755956127794),\n",
       " ('state_WA', 56.928925614112536),\n",
       " ('state_PA', 60.413853516588475),\n",
       " ('voice mail plan_no', 66.60070586492412),\n",
       " ('state_MI', 68.853242790952),\n",
       " ('state_SC', 80.13567564842707),\n",
       " ('state_ME', 93.64076782927266),\n",
       " ('state_TX', 99.86986185427904),\n",
       " ('customer service calls', 118.2860193930495),\n",
       " ('state_KS', 127.7933893123473),\n",
       " ('state_CA', 146.38155969394612),\n",
       " ('international plan_yes', 250.87100110926647),\n",
       " ('state_MT', 275.5958995502837),\n",
       " ('state_NJ', 277.022569839776)]"
      ]
     },
     "execution_count": 129,
     "metadata": {},
     "output_type": "execute_result"
    }
   ],
   "source": [
    "# Coefficients labeled and converted to % change on churn\n",
    "\n",
    "pflist = list(zip(allcols, (np.exp(logreg_pf.named_steps['logreg'].coef_[0]) - 1)  *100))\n",
    "sorted(pflist,key = lambda x:x[1])"
   ]
  },
  {
   "cell_type": "markdown",
   "metadata": {
    "hidden": true
   },
   "source": [
    "Seems like the international plan and voicemail plan have the largest change between being, the states seem to have a big impact but I don't know how to interpret that with the data I have currently.  The amount of customer service calls also seems to add quite a bit of a chance for subscribers to churn."
   ]
  },
  {
   "cell_type": "code",
   "execution_count": null,
   "metadata": {
    "hidden": true
   },
   "outputs": [],
   "source": []
  }
 ],
 "metadata": {
  "kernelspec": {
   "display_name": "learn-env",
   "language": "python",
   "name": "learn-env"
  },
  "language_info": {
   "codemirror_mode": {
    "name": "ipython",
    "version": 3
   },
   "file_extension": ".py",
   "mimetype": "text/x-python",
   "name": "python",
   "nbconvert_exporter": "python",
   "pygments_lexer": "ipython3",
   "version": "3.8.5"
  },
  "toc": {
   "base_numbering": 1,
   "nav_menu": {},
   "number_sections": true,
   "sideBar": true,
   "skip_h1_title": false,
   "title_cell": "Table of Contents",
   "title_sidebar": "Contents",
   "toc_cell": false,
   "toc_position": {},
   "toc_section_display": true,
   "toc_window_display": false
  }
 },
 "nbformat": 4,
 "nbformat_minor": 4
}
