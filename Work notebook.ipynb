{
 "cells": [
  {
   "cell_type": "markdown",
   "metadata": {},
   "source": [
    "### Work notebook"
   ]
  },
  {
   "cell_type": "code",
   "execution_count": 1,
   "metadata": {
    "ExecuteTime": {
     "end_time": "2023-10-06T15:52:57.998525Z",
     "start_time": "2023-10-06T15:52:57.127343Z"
    }
   },
   "outputs": [],
   "source": [
    "import pandas as pd\n",
    "import numpy as np\n",
    "from matplotlib import pyplot as plt\n",
    "import seaborn as sns\n",
    "\n",
    "from sklearn.model_selection import train_test_split, GridSearchCV, cross_val_score, cross_validate\n",
    "from sklearn.pipeline import Pipeline\n",
    "from sklearn.preprocessing import StandardScaler, OneHotEncoder, FunctionTransformer, PolynomialFeatures\n",
    "from sklearn.impute import SimpleImputer\n",
    "from sklearn.compose import ColumnTransformer,  make_column_selector as selector\n",
    "from sklearn.linear_model import LogisticRegression\n",
    "from sklearn.ensemble import RandomForestClassifier, GradientBoostingClassifier\n",
    "from sklearn.metrics import plot_confusion_matrix, recall_score,\\\n",
    "    accuracy_score, precision_score, f1_score, plot_roc_curve, classification_report\n",
    "\n",
    "from sklearn.dummy import DummyClassifier, DummyRegressor\n",
    "\n",
    "from imblearn.over_sampling import SMOTE\n",
    "from imblearn.pipeline import Pipeline as ImPipeline"
   ]
  },
  {
   "cell_type": "code",
   "execution_count": 2,
   "metadata": {
    "ExecuteTime": {
     "end_time": "2023-10-06T15:52:58.060921Z",
     "start_time": "2023-10-06T15:52:57.999521Z"
    },
    "scrolled": true
   },
   "outputs": [
    {
     "name": "stdout",
     "output_type": "stream",
     "text": [
      "README.md\n",
      "Work notebook.ipynb\n",
      "data\n",
      "index.ipynb\n"
     ]
    }
   ],
   "source": [
    "!ls"
   ]
  },
  {
   "cell_type": "code",
   "execution_count": 3,
   "metadata": {
    "ExecuteTime": {
     "end_time": "2023-10-06T15:52:58.076879Z",
     "start_time": "2023-10-06T15:52:58.061867Z"
    }
   },
   "outputs": [],
   "source": [
    "churn_data = pd.read_csv('./data/bigml_59c28831336c6604c800002a.csv')"
   ]
  },
  {
   "cell_type": "code",
   "execution_count": 4,
   "metadata": {
    "ExecuteTime": {
     "end_time": "2023-10-06T15:52:58.092520Z",
     "start_time": "2023-10-06T15:52:58.077879Z"
    }
   },
   "outputs": [
    {
     "data": {
      "text/html": [
       "<div>\n",
       "<style scoped>\n",
       "    .dataframe tbody tr th:only-of-type {\n",
       "        vertical-align: middle;\n",
       "    }\n",
       "\n",
       "    .dataframe tbody tr th {\n",
       "        vertical-align: top;\n",
       "    }\n",
       "\n",
       "    .dataframe thead th {\n",
       "        text-align: right;\n",
       "    }\n",
       "</style>\n",
       "<table border=\"1\" class=\"dataframe\">\n",
       "  <thead>\n",
       "    <tr style=\"text-align: right;\">\n",
       "      <th></th>\n",
       "      <th>state</th>\n",
       "      <th>account length</th>\n",
       "      <th>area code</th>\n",
       "      <th>phone number</th>\n",
       "      <th>international plan</th>\n",
       "      <th>voice mail plan</th>\n",
       "      <th>number vmail messages</th>\n",
       "      <th>total day minutes</th>\n",
       "      <th>total day calls</th>\n",
       "      <th>total day charge</th>\n",
       "      <th>...</th>\n",
       "      <th>total eve calls</th>\n",
       "      <th>total eve charge</th>\n",
       "      <th>total night minutes</th>\n",
       "      <th>total night calls</th>\n",
       "      <th>total night charge</th>\n",
       "      <th>total intl minutes</th>\n",
       "      <th>total intl calls</th>\n",
       "      <th>total intl charge</th>\n",
       "      <th>customer service calls</th>\n",
       "      <th>churn</th>\n",
       "    </tr>\n",
       "  </thead>\n",
       "  <tbody>\n",
       "    <tr>\n",
       "      <th>0</th>\n",
       "      <td>KS</td>\n",
       "      <td>128</td>\n",
       "      <td>415</td>\n",
       "      <td>382-4657</td>\n",
       "      <td>no</td>\n",
       "      <td>yes</td>\n",
       "      <td>25</td>\n",
       "      <td>265.1</td>\n",
       "      <td>110</td>\n",
       "      <td>45.07</td>\n",
       "      <td>...</td>\n",
       "      <td>99</td>\n",
       "      <td>16.78</td>\n",
       "      <td>244.7</td>\n",
       "      <td>91</td>\n",
       "      <td>11.01</td>\n",
       "      <td>10.0</td>\n",
       "      <td>3</td>\n",
       "      <td>2.70</td>\n",
       "      <td>1</td>\n",
       "      <td>False</td>\n",
       "    </tr>\n",
       "    <tr>\n",
       "      <th>1</th>\n",
       "      <td>OH</td>\n",
       "      <td>107</td>\n",
       "      <td>415</td>\n",
       "      <td>371-7191</td>\n",
       "      <td>no</td>\n",
       "      <td>yes</td>\n",
       "      <td>26</td>\n",
       "      <td>161.6</td>\n",
       "      <td>123</td>\n",
       "      <td>27.47</td>\n",
       "      <td>...</td>\n",
       "      <td>103</td>\n",
       "      <td>16.62</td>\n",
       "      <td>254.4</td>\n",
       "      <td>103</td>\n",
       "      <td>11.45</td>\n",
       "      <td>13.7</td>\n",
       "      <td>3</td>\n",
       "      <td>3.70</td>\n",
       "      <td>1</td>\n",
       "      <td>False</td>\n",
       "    </tr>\n",
       "    <tr>\n",
       "      <th>2</th>\n",
       "      <td>NJ</td>\n",
       "      <td>137</td>\n",
       "      <td>415</td>\n",
       "      <td>358-1921</td>\n",
       "      <td>no</td>\n",
       "      <td>no</td>\n",
       "      <td>0</td>\n",
       "      <td>243.4</td>\n",
       "      <td>114</td>\n",
       "      <td>41.38</td>\n",
       "      <td>...</td>\n",
       "      <td>110</td>\n",
       "      <td>10.30</td>\n",
       "      <td>162.6</td>\n",
       "      <td>104</td>\n",
       "      <td>7.32</td>\n",
       "      <td>12.2</td>\n",
       "      <td>5</td>\n",
       "      <td>3.29</td>\n",
       "      <td>0</td>\n",
       "      <td>False</td>\n",
       "    </tr>\n",
       "    <tr>\n",
       "      <th>3</th>\n",
       "      <td>OH</td>\n",
       "      <td>84</td>\n",
       "      <td>408</td>\n",
       "      <td>375-9999</td>\n",
       "      <td>yes</td>\n",
       "      <td>no</td>\n",
       "      <td>0</td>\n",
       "      <td>299.4</td>\n",
       "      <td>71</td>\n",
       "      <td>50.90</td>\n",
       "      <td>...</td>\n",
       "      <td>88</td>\n",
       "      <td>5.26</td>\n",
       "      <td>196.9</td>\n",
       "      <td>89</td>\n",
       "      <td>8.86</td>\n",
       "      <td>6.6</td>\n",
       "      <td>7</td>\n",
       "      <td>1.78</td>\n",
       "      <td>2</td>\n",
       "      <td>False</td>\n",
       "    </tr>\n",
       "    <tr>\n",
       "      <th>4</th>\n",
       "      <td>OK</td>\n",
       "      <td>75</td>\n",
       "      <td>415</td>\n",
       "      <td>330-6626</td>\n",
       "      <td>yes</td>\n",
       "      <td>no</td>\n",
       "      <td>0</td>\n",
       "      <td>166.7</td>\n",
       "      <td>113</td>\n",
       "      <td>28.34</td>\n",
       "      <td>...</td>\n",
       "      <td>122</td>\n",
       "      <td>12.61</td>\n",
       "      <td>186.9</td>\n",
       "      <td>121</td>\n",
       "      <td>8.41</td>\n",
       "      <td>10.1</td>\n",
       "      <td>3</td>\n",
       "      <td>2.73</td>\n",
       "      <td>3</td>\n",
       "      <td>False</td>\n",
       "    </tr>\n",
       "  </tbody>\n",
       "</table>\n",
       "<p>5 rows × 21 columns</p>\n",
       "</div>"
      ],
      "text/plain": [
       "  state  account length  area code phone number international plan  \\\n",
       "0    KS             128        415     382-4657                 no   \n",
       "1    OH             107        415     371-7191                 no   \n",
       "2    NJ             137        415     358-1921                 no   \n",
       "3    OH              84        408     375-9999                yes   \n",
       "4    OK              75        415     330-6626                yes   \n",
       "\n",
       "  voice mail plan  number vmail messages  total day minutes  total day calls  \\\n",
       "0             yes                     25              265.1              110   \n",
       "1             yes                     26              161.6              123   \n",
       "2              no                      0              243.4              114   \n",
       "3              no                      0              299.4               71   \n",
       "4              no                      0              166.7              113   \n",
       "\n",
       "   total day charge  ...  total eve calls  total eve charge  \\\n",
       "0             45.07  ...               99             16.78   \n",
       "1             27.47  ...              103             16.62   \n",
       "2             41.38  ...              110             10.30   \n",
       "3             50.90  ...               88              5.26   \n",
       "4             28.34  ...              122             12.61   \n",
       "\n",
       "   total night minutes  total night calls  total night charge  \\\n",
       "0                244.7                 91               11.01   \n",
       "1                254.4                103               11.45   \n",
       "2                162.6                104                7.32   \n",
       "3                196.9                 89                8.86   \n",
       "4                186.9                121                8.41   \n",
       "\n",
       "   total intl minutes  total intl calls  total intl charge  \\\n",
       "0                10.0                 3               2.70   \n",
       "1                13.7                 3               3.70   \n",
       "2                12.2                 5               3.29   \n",
       "3                 6.6                 7               1.78   \n",
       "4                10.1                 3               2.73   \n",
       "\n",
       "   customer service calls  churn  \n",
       "0                       1  False  \n",
       "1                       1  False  \n",
       "2                       0  False  \n",
       "3                       2  False  \n",
       "4                       3  False  \n",
       "\n",
       "[5 rows x 21 columns]"
      ]
     },
     "execution_count": 4,
     "metadata": {},
     "output_type": "execute_result"
    }
   ],
   "source": [
    "churn_data.head()"
   ]
  },
  {
   "cell_type": "code",
   "execution_count": 5,
   "metadata": {
    "ExecuteTime": {
     "end_time": "2023-10-06T15:52:58.108591Z",
     "start_time": "2023-10-06T15:52:58.093520Z"
    }
   },
   "outputs": [
    {
     "name": "stdout",
     "output_type": "stream",
     "text": [
      "<class 'pandas.core.frame.DataFrame'>\n",
      "RangeIndex: 3333 entries, 0 to 3332\n",
      "Data columns (total 21 columns):\n",
      " #   Column                  Non-Null Count  Dtype  \n",
      "---  ------                  --------------  -----  \n",
      " 0   state                   3333 non-null   object \n",
      " 1   account length          3333 non-null   int64  \n",
      " 2   area code               3333 non-null   int64  \n",
      " 3   phone number            3333 non-null   object \n",
      " 4   international plan      3333 non-null   object \n",
      " 5   voice mail plan         3333 non-null   object \n",
      " 6   number vmail messages   3333 non-null   int64  \n",
      " 7   total day minutes       3333 non-null   float64\n",
      " 8   total day calls         3333 non-null   int64  \n",
      " 9   total day charge        3333 non-null   float64\n",
      " 10  total eve minutes       3333 non-null   float64\n",
      " 11  total eve calls         3333 non-null   int64  \n",
      " 12  total eve charge        3333 non-null   float64\n",
      " 13  total night minutes     3333 non-null   float64\n",
      " 14  total night calls       3333 non-null   int64  \n",
      " 15  total night charge      3333 non-null   float64\n",
      " 16  total intl minutes      3333 non-null   float64\n",
      " 17  total intl calls        3333 non-null   int64  \n",
      " 18  total intl charge       3333 non-null   float64\n",
      " 19  customer service calls  3333 non-null   int64  \n",
      " 20  churn                   3333 non-null   bool   \n",
      "dtypes: bool(1), float64(8), int64(8), object(4)\n",
      "memory usage: 524.2+ KB\n"
     ]
    }
   ],
   "source": [
    "churn_data.info()"
   ]
  },
  {
   "cell_type": "markdown",
   "metadata": {},
   "source": [
    "### Work notebook"
   ]
  },
  {
   "cell_type": "code",
   "execution_count": 1,
   "metadata": {
    "ExecuteTime": {
     "end_time": "2023-10-06T15:52:57.998525Z",
     "start_time": "2023-10-06T15:52:57.127343Z"
    }
   },
   "outputs": [],
   "source": [
    "import pandas as pd\n",
    "import numpy as np\n",
    "from matplotlib import pyplot as plt\n",
    "import seaborn as sns\n",
    "\n",
    "from sklearn.model_selection import train_test_split, GridSearchCV, cross_val_score, cross_validate\n",
    "from sklearn.pipeline import Pipeline\n",
    "from sklearn.preprocessing import StandardScaler, OneHotEncoder, FunctionTransformer, PolynomialFeatures\n",
    "from sklearn.impute import SimpleImputer\n",
    "from sklearn.compose import ColumnTransformer,  make_column_selector as selector\n",
    "from sklearn.linear_model import LogisticRegression\n",
    "from sklearn.ensemble import RandomForestClassifier, GradientBoostingClassifier\n",
    "from sklearn.metrics import plot_confusion_matrix, recall_score,\\\n",
    "    accuracy_score, precision_score, f1_score, plot_roc_curve, classification_report\n",
    "\n",
    "from sklearn.dummy import DummyClassifier, DummyRegressor\n",
    "\n",
    "from imblearn.over_sampling import SMOTE\n",
    "from imblearn.pipeline import Pipeline as ImPipeline"
   ]
  },
  {
   "cell_type": "code",
   "execution_count": 2,
   "metadata": {
    "ExecuteTime": {
     "end_time": "2023-10-06T15:52:58.060921Z",
     "start_time": "2023-10-06T15:52:57.999521Z"
    },
    "scrolled": true
   },
   "outputs": [
    {
     "name": "stdout",
     "output_type": "stream",
     "text": [
      "README.md\n",
      "Work notebook.ipynb\n",
      "data\n",
      "index.ipynb\n"
     ]
    }
   ],
   "source": [
    "!ls"
   ]
  },
  {
   "cell_type": "code",
   "execution_count": 3,
   "metadata": {
    "ExecuteTime": {
     "end_time": "2023-10-06T15:52:58.076879Z",
     "start_time": "2023-10-06T15:52:58.061867Z"
    }
   },
   "outputs": [],
   "source": [
    "churn_data = pd.read_csv('./data/bigml_59c28831336c6604c800002a.csv')"
   ]
  },
  {
   "cell_type": "code",
   "execution_count": 4,
   "metadata": {
    "ExecuteTime": {
     "end_time": "2023-10-06T15:52:58.092520Z",
     "start_time": "2023-10-06T15:52:58.077879Z"
    }
   },
   "outputs": [
    {
     "data": {
      "text/html": [
       "<div>\n",
       "<style scoped>\n",
       "    .dataframe tbody tr th:only-of-type {\n",
       "        vertical-align: middle;\n",
       "    }\n",
       "\n",
       "    .dataframe tbody tr th {\n",
       "        vertical-align: top;\n",
       "    }\n",
       "\n",
       "    .dataframe thead th {\n",
       "        text-align: right;\n",
       "    }\n",
       "</style>\n",
       "<table border=\"1\" class=\"dataframe\">\n",
       "  <thead>\n",
       "    <tr style=\"text-align: right;\">\n",
       "      <th></th>\n",
       "      <th>state</th>\n",
       "      <th>account length</th>\n",
       "      <th>area code</th>\n",
       "      <th>phone number</th>\n",
       "      <th>international plan</th>\n",
       "      <th>voice mail plan</th>\n",
       "      <th>number vmail messages</th>\n",
       "      <th>total day minutes</th>\n",
       "      <th>total day calls</th>\n",
       "      <th>total day charge</th>\n",
       "      <th>...</th>\n",
       "      <th>total eve calls</th>\n",
       "      <th>total eve charge</th>\n",
       "      <th>total night minutes</th>\n",
       "      <th>total night calls</th>\n",
       "      <th>total night charge</th>\n",
       "      <th>total intl minutes</th>\n",
       "      <th>total intl calls</th>\n",
       "      <th>total intl charge</th>\n",
       "      <th>customer service calls</th>\n",
       "      <th>churn</th>\n",
       "    </tr>\n",
       "  </thead>\n",
       "  <tbody>\n",
       "    <tr>\n",
       "      <th>0</th>\n",
       "      <td>KS</td>\n",
       "      <td>128</td>\n",
       "      <td>415</td>\n",
       "      <td>382-4657</td>\n",
       "      <td>no</td>\n",
       "      <td>yes</td>\n",
       "      <td>25</td>\n",
       "      <td>265.1</td>\n",
       "      <td>110</td>\n",
       "      <td>45.07</td>\n",
       "      <td>...</td>\n",
       "      <td>99</td>\n",
       "      <td>16.78</td>\n",
       "      <td>244.7</td>\n",
       "      <td>91</td>\n",
       "      <td>11.01</td>\n",
       "      <td>10.0</td>\n",
       "      <td>3</td>\n",
       "      <td>2.70</td>\n",
       "      <td>1</td>\n",
       "      <td>False</td>\n",
       "    </tr>\n",
       "    <tr>\n",
       "      <th>1</th>\n",
       "      <td>OH</td>\n",
       "      <td>107</td>\n",
       "      <td>415</td>\n",
       "      <td>371-7191</td>\n",
       "      <td>no</td>\n",
       "      <td>yes</td>\n",
       "      <td>26</td>\n",
       "      <td>161.6</td>\n",
       "      <td>123</td>\n",
       "      <td>27.47</td>\n",
       "      <td>...</td>\n",
       "      <td>103</td>\n",
       "      <td>16.62</td>\n",
       "      <td>254.4</td>\n",
       "      <td>103</td>\n",
       "      <td>11.45</td>\n",
       "      <td>13.7</td>\n",
       "      <td>3</td>\n",
       "      <td>3.70</td>\n",
       "      <td>1</td>\n",
       "      <td>False</td>\n",
       "    </tr>\n",
       "    <tr>\n",
       "      <th>2</th>\n",
       "      <td>NJ</td>\n",
       "      <td>137</td>\n",
       "      <td>415</td>\n",
       "      <td>358-1921</td>\n",
       "      <td>no</td>\n",
       "      <td>no</td>\n",
       "      <td>0</td>\n",
       "      <td>243.4</td>\n",
       "      <td>114</td>\n",
       "      <td>41.38</td>\n",
       "      <td>...</td>\n",
       "      <td>110</td>\n",
       "      <td>10.30</td>\n",
       "      <td>162.6</td>\n",
       "      <td>104</td>\n",
       "      <td>7.32</td>\n",
       "      <td>12.2</td>\n",
       "      <td>5</td>\n",
       "      <td>3.29</td>\n",
       "      <td>0</td>\n",
       "      <td>False</td>\n",
       "    </tr>\n",
       "    <tr>\n",
       "      <th>3</th>\n",
       "      <td>OH</td>\n",
       "      <td>84</td>\n",
       "      <td>408</td>\n",
       "      <td>375-9999</td>\n",
       "      <td>yes</td>\n",
       "      <td>no</td>\n",
       "      <td>0</td>\n",
       "      <td>299.4</td>\n",
       "      <td>71</td>\n",
       "      <td>50.90</td>\n",
       "      <td>...</td>\n",
       "      <td>88</td>\n",
       "      <td>5.26</td>\n",
       "      <td>196.9</td>\n",
       "      <td>89</td>\n",
       "      <td>8.86</td>\n",
       "      <td>6.6</td>\n",
       "      <td>7</td>\n",
       "      <td>1.78</td>\n",
       "      <td>2</td>\n",
       "      <td>False</td>\n",
       "    </tr>\n",
       "    <tr>\n",
       "      <th>4</th>\n",
       "      <td>OK</td>\n",
       "      <td>75</td>\n",
       "      <td>415</td>\n",
       "      <td>330-6626</td>\n",
       "      <td>yes</td>\n",
       "      <td>no</td>\n",
       "      <td>0</td>\n",
       "      <td>166.7</td>\n",
       "      <td>113</td>\n",
       "      <td>28.34</td>\n",
       "      <td>...</td>\n",
       "      <td>122</td>\n",
       "      <td>12.61</td>\n",
       "      <td>186.9</td>\n",
       "      <td>121</td>\n",
       "      <td>8.41</td>\n",
       "      <td>10.1</td>\n",
       "      <td>3</td>\n",
       "      <td>2.73</td>\n",
       "      <td>3</td>\n",
       "      <td>False</td>\n",
       "    </tr>\n",
       "  </tbody>\n",
       "</table>\n",
       "<p>5 rows × 21 columns</p>\n",
       "</div>"
      ],
      "text/plain": [
       "  state  account length  area code phone number international plan  \\\n",
       "0    KS             128        415     382-4657                 no   \n",
       "1    OH             107        415     371-7191                 no   \n",
       "2    NJ             137        415     358-1921                 no   \n",
       "3    OH              84        408     375-9999                yes   \n",
       "4    OK              75        415     330-6626                yes   \n",
       "\n",
       "  voice mail plan  number vmail messages  total day minutes  total day calls  \\\n",
       "0             yes                     25              265.1              110   \n",
       "1             yes                     26              161.6              123   \n",
       "2              no                      0              243.4              114   \n",
       "3              no                      0              299.4               71   \n",
       "4              no                      0              166.7              113   \n",
       "\n",
       "   total day charge  ...  total eve calls  total eve charge  \\\n",
       "0             45.07  ...               99             16.78   \n",
       "1             27.47  ...              103             16.62   \n",
       "2             41.38  ...              110             10.30   \n",
       "3             50.90  ...               88              5.26   \n",
       "4             28.34  ...              122             12.61   \n",
       "\n",
       "   total night minutes  total night calls  total night charge  \\\n",
       "0                244.7                 91               11.01   \n",
       "1                254.4                103               11.45   \n",
       "2                162.6                104                7.32   \n",
       "3                196.9                 89                8.86   \n",
       "4                186.9                121                8.41   \n",
       "\n",
       "   total intl minutes  total intl calls  total intl charge  \\\n",
       "0                10.0                 3               2.70   \n",
       "1                13.7                 3               3.70   \n",
       "2                12.2                 5               3.29   \n",
       "3                 6.6                 7               1.78   \n",
       "4                10.1                 3               2.73   \n",
       "\n",
       "   customer service calls  churn  \n",
       "0                       1  False  \n",
       "1                       1  False  \n",
       "2                       0  False  \n",
       "3                       2  False  \n",
       "4                       3  False  \n",
       "\n",
       "[5 rows x 21 columns]"
      ]
     },
     "execution_count": 4,
     "metadata": {},
     "output_type": "execute_result"
    }
   ],
   "source": [
    "churn_data.head()"
   ]
  },
  {
   "cell_type": "code",
   "execution_count": 2,
   "metadata": {
    "ExecuteTime": {
     "end_time": "2023-10-06T15:52:58.060921Z",
     "start_time": "2023-10-06T15:52:57.999521Z"
    }
   },
   "outputs": [
    {
     "name": "stdout",
     "output_type": "stream",
     "text": [
      "README.md\n",
      "Work notebook.ipynb\n",
      "data\n",
      "index.ipynb\n"
     ]
    }
   ],
   "source": [
    "!ls"
   ]
  },
  {
   "cell_type": "code",
   "execution_count": 3,
   "metadata": {
    "ExecuteTime": {
     "end_time": "2023-10-06T15:52:58.076879Z",
     "start_time": "2023-10-06T15:52:58.061867Z"
    }
   },
   "outputs": [],
   "source": [
    "churn_data = pd.read_csv('./data/bigml_59c28831336c6604c800002a.csv')"
   ]
  },
  {
   "cell_type": "code",
   "execution_count": 4,
   "metadata": {
    "ExecuteTime": {
     "end_time": "2023-10-06T15:52:58.092520Z",
     "start_time": "2023-10-06T15:52:58.077879Z"
    }
   },
   "outputs": [
    {
     "data": {
      "text/html": [
       "<div>\n",
       "<style scoped>\n",
       "    .dataframe tbody tr th:only-of-type {\n",
       "        vertical-align: middle;\n",
       "    }\n",
       "\n",
       "    .dataframe tbody tr th {\n",
       "        vertical-align: top;\n",
       "    }\n",
       "\n",
       "    .dataframe thead th {\n",
       "        text-align: right;\n",
       "    }\n",
       "</style>\n",
       "<table border=\"1\" class=\"dataframe\">\n",
       "  <thead>\n",
       "    <tr style=\"text-align: right;\">\n",
       "      <th></th>\n",
       "      <th>state</th>\n",
       "      <th>account length</th>\n",
       "      <th>area code</th>\n",
       "      <th>phone number</th>\n",
       "      <th>international plan</th>\n",
       "      <th>voice mail plan</th>\n",
       "      <th>number vmail messages</th>\n",
       "      <th>total day minutes</th>\n",
       "      <th>total day calls</th>\n",
       "      <th>total day charge</th>\n",
       "      <th>...</th>\n",
       "      <th>total eve calls</th>\n",
       "      <th>total eve charge</th>\n",
       "      <th>total night minutes</th>\n",
       "      <th>total night calls</th>\n",
       "      <th>total night charge</th>\n",
       "      <th>total intl minutes</th>\n",
       "      <th>total intl calls</th>\n",
       "      <th>total intl charge</th>\n",
       "      <th>customer service calls</th>\n",
       "      <th>churn</th>\n",
       "    </tr>\n",
       "  </thead>\n",
       "  <tbody>\n",
       "    <tr>\n",
       "      <th>0</th>\n",
       "      <td>KS</td>\n",
       "      <td>128</td>\n",
       "      <td>415</td>\n",
       "      <td>382-4657</td>\n",
       "      <td>no</td>\n",
       "      <td>yes</td>\n",
       "      <td>25</td>\n",
       "      <td>265.1</td>\n",
       "      <td>110</td>\n",
       "      <td>45.07</td>\n",
       "      <td>...</td>\n",
       "      <td>99</td>\n",
       "      <td>16.78</td>\n",
       "      <td>244.7</td>\n",
       "      <td>91</td>\n",
       "      <td>11.01</td>\n",
       "      <td>10.0</td>\n",
       "      <td>3</td>\n",
       "      <td>2.70</td>\n",
       "      <td>1</td>\n",
       "      <td>False</td>\n",
       "    </tr>\n",
       "    <tr>\n",
       "      <th>1</th>\n",
       "      <td>OH</td>\n",
       "      <td>107</td>\n",
       "      <td>415</td>\n",
       "      <td>371-7191</td>\n",
       "      <td>no</td>\n",
       "      <td>yes</td>\n",
       "      <td>26</td>\n",
       "      <td>161.6</td>\n",
       "      <td>123</td>\n",
       "      <td>27.47</td>\n",
       "      <td>...</td>\n",
       "      <td>103</td>\n",
       "      <td>16.62</td>\n",
       "      <td>254.4</td>\n",
       "      <td>103</td>\n",
       "      <td>11.45</td>\n",
       "      <td>13.7</td>\n",
       "      <td>3</td>\n",
       "      <td>3.70</td>\n",
       "      <td>1</td>\n",
       "      <td>False</td>\n",
       "    </tr>\n",
       "    <tr>\n",
       "      <th>2</th>\n",
       "      <td>NJ</td>\n",
       "      <td>137</td>\n",
       "      <td>415</td>\n",
       "      <td>358-1921</td>\n",
       "      <td>no</td>\n",
       "      <td>no</td>\n",
       "      <td>0</td>\n",
       "      <td>243.4</td>\n",
       "      <td>114</td>\n",
       "      <td>41.38</td>\n",
       "      <td>...</td>\n",
       "      <td>110</td>\n",
       "      <td>10.30</td>\n",
       "      <td>162.6</td>\n",
       "      <td>104</td>\n",
       "      <td>7.32</td>\n",
       "      <td>12.2</td>\n",
       "      <td>5</td>\n",
       "      <td>3.29</td>\n",
       "      <td>0</td>\n",
       "      <td>False</td>\n",
       "    </tr>\n",
       "    <tr>\n",
       "      <th>3</th>\n",
       "      <td>OH</td>\n",
       "      <td>84</td>\n",
       "      <td>408</td>\n",
       "      <td>375-9999</td>\n",
       "      <td>yes</td>\n",
       "      <td>no</td>\n",
       "      <td>0</td>\n",
       "      <td>299.4</td>\n",
       "      <td>71</td>\n",
       "      <td>50.90</td>\n",
       "      <td>...</td>\n",
       "      <td>88</td>\n",
       "      <td>5.26</td>\n",
       "      <td>196.9</td>\n",
       "      <td>89</td>\n",
       "      <td>8.86</td>\n",
       "      <td>6.6</td>\n",
       "      <td>7</td>\n",
       "      <td>1.78</td>\n",
       "      <td>2</td>\n",
       "      <td>False</td>\n",
       "    </tr>\n",
       "    <tr>\n",
       "      <th>4</th>\n",
       "      <td>OK</td>\n",
       "      <td>75</td>\n",
       "      <td>415</td>\n",
       "      <td>330-6626</td>\n",
       "      <td>yes</td>\n",
       "      <td>no</td>\n",
       "      <td>0</td>\n",
       "      <td>166.7</td>\n",
       "      <td>113</td>\n",
       "      <td>28.34</td>\n",
       "      <td>...</td>\n",
       "      <td>122</td>\n",
       "      <td>12.61</td>\n",
       "      <td>186.9</td>\n",
       "      <td>121</td>\n",
       "      <td>8.41</td>\n",
       "      <td>10.1</td>\n",
       "      <td>3</td>\n",
       "      <td>2.73</td>\n",
       "      <td>3</td>\n",
       "      <td>False</td>\n",
       "    </tr>\n",
       "  </tbody>\n",
       "</table>\n",
       "<p>5 rows × 21 columns</p>\n",
       "</div>"
      ],
      "text/plain": [
       "  state  account length  area code phone number international plan  \\\n",
       "0    KS             128        415     382-4657                 no   \n",
       "1    OH             107        415     371-7191                 no   \n",
       "2    NJ             137        415     358-1921                 no   \n",
       "3    OH              84        408     375-9999                yes   \n",
       "4    OK              75        415     330-6626                yes   \n",
       "\n",
       "  voice mail plan  number vmail messages  total day minutes  total day calls  \\\n",
       "0             yes                     25              265.1              110   \n",
       "1             yes                     26              161.6              123   \n",
       "2              no                      0              243.4              114   \n",
       "3              no                      0              299.4               71   \n",
       "4              no                      0              166.7              113   \n",
       "\n",
       "   total day charge  ...  total eve calls  total eve charge  \\\n",
       "0             45.07  ...               99             16.78   \n",
       "1             27.47  ...              103             16.62   \n",
       "2             41.38  ...              110             10.30   \n",
       "3             50.90  ...               88              5.26   \n",
       "4             28.34  ...              122             12.61   \n",
       "\n",
       "   total night minutes  total night calls  total night charge  \\\n",
       "0                244.7                 91               11.01   \n",
       "1                254.4                103               11.45   \n",
       "2                162.6                104                7.32   \n",
       "3                196.9                 89                8.86   \n",
       "4                186.9                121                8.41   \n",
       "\n",
       "   total intl minutes  total intl calls  total intl charge  \\\n",
       "0                10.0                 3               2.70   \n",
       "1                13.7                 3               3.70   \n",
       "2                12.2                 5               3.29   \n",
       "3                 6.6                 7               1.78   \n",
       "4                10.1                 3               2.73   \n",
       "\n",
       "   customer service calls  churn  \n",
       "0                       1  False  \n",
       "1                       1  False  \n",
       "2                       0  False  \n",
       "3                       2  False  \n",
       "4                       3  False  \n",
       "\n",
       "[5 rows x 21 columns]"
      ]
     },
     "execution_count": 4,
     "metadata": {},
     "output_type": "execute_result"
    }
   ],
   "source": [
    "churn_data.head()"
   ]
  },
  {
   "cell_type": "code",
   "execution_count": null,
   "metadata": {},
   "outputs": [],
   "source": []
  },
  {
   "cell_type": "code",
   "execution_count": 6,
   "metadata": {
    "ExecuteTime": {
     "end_time": "2023-10-06T15:52:58.140578Z",
     "start_time": "2023-10-06T15:52:58.109539Z"
    }
   },
   "outputs": [
    {
     "data": {
      "text/html": [
       "<div>\n",
       "<style scoped>\n",
       "    .dataframe tbody tr th:only-of-type {\n",
       "        vertical-align: middle;\n",
       "    }\n",
       "\n",
       "    .dataframe tbody tr th {\n",
       "        vertical-align: top;\n",
       "    }\n",
       "\n",
       "    .dataframe thead th {\n",
       "        text-align: right;\n",
       "    }\n",
       "</style>\n",
       "<table border=\"1\" class=\"dataframe\">\n",
       "  <thead>\n",
       "    <tr style=\"text-align: right;\">\n",
       "      <th></th>\n",
       "      <th>account length</th>\n",
       "      <th>area code</th>\n",
       "      <th>number vmail messages</th>\n",
       "      <th>total day minutes</th>\n",
       "      <th>total day calls</th>\n",
       "      <th>total day charge</th>\n",
       "      <th>total eve minutes</th>\n",
       "      <th>total eve calls</th>\n",
       "      <th>total eve charge</th>\n",
       "      <th>total night minutes</th>\n",
       "      <th>total night calls</th>\n",
       "      <th>total night charge</th>\n",
       "      <th>total intl minutes</th>\n",
       "      <th>total intl calls</th>\n",
       "      <th>total intl charge</th>\n",
       "      <th>customer service calls</th>\n",
       "    </tr>\n",
       "  </thead>\n",
       "  <tbody>\n",
       "    <tr>\n",
       "      <th>count</th>\n",
       "      <td>3333.000000</td>\n",
       "      <td>3333.000000</td>\n",
       "      <td>3333.000000</td>\n",
       "      <td>3333.000000</td>\n",
       "      <td>3333.000000</td>\n",
       "      <td>3333.000000</td>\n",
       "      <td>3333.000000</td>\n",
       "      <td>3333.000000</td>\n",
       "      <td>3333.000000</td>\n",
       "      <td>3333.000000</td>\n",
       "      <td>3333.000000</td>\n",
       "      <td>3333.000000</td>\n",
       "      <td>3333.000000</td>\n",
       "      <td>3333.000000</td>\n",
       "      <td>3333.000000</td>\n",
       "      <td>3333.000000</td>\n",
       "    </tr>\n",
       "    <tr>\n",
       "      <th>mean</th>\n",
       "      <td>101.064806</td>\n",
       "      <td>437.182418</td>\n",
       "      <td>8.099010</td>\n",
       "      <td>179.775098</td>\n",
       "      <td>100.435644</td>\n",
       "      <td>30.562307</td>\n",
       "      <td>200.980348</td>\n",
       "      <td>100.114311</td>\n",
       "      <td>17.083540</td>\n",
       "      <td>200.872037</td>\n",
       "      <td>100.107711</td>\n",
       "      <td>9.039325</td>\n",
       "      <td>10.237294</td>\n",
       "      <td>4.479448</td>\n",
       "      <td>2.764581</td>\n",
       "      <td>1.562856</td>\n",
       "    </tr>\n",
       "    <tr>\n",
       "      <th>std</th>\n",
       "      <td>39.822106</td>\n",
       "      <td>42.371290</td>\n",
       "      <td>13.688365</td>\n",
       "      <td>54.467389</td>\n",
       "      <td>20.069084</td>\n",
       "      <td>9.259435</td>\n",
       "      <td>50.713844</td>\n",
       "      <td>19.922625</td>\n",
       "      <td>4.310668</td>\n",
       "      <td>50.573847</td>\n",
       "      <td>19.568609</td>\n",
       "      <td>2.275873</td>\n",
       "      <td>2.791840</td>\n",
       "      <td>2.461214</td>\n",
       "      <td>0.753773</td>\n",
       "      <td>1.315491</td>\n",
       "    </tr>\n",
       "    <tr>\n",
       "      <th>min</th>\n",
       "      <td>1.000000</td>\n",
       "      <td>408.000000</td>\n",
       "      <td>0.000000</td>\n",
       "      <td>0.000000</td>\n",
       "      <td>0.000000</td>\n",
       "      <td>0.000000</td>\n",
       "      <td>0.000000</td>\n",
       "      <td>0.000000</td>\n",
       "      <td>0.000000</td>\n",
       "      <td>23.200000</td>\n",
       "      <td>33.000000</td>\n",
       "      <td>1.040000</td>\n",
       "      <td>0.000000</td>\n",
       "      <td>0.000000</td>\n",
       "      <td>0.000000</td>\n",
       "      <td>0.000000</td>\n",
       "    </tr>\n",
       "    <tr>\n",
       "      <th>25%</th>\n",
       "      <td>74.000000</td>\n",
       "      <td>408.000000</td>\n",
       "      <td>0.000000</td>\n",
       "      <td>143.700000</td>\n",
       "      <td>87.000000</td>\n",
       "      <td>24.430000</td>\n",
       "      <td>166.600000</td>\n",
       "      <td>87.000000</td>\n",
       "      <td>14.160000</td>\n",
       "      <td>167.000000</td>\n",
       "      <td>87.000000</td>\n",
       "      <td>7.520000</td>\n",
       "      <td>8.500000</td>\n",
       "      <td>3.000000</td>\n",
       "      <td>2.300000</td>\n",
       "      <td>1.000000</td>\n",
       "    </tr>\n",
       "    <tr>\n",
       "      <th>50%</th>\n",
       "      <td>101.000000</td>\n",
       "      <td>415.000000</td>\n",
       "      <td>0.000000</td>\n",
       "      <td>179.400000</td>\n",
       "      <td>101.000000</td>\n",
       "      <td>30.500000</td>\n",
       "      <td>201.400000</td>\n",
       "      <td>100.000000</td>\n",
       "      <td>17.120000</td>\n",
       "      <td>201.200000</td>\n",
       "      <td>100.000000</td>\n",
       "      <td>9.050000</td>\n",
       "      <td>10.300000</td>\n",
       "      <td>4.000000</td>\n",
       "      <td>2.780000</td>\n",
       "      <td>1.000000</td>\n",
       "    </tr>\n",
       "    <tr>\n",
       "      <th>75%</th>\n",
       "      <td>127.000000</td>\n",
       "      <td>510.000000</td>\n",
       "      <td>20.000000</td>\n",
       "      <td>216.400000</td>\n",
       "      <td>114.000000</td>\n",
       "      <td>36.790000</td>\n",
       "      <td>235.300000</td>\n",
       "      <td>114.000000</td>\n",
       "      <td>20.000000</td>\n",
       "      <td>235.300000</td>\n",
       "      <td>113.000000</td>\n",
       "      <td>10.590000</td>\n",
       "      <td>12.100000</td>\n",
       "      <td>6.000000</td>\n",
       "      <td>3.270000</td>\n",
       "      <td>2.000000</td>\n",
       "    </tr>\n",
       "    <tr>\n",
       "      <th>max</th>\n",
       "      <td>243.000000</td>\n",
       "      <td>510.000000</td>\n",
       "      <td>51.000000</td>\n",
       "      <td>350.800000</td>\n",
       "      <td>165.000000</td>\n",
       "      <td>59.640000</td>\n",
       "      <td>363.700000</td>\n",
       "      <td>170.000000</td>\n",
       "      <td>30.910000</td>\n",
       "      <td>395.000000</td>\n",
       "      <td>175.000000</td>\n",
       "      <td>17.770000</td>\n",
       "      <td>20.000000</td>\n",
       "      <td>20.000000</td>\n",
       "      <td>5.400000</td>\n",
       "      <td>9.000000</td>\n",
       "    </tr>\n",
       "  </tbody>\n",
       "</table>\n",
       "</div>"
      ],
      "text/plain": [
       "       account length    area code  number vmail messages  total day minutes  \\\n",
       "count     3333.000000  3333.000000            3333.000000        3333.000000   \n",
       "mean       101.064806   437.182418               8.099010         179.775098   \n",
       "std         39.822106    42.371290              13.688365          54.467389   \n",
       "min          1.000000   408.000000               0.000000           0.000000   \n",
       "25%         74.000000   408.000000               0.000000         143.700000   \n",
       "50%        101.000000   415.000000               0.000000         179.400000   \n",
       "75%        127.000000   510.000000              20.000000         216.400000   \n",
       "max        243.000000   510.000000              51.000000         350.800000   \n",
       "\n",
       "       total day calls  total day charge  total eve minutes  total eve calls  \\\n",
       "count      3333.000000       3333.000000        3333.000000      3333.000000   \n",
       "mean        100.435644         30.562307         200.980348       100.114311   \n",
       "std          20.069084          9.259435          50.713844        19.922625   \n",
       "min           0.000000          0.000000           0.000000         0.000000   \n",
       "25%          87.000000         24.430000         166.600000        87.000000   \n",
       "50%         101.000000         30.500000         201.400000       100.000000   \n",
       "75%         114.000000         36.790000         235.300000       114.000000   \n",
       "max         165.000000         59.640000         363.700000       170.000000   \n",
       "\n",
       "       total eve charge  total night minutes  total night calls  \\\n",
       "count       3333.000000          3333.000000        3333.000000   \n",
       "mean          17.083540           200.872037         100.107711   \n",
       "std            4.310668            50.573847          19.568609   \n",
       "min            0.000000            23.200000          33.000000   \n",
       "25%           14.160000           167.000000          87.000000   \n",
       "50%           17.120000           201.200000         100.000000   \n",
       "75%           20.000000           235.300000         113.000000   \n",
       "max           30.910000           395.000000         175.000000   \n",
       "\n",
       "       total night charge  total intl minutes  total intl calls  \\\n",
       "count         3333.000000         3333.000000       3333.000000   \n",
       "mean             9.039325           10.237294          4.479448   \n",
       "std              2.275873            2.791840          2.461214   \n",
       "min              1.040000            0.000000          0.000000   \n",
       "25%              7.520000            8.500000          3.000000   \n",
       "50%              9.050000           10.300000          4.000000   \n",
       "75%             10.590000           12.100000          6.000000   \n",
       "max             17.770000           20.000000         20.000000   \n",
       "\n",
       "       total intl charge  customer service calls  \n",
       "count        3333.000000             3333.000000  \n",
       "mean            2.764581                1.562856  \n",
       "std             0.753773                1.315491  \n",
       "min             0.000000                0.000000  \n",
       "25%             2.300000                1.000000  \n",
       "50%             2.780000                1.000000  \n",
       "75%             3.270000                2.000000  \n",
       "max             5.400000                9.000000  "
      ]
     },
     "execution_count": 6,
     "metadata": {},
     "output_type": "execute_result"
    }
   ],
   "source": [
    "churn_data.describe()"
   ]
  },
  {
   "cell_type": "markdown",
   "metadata": {},
   "source": [
    "Checking column names and if there are any null values/data that needs to be transformed"
   ]
  },
  {
   "cell_type": "code",
   "execution_count": 7,
   "metadata": {
    "ExecuteTime": {
     "end_time": "2023-10-06T15:52:58.155538Z",
     "start_time": "2023-10-06T15:52:58.142529Z"
    }
   },
   "outputs": [
    {
     "data": {
      "text/plain": [
       "False    0.855086\n",
       "True     0.144914\n",
       "Name: churn, dtype: float64"
      ]
     },
     "execution_count": 7,
     "metadata": {},
     "output_type": "execute_result"
    }
   ],
   "source": [
    "churn_data['churn'].value_counts(normalize = True)"
   ]
  },
  {
   "cell_type": "markdown",
   "metadata": {},
   "source": [
    "Seems like the data may be quite imbalanced, I will explore that later in the notebook"
   ]
  },
  {
   "cell_type": "code",
   "execution_count": 8,
   "metadata": {
    "ExecuteTime": {
     "end_time": "2023-10-06T15:52:58.170557Z",
     "start_time": "2023-10-06T15:52:58.156538Z"
    }
   },
   "outputs": [
    {
     "data": {
      "text/plain": [
       "no     3010\n",
       "yes     323\n",
       "Name: international plan, dtype: int64"
      ]
     },
     "execution_count": 8,
     "metadata": {},
     "output_type": "execute_result"
    }
   ],
   "source": [
    "churn_data['international plan'].value_counts()"
   ]
  },
  {
   "cell_type": "markdown",
   "metadata": {},
   "source": [
    "Seeing what the values for international plan are"
   ]
  },
  {
   "cell_type": "code",
   "execution_count": 9,
   "metadata": {
    "ExecuteTime": {
     "end_time": "2023-10-06T15:52:58.185566Z",
     "start_time": "2023-10-06T15:52:58.171559Z"
    }
   },
   "outputs": [],
   "source": [
    "X = churn_data.drop(['phone number','churn'], axis = 1)\n",
    "y = churn_data.churn\n",
    "\n",
    "X_train, X_test, y_train, y_test = train_test_split(X,y, random_state = 0)"
   ]
  },
  {
   "cell_type": "code",
   "execution_count": 10,
   "metadata": {
    "ExecuteTime": {
     "end_time": "2023-10-06T15:52:58.200578Z",
     "start_time": "2023-10-06T15:52:58.186566Z"
    }
   },
   "outputs": [
    {
     "data": {
      "text/plain": [
       "Index(['state', 'account length', 'area code', 'international plan',\n",
       "       'voice mail plan', 'number vmail messages', 'total day minutes',\n",
       "       'total day calls', 'total day charge', 'total eve minutes',\n",
       "       'total eve calls', 'total eve charge', 'total night minutes',\n",
       "       'total night calls', 'total night charge', 'total intl minutes',\n",
       "       'total intl calls', 'total intl charge', 'customer service calls'],\n",
       "      dtype='object')"
      ]
     },
     "execution_count": 10,
     "metadata": {},
     "output_type": "execute_result"
    }
   ],
   "source": [
    "X_train.columns"
   ]
  },
  {
   "cell_type": "code",
   "execution_count": 11,
   "metadata": {
    "ExecuteTime": {
     "end_time": "2023-10-06T15:52:58.216093Z",
     "start_time": "2023-10-06T15:52:58.201081Z"
    }
   },
   "outputs": [
    {
     "name": "stdout",
     "output_type": "stream",
     "text": [
      "<class 'pandas.core.frame.DataFrame'>\n",
      "Int64Index: 2499 entries, 427 to 2732\n",
      "Data columns (total 19 columns):\n",
      " #   Column                  Non-Null Count  Dtype  \n",
      "---  ------                  --------------  -----  \n",
      " 0   state                   2499 non-null   object \n",
      " 1   account length          2499 non-null   int64  \n",
      " 2   area code               2499 non-null   int64  \n",
      " 3   international plan      2499 non-null   object \n",
      " 4   voice mail plan         2499 non-null   object \n",
      " 5   number vmail messages   2499 non-null   int64  \n",
      " 6   total day minutes       2499 non-null   float64\n",
      " 7   total day calls         2499 non-null   int64  \n",
      " 8   total day charge        2499 non-null   float64\n",
      " 9   total eve minutes       2499 non-null   float64\n",
      " 10  total eve calls         2499 non-null   int64  \n",
      " 11  total eve charge        2499 non-null   float64\n",
      " 12  total night minutes     2499 non-null   float64\n",
      " 13  total night calls       2499 non-null   int64  \n",
      " 14  total night charge      2499 non-null   float64\n",
      " 15  total intl minutes      2499 non-null   float64\n",
      " 16  total intl calls        2499 non-null   int64  \n",
      " 17  total intl charge       2499 non-null   float64\n",
      " 18  customer service calls  2499 non-null   int64  \n",
      "dtypes: float64(8), int64(8), object(3)\n",
      "memory usage: 390.5+ KB\n"
     ]
    }
   ],
   "source": [
    "X_train.info()"
   ]
  },
  {
   "cell_type": "markdown",
   "metadata": {},
   "source": [
    "Double checking the split to make sure it looks correct"
   ]
  },
  {
   "cell_type": "code",
   "execution_count": 12,
   "metadata": {
    "ExecuteTime": {
     "end_time": "2023-10-06T15:52:58.231925Z",
     "start_time": "2023-10-06T15:52:58.217093Z"
    }
   },
   "outputs": [],
   "source": [
    "cat_cols = ['state', 'international plan', 'voice mail plan','area code']"
   ]
  },
  {
   "cell_type": "code",
   "execution_count": 13,
   "metadata": {
    "ExecuteTime": {
     "end_time": "2023-10-06T15:52:58.247522Z",
     "start_time": "2023-10-06T15:52:58.232928Z"
    }
   },
   "outputs": [],
   "source": [
    "numeric_cols = ['account length', 'number vmail messages', 'total day minutes',\n",
    "       'total day calls', 'total day charge', 'total eve minutes',\n",
    "       'total eve calls', 'total eve charge', 'total night minutes',\n",
    "       'total night calls', 'total night charge', 'total intl minutes',\n",
    "       'total intl calls', 'total intl charge', 'customer service calls']"
   ]
  },
  {
   "cell_type": "code",
   "execution_count": 14,
   "metadata": {
    "ExecuteTime": {
     "end_time": "2023-10-06T15:52:58.263030Z",
     "start_time": "2023-10-06T15:52:58.248518Z"
    }
   },
   "outputs": [],
   "source": [
    "subpipe_numeric = Pipeline(steps =[\n",
    "    ('num_impute', SimpleImputer()),\n",
    "    ('ss', StandardScaler())\n",
    "])\n",
    "\n",
    "subpipe_cat = Pipeline(steps = [\n",
    "    ('cat_impute', SimpleImputer(strategy='most_frequent')),\n",
    "    ('ohe', OneHotEncoder(sparse = False, handle_unknown='ignore'))\n",
    "])"
   ]
  },
  {
   "cell_type": "code",
   "execution_count": 15,
   "metadata": {
    "ExecuteTime": {
     "end_time": "2023-10-06T15:52:58.278538Z",
     "start_time": "2023-10-06T15:52:58.263030Z"
    }
   },
   "outputs": [],
   "source": [
    "CT = ColumnTransformer(transformers = [\n",
    "    ('subpipe_num', subpipe_numeric,numeric_cols),\n",
    "    ('subpipe_cat', subpipe_cat, cat_cols)\n",
    "])"
   ]
  },
  {
   "cell_type": "code",
   "execution_count": 16,
   "metadata": {
    "ExecuteTime": {
     "end_time": "2023-10-06T15:52:58.294617Z",
     "start_time": "2023-10-06T15:52:58.279538Z"
    }
   },
   "outputs": [],
   "source": [
    "dummy_model_pipe = Pipeline([\n",
    "    ('ct',CT),\n",
    "    ('dummy', DummyClassifier(strategy = 'most_frequent'))\n",
    "])"
   ]
  },
  {
   "cell_type": "code",
   "execution_count": 17,
   "metadata": {
    "ExecuteTime": {
     "end_time": "2023-10-06T15:52:58.357241Z",
     "start_time": "2023-10-06T15:52:58.295535Z"
    }
   },
   "outputs": [
    {
     "data": {
      "text/plain": [
       "Pipeline(steps=[('ct',\n",
       "                 ColumnTransformer(transformers=[('subpipe_num',\n",
       "                                                  Pipeline(steps=[('num_impute',\n",
       "                                                                   SimpleImputer()),\n",
       "                                                                  ('ss',\n",
       "                                                                   StandardScaler())]),\n",
       "                                                  ['account length',\n",
       "                                                   'number vmail messages',\n",
       "                                                   'total day minutes',\n",
       "                                                   'total day calls',\n",
       "                                                   'total day charge',\n",
       "                                                   'total eve minutes',\n",
       "                                                   'total eve calls',\n",
       "                                                   'total eve charge',\n",
       "                                                   'total night minutes',\n",
       "                                                   'total night calls',\n",
       "                                                   'total night charge',\n",
       "                                                   'total intl minutes',\n",
       "                                                   'total intl calls',\n",
       "                                                   'total intl charge',\n",
       "                                                   'customer service calls']),\n",
       "                                                 ('subpipe_cat',\n",
       "                                                  Pipeline(steps=[('cat_impute',\n",
       "                                                                   SimpleImputer(strategy='most_frequent')),\n",
       "                                                                  ('ohe',\n",
       "                                                                   OneHotEncoder(handle_unknown='ignore',\n",
       "                                                                                 sparse=False))]),\n",
       "                                                  ['state',\n",
       "                                                   'international plan',\n",
       "                                                   'voice mail plan',\n",
       "                                                   'area code'])])),\n",
       "                ('dummy', DummyClassifier(strategy='most_frequent'))])"
      ]
     },
     "execution_count": 17,
     "metadata": {},
     "output_type": "execute_result"
    }
   ],
   "source": [
    "dummy_model_pipe.fit(X_train,y_train)"
   ]
  },
  {
   "cell_type": "code",
   "execution_count": 18,
   "metadata": {
    "ExecuteTime": {
     "end_time": "2023-10-06T15:52:58.372686Z",
     "start_time": "2023-10-06T15:52:58.358171Z"
    }
   },
   "outputs": [
    {
     "data": {
      "text/plain": [
       "0.8527410964385754"
      ]
     },
     "execution_count": 18,
     "metadata": {},
     "output_type": "execute_result"
    }
   ],
   "source": [
    "dummy_model_pipe.score(X_train, y_train)"
   ]
  },
  {
   "cell_type": "code",
   "execution_count": 19,
   "metadata": {
    "ExecuteTime": {
     "end_time": "2023-10-06T15:52:58.387695Z",
     "start_time": "2023-10-06T15:52:58.373686Z"
    }
   },
   "outputs": [
    {
     "data": {
      "text/plain": [
       "0.8621103117505995"
      ]
     },
     "execution_count": 19,
     "metadata": {},
     "output_type": "execute_result"
    }
   ],
   "source": [
    "dummy_model_pipe.score(X_test, y_test)"
   ]
  },
  {
   "cell_type": "code",
   "execution_count": 20,
   "metadata": {
    "ExecuteTime": {
     "end_time": "2023-10-06T15:52:59.498097Z",
     "start_time": "2023-10-06T15:52:58.388695Z"
    }
   },
   "outputs": [
    {
     "data": {
      "text/plain": [
       "<AxesSubplot:>"
      ]
     },
     "execution_count": 20,
     "metadata": {},
     "output_type": "execute_result"
    },
    {
     "data": {
      "image/png": "[encoded data removed]",
      "text/plain": [
       "<Figure size 864x576 with 2 Axes>"
      ]
     },
     "metadata": {
      "needs_background": "light"
     },
     "output_type": "display_data"
    }
   ],
   "source": [
    "fig, ax = plt.subplots(figsize = (12,8))\n",
    "sns.heatmap(churn_data.drop(['state', 'international plan', 'voice mail plan'], axis = 1).corr(), annot = True)"
   ]
  },
  {
   "cell_type": "markdown",
   "metadata": {},
   "source": [
    "From the first glance it seems like churn doesn't have any especially strong correlations it seems it's most positively correlated with them calling into the service and negatively correclated with how many vmail messages they have as well as the total amount of international calls they are making."
   ]
  },
  {
   "cell_type": "code",
   "execution_count": 21,
   "metadata": {
    "ExecuteTime": {
     "end_time": "2023-10-06T15:52:59.513133Z",
     "start_time": "2023-10-06T15:52:59.499097Z"
    }
   },
   "outputs": [],
   "source": [
    "logreg = Pipeline(steps = [\n",
    "    ('ct', CT),\n",
    "    ('logreg', LogisticRegression())\n",
    "])"
   ]
  },
  {
   "cell_type": "code",
   "execution_count": 22,
   "metadata": {
    "ExecuteTime": {
     "end_time": "2023-10-06T15:52:59.605705Z",
     "start_time": "2023-10-06T15:52:59.514133Z"
    },
    "scrolled": true
   },
   "outputs": [
    {
     "data": {
      "text/plain": [
       "Pipeline(steps=[('ct',\n",
       "                 ColumnTransformer(transformers=[('subpipe_num',\n",
       "                                                  Pipeline(steps=[('num_impute',\n",
       "                                                                   SimpleImputer()),\n",
       "                                                                  ('ss',\n",
       "                                                                   StandardScaler())]),\n",
       "                                                  ['account length',\n",
       "                                                   'number vmail messages',\n",
       "                                                   'total day minutes',\n",
       "                                                   'total day calls',\n",
       "                                                   'total day charge',\n",
       "                                                   'total eve minutes',\n",
       "                                                   'total eve calls',\n",
       "                                                   'total eve charge',\n",
       "                                                   'total night minutes',\n",
       "                                                   'total night calls',\n",
       "                                                   'total night charge',\n",
       "                                                   'total intl minutes',\n",
       "                                                   'total intl calls',\n",
       "                                                   'total intl charge',\n",
       "                                                   'customer service calls']),\n",
       "                                                 ('subpipe_cat',\n",
       "                                                  Pipeline(steps=[('cat_impute',\n",
       "                                                                   SimpleImputer(strategy='most_frequent')),\n",
       "                                                                  ('ohe',\n",
       "                                                                   OneHotEncoder(handle_unknown='ignore',\n",
       "                                                                                 sparse=False))]),\n",
       "                                                  ['state',\n",
       "                                                   'international plan',\n",
       "                                                   'voice mail plan',\n",
       "                                                   'area code'])])),\n",
       "                ('logreg', LogisticRegression())])"
      ]
     },
     "execution_count": 22,
     "metadata": {},
     "output_type": "execute_result"
    }
   ],
   "source": [
    "logreg.fit(X_train, y_train)"
   ]
  },
  {
   "cell_type": "code",
   "execution_count": 23,
   "metadata": {
    "ExecuteTime": {
     "end_time": "2023-10-06T15:52:59.620517Z",
     "start_time": "2023-10-06T15:52:59.607208Z"
    }
   },
   "outputs": [
    {
     "data": {
      "text/plain": [
       "0.8711484593837535"
      ]
     },
     "execution_count": 23,
     "metadata": {},
     "output_type": "execute_result"
    }
   ],
   "source": [
    "logreg.score(X_train, y_train)"
   ]
  },
  {
   "cell_type": "code",
   "execution_count": 24,
   "metadata": {
    "ExecuteTime": {
     "end_time": "2023-10-06T15:52:59.636085Z",
     "start_time": "2023-10-06T15:52:59.622023Z"
    }
   },
   "outputs": [
    {
     "data": {
      "text/plain": [
       "0.8513189448441247"
      ]
     },
     "execution_count": 24,
     "metadata": {},
     "output_type": "execute_result"
    }
   ],
   "source": [
    "logreg.score(X_test, y_test)"
   ]
  },
  {
   "cell_type": "code",
   "execution_count": 25,
   "metadata": {
    "ExecuteTime": {
     "end_time": "2023-10-06T15:52:59.728214Z",
     "start_time": "2023-10-06T15:52:59.637589Z"
    }
   },
   "outputs": [
    {
     "data": {
      "text/plain": [
       "Pipeline(steps=[('ct',\n",
       "                 ColumnTransformer(transformers=[('subpipe_num',\n",
       "                                                  Pipeline(steps=[('num_impute',\n",
       "                                                                   SimpleImputer()),\n",
       "                                                                  ('ss',\n",
       "                                                                   StandardScaler())]),\n",
       "                                                  ['account length',\n",
       "                                                   'number vmail messages',\n",
       "                                                   'total day minutes',\n",
       "                                                   'total day calls',\n",
       "                                                   'total day charge',\n",
       "                                                   'total eve minutes',\n",
       "                                                   'total eve calls',\n",
       "                                                   'total eve charge',\n",
       "                                                   'total night minutes',\n",
       "                                                   'total night calls',\n",
       "                                                   'total night charge',\n",
       "                                                   'total intl minutes',\n",
       "                                                   'total intl calls',\n",
       "                                                   'total intl charge',\n",
       "                                                   'customer service calls']),\n",
       "                                                 ('subpipe_cat',\n",
       "                                                  Pipeline(steps=[('cat_impute',\n",
       "                                                                   SimpleImputer(strategy='most_frequent')),\n",
       "                                                                  ('ohe',\n",
       "                                                                   OneHotEncoder(handle_unknown='ignore',\n",
       "                                                                                 sparse=False))]),\n",
       "                                                  ['state',\n",
       "                                                   'international plan',\n",
       "                                                   'voice mail plan',\n",
       "                                                   'area code'])])),\n",
       "                ('logreg', LogisticRegression())])"
      ]
     },
     "execution_count": 25,
     "metadata": {},
     "output_type": "execute_result"
    }
   ],
   "source": [
    "logreg.fit(X_train, y_train)"
   ]
  },
  {
   "cell_type": "markdown",
   "metadata": {},
   "source": [
    "Seems like the model may be a tad overfit, it may be because we have the state columns as well as the Area code columns, I'll try another model without the states to see if that helps the test data."
   ]
  },
  {
   "cell_type": "code",
   "execution_count": 26,
   "metadata": {
    "ExecuteTime": {
     "end_time": "2023-10-06T15:52:59.743261Z",
     "start_time": "2023-10-06T15:52:59.729214Z"
    }
   },
   "outputs": [
    {
     "data": {
      "text/plain": [
       "['state', 'international plan', 'voice mail plan', 'area code']"
      ]
     },
     "execution_count": 26,
     "metadata": {},
     "output_type": "execute_result"
    }
   ],
   "source": [
    "cat_cols"
   ]
  },
  {
   "cell_type": "code",
   "execution_count": 27,
   "metadata": {
    "ExecuteTime": {
     "end_time": "2023-10-06T15:52:59.834842Z",
     "start_time": "2023-10-06T15:52:59.744261Z"
    }
   },
   "outputs": [
    {
     "data": {
      "text/plain": [
       "<sklearn.metrics._plot.roc_curve.RocCurveDisplay at 0x245c338ba90>"
      ]
     },
     "execution_count": 27,
     "metadata": {},
     "output_type": "execute_result"
    },
    {
     "data": {
      "image/png": "[encoded data removed]",
      "text/plain": [
       "<Figure size 432x288 with 1 Axes>"
      ]
     },
     "metadata": {
      "needs_background": "light"
     },
     "output_type": "display_data"
    }
   ],
   "source": [
    "plot_roc_curve(baseline_model, X_train, y_train)"
   ]
  },
  {
   "cell_type": "code",
   "execution_count": 28,
   "metadata": {
    "ExecuteTime": {
     "end_time": "2023-10-06T15:52:59.958193Z",
     "start_time": "2023-10-06T15:52:59.835842Z"
    }
   },
   "outputs": [
    {
     "data": {
      "text/plain": [
       "<sklearn.metrics._plot.confusion_matrix.ConfusionMatrixDisplay at 0x245c553ed60>"
      ]
     },
     "execution_count": 28,
     "metadata": {},
     "output_type": "execute_result"
    },
    {
     "data": {
      "image/png": "[encoded data removed]",
      "text/plain": [
       "<Figure size 432x288 with 2 Axes>"
      ]
     },
     "metadata": {
      "needs_background": "light"
     },
     "output_type": "display_data"
    }
   ],
   "source": [
    "plot_confusion_matrix(baseline_model, X_test, y_test)"
   ]
  },
  {
   "cell_type": "code",
   "execution_count": 29,
   "metadata": {
    "ExecuteTime": {
     "end_time": "2023-10-06T15:52:59.973707Z",
     "start_time": "2023-10-06T15:52:59.959194Z"
    }
   },
   "outputs": [
    {
     "name": "stdout",
     "output_type": "stream",
     "text": [
      "              precision    recall  f1-score   support\n",
      "\n",
      "       False       0.88      0.96      0.92       719\n",
      "        True       0.42      0.20      0.27       115\n",
      "\n",
      "    accuracy                           0.85       834\n",
      "   macro avg       0.65      0.58      0.59       834\n",
      "weighted avg       0.82      0.85      0.83       834\n",
      "\n"
     ]
    }
   ],
   "source": [
    "print(classification_report(y_test, baseline_model.predict(X_test)))"
   ]
  },
  {
   "cell_type": "markdown",
   "metadata": {},
   "source": [
    "Not a great recall score, I think we should err on the side of caution and try to identify as many cases as churn as possible without drastically decreasing our accuracy score to prevent as many people as possible from leaving the service by perhaps offering incentives on the positively correlated items that seem to have people leave the service"
   ]
  },
  {
   "cell_type": "code",
   "execution_count": 30,
   "metadata": {
    "ExecuteTime": {
     "end_time": "2023-10-06T15:52:59.989721Z",
     "start_time": "2023-10-06T15:52:59.974707Z"
    }
   },
   "outputs": [],
   "source": [
    "ohe_no_states = OneHotEncoder(drop = 'first')"
   ]
  },
  {
   "cell_type": "code",
   "execution_count": 31,
   "metadata": {
    "ExecuteTime": {
     "end_time": "2023-10-06T15:53:00.235760Z",
     "start_time": "2023-10-06T15:52:59.991224Z"
    }
   },
   "outputs": [
    {
     "data": {
      "text/plain": [
       "array([0.86993497, 0.87593797, 0.86943472, 0.87293647, 0.874     ])"
      ]
     },
     "execution_count": 31,
     "metadata": {},
     "output_type": "execute_result"
    }
   ],
   "source": [
    "cv_results = cross_validate(\n",
    "                    estimator=baseline_model,\n",
    "                    X=X_train,\n",
    "                    y=y_train,\n",
    "                    cv=5,\n",
    "                    return_train_score=True\n",
    ")\n",
    "\n",
    "cv_results['train_score']"
   ]
  },
  {
   "cell_type": "code",
   "execution_count": 32,
   "metadata": {
    "ExecuteTime": {
     "end_time": "2023-10-06T15:53:00.405541Z",
     "start_time": "2023-10-06T15:53:00.236761Z"
    }
   },
   "outputs": [
    {
     "data": {
      "text/plain": [
       "array([0.88155922, 0.88455772, 0.89505247, 0.89205397, 0.88622754])"
      ]
     },
     "execution_count": 32,
     "metadata": {},
     "output_type": "execute_result"
    }
   ],
   "source": [
    "cv_results = cross_validate(\n",
    "                    estimator=baseline_model,\n",
    "                    X=X_test,\n",
    "                    y=y_test,\n",
    "                    cv=5,\n",
    "                    return_train_score=True\n",
    ")\n",
    "\n",
    "cv_results['train_score']"
   ]
  },
  {
   "cell_type": "code",
   "execution_count": 33,
   "metadata": {
    "ExecuteTime": {
     "end_time": "2023-10-06T15:53:00.420557Z",
     "start_time": "2023-10-06T15:53:00.405541Z"
    }
   },
   "outputs": [],
   "source": [
    "cat_cols_no_states = cat_cols[1:]"
   ]
  },
  {
   "cell_type": "code",
   "execution_count": 34,
   "metadata": {
    "ExecuteTime": {
     "end_time": "2023-10-06T15:53:00.436077Z",
     "start_time": "2023-10-06T15:53:00.421060Z"
    }
   },
   "outputs": [],
   "source": [
    "CT_no_states = ColumnTransformer(transformers = [\n",
    "    ('subpipe_num', subpipe_numeric,numeric_cols),\n",
    "    ('subpipe_cat', subpipe_cat, cat_cols_no_states)\n",
    "])"
   ]
  },
  {
   "cell_type": "code",
   "execution_count": 35,
   "metadata": {
    "ExecuteTime": {
     "end_time": "2023-10-06T15:53:00.451111Z",
     "start_time": "2023-10-06T15:53:00.437077Z"
    }
   },
   "outputs": [],
   "source": [
    "logreg_no_states = Pipeline([\n",
    "    ('ct', CT_no_states),\n",
    "    ('logreg', LogisticRegression())\n",
    "])"
   ]
  },
  {
   "cell_type": "code",
   "execution_count": 36,
   "metadata": {
    "ExecuteTime": {
     "end_time": "2023-10-06T15:53:00.528186Z",
     "start_time": "2023-10-06T15:53:00.452114Z"
    }
   },
   "outputs": [
    {
     "data": {
      "text/plain": [
       "Pipeline(steps=[('ct',\n",
       "                 ColumnTransformer(transformers=[('subpipe_num',\n",
       "                                                  Pipeline(steps=[('num_impute',\n",
       "                                                                   SimpleImputer()),\n",
       "                                                                  ('ss',\n",
       "                                                                   StandardScaler())]),\n",
       "                                                  ['account length',\n",
       "                                                   'number vmail messages',\n",
       "                                                   'total day minutes',\n",
       "                                                   'total day calls',\n",
       "                                                   'total day charge',\n",
       "                                                   'total eve minutes',\n",
       "                                                   'total eve calls',\n",
       "                                                   'total eve charge',\n",
       "                                                   'total night minutes',\n",
       "                                                   'total night calls',\n",
       "                                                   'total night charge',\n",
       "                                                   'total intl minutes',\n",
       "                                                   'total intl calls',\n",
       "                                                   'total intl charge',\n",
       "                                                   'customer service calls']),\n",
       "                                                 ('subpipe_cat',\n",
       "                                                  Pipeline(steps=[('cat_impute',\n",
       "                                                                   SimpleImputer(strategy='most_frequent')),\n",
       "                                                                  ('ohe',\n",
       "                                                                   OneHotEncoder(handle_unknown='ignore',\n",
       "                                                                                 sparse=False))]),\n",
       "                                                  ['international plan',\n",
       "                                                   'voice mail plan',\n",
       "                                                   'area code'])])),\n",
       "                ('logreg', LogisticRegression())])"
      ]
     },
     "execution_count": 36,
     "metadata": {},
     "output_type": "execute_result"
    }
   ],
   "source": [
    "logreg_no_states.fit(X_train, y_train)"
   ]
  },
  {
   "cell_type": "code",
   "execution_count": 144,
   "metadata": {
    "ExecuteTime": {
     "end_time": "2023-10-09T05:53:55.425556Z",
     "start_time": "2023-10-09T05:53:55.340265Z"
    }
   },
   "outputs": [
    {
     "data": {
      "text/plain": [
       "<sklearn.metrics._plot.roc_curve.RocCurveDisplay at 0x245c8bab400>"
      ]
     },
     "execution_count": 144,
     "metadata": {},
     "output_type": "execute_result"
    },
    {
     "data": {
      "image/png": "[encoded data removed]",
      "text/plain": [
       "<Figure size 432x288 with 1 Axes>"
      ]
     },
     "metadata": {
      "needs_background": "light"
     },
     "output_type": "display_data"
    }
   ],
   "source": [
    "plot_roc_curve(logreg_no_states, X_test, y_test)"
   ]
  },
  {
   "cell_type": "code",
   "execution_count": 38,
   "metadata": {
    "ExecuteTime": {
     "end_time": "2023-10-06T15:53:00.697535Z",
     "start_time": "2023-10-06T15:53:00.606756Z"
    }
   },
   "outputs": [
    {
     "data": {
      "text/plain": [
       "<sklearn.metrics._plot.confusion_matrix.ConfusionMatrixDisplay at 0x245c5558d60>"
      ]
     },
     "execution_count": 38,
     "metadata": {},
     "output_type": "execute_result"
    },
    {
     "data": {
      "image/png": "[encoded data removed]",
      "text/plain": [
       "<Figure size 432x288 with 2 Axes>"
      ]
     },
     "metadata": {
      "needs_background": "light"
     },
     "output_type": "display_data"
    }
   ],
   "source": [
    "plot_confusion_matrix(logreg_no_states, X_test, y_test)"
   ]
  },
  {
   "cell_type": "code",
   "execution_count": 39,
   "metadata": {
    "ExecuteTime": {
     "end_time": "2023-10-06T15:53:00.713020Z",
     "start_time": "2023-10-06T15:53:00.698535Z"
    }
   },
   "outputs": [
    {
     "name": "stdout",
     "output_type": "stream",
     "text": [
      "              precision    recall  f1-score   support\n",
      "\n",
      "       False       0.88      0.97      0.93       719\n",
      "        True       0.55      0.19      0.28       115\n",
      "\n",
      "    accuracy                           0.87       834\n",
      "   macro avg       0.72      0.58      0.61       834\n",
      "weighted avg       0.84      0.87      0.84       834\n",
      "\n"
     ]
    }
   ],
   "source": [
    "print(classification_report(y_test, logreg_no_states.predict(X_test)))"
   ]
  },
  {
   "cell_type": "code",
   "execution_count": 40,
   "metadata": {
    "ExecuteTime": {
     "end_time": "2023-10-06T15:53:00.898565Z",
     "start_time": "2023-10-06T15:53:00.714020Z"
    }
   },
   "outputs": [
    {
     "data": {
      "text/plain": [
       "array([0.85642821, 0.86143072, 0.85442721, 0.86443222, 0.8615    ])"
      ]
     },
     "execution_count": 40,
     "metadata": {},
     "output_type": "execute_result"
    }
   ],
   "source": [
    "cv_results = cross_validate(\n",
    "                    estimator=logreg_no_states,\n",
    "                    X=X_train,\n",
    "                    y=y_train,\n",
    "                    cv=5,\n",
    "                    return_train_score=True\n",
    ")\n",
    "\n",
    "cv_results['train_score']"
   ]
  },
  {
   "cell_type": "markdown",
   "metadata": {},
   "source": [
    "Seems like states help with our graph even though they add a lot of additional columns"
   ]
  },
  {
   "cell_type": "code",
   "execution_count": 41,
   "metadata": {
    "ExecuteTime": {
     "end_time": "2023-10-06T15:53:01.980686Z",
     "start_time": "2023-10-06T15:53:00.898565Z"
    }
   },
   "outputs": [
    {
     "data": {
      "text/plain": [
       "<AxesSubplot:>"
      ]
     },
     "execution_count": 41,
     "metadata": {},
     "output_type": "execute_result"
    },
    {
     "data": {
      "image/png": "[encoded data removed]",
      "text/plain": [
       "<Figure size 864x576 with 2 Axes>"
      ]
     },
     "metadata": {
      "needs_background": "light"
     },
     "output_type": "display_data"
    }
   ],
   "source": [
    "fig, ax = plt.subplots(figsize = (12,8))\n",
    "sns.heatmap(churn_data.drop(['state', 'international plan', 'voice mail plan'], axis = 1).corr(), annot = True)"
   ]
  },
  {
   "cell_type": "markdown",
   "metadata": {},
   "source": [
    "To try and improve recall I'll make a logistic regression model using the highest postively correlated values and highest negatively correlated values"
   ]
  },
  {
   "cell_type": "code",
   "execution_count": 42,
   "metadata": {
    "ExecuteTime": {
     "end_time": "2023-10-06T15:53:01.995696Z",
     "start_time": "2023-10-06T15:53:01.981189Z"
    }
   },
   "outputs": [],
   "source": [
    "strong_numeric_cols = ['total day minutes', 'total day charge', 'total eve minutes','total eve charge',\n",
    "                       'customer service calls','number vmail messages', 'total intl calls']"
   ]
  },
  {
   "cell_type": "code",
   "execution_count": 43,
   "metadata": {
    "ExecuteTime": {
     "end_time": "2023-10-06T15:53:02.010511Z",
     "start_time": "2023-10-06T15:53:01.996696Z"
    }
   },
   "outputs": [],
   "source": [
    "CT_strong = ColumnTransformer(transformers = [\n",
    "    ('subpipe_num', subpipe_numeric,strong_numeric_cols),\n",
    "    ('subpipe_cat', subpipe_cat, cat_cols)\n",
    "])"
   ]
  },
  {
   "cell_type": "code",
   "execution_count": 44,
   "metadata": {
    "ExecuteTime": {
     "end_time": "2023-10-06T15:53:02.026907Z",
     "start_time": "2023-10-06T15:53:02.011516Z"
    }
   },
   "outputs": [],
   "source": [
    "logreg_recall = Pipeline([\n",
    "    ('ct',CT_strong),\n",
    "    ('logreg', LogisticRegression())\n",
    "])"
   ]
  },
  {
   "cell_type": "code",
   "execution_count": 45,
   "metadata": {
    "ExecuteTime": {
     "end_time": "2023-10-06T15:53:02.118039Z",
     "start_time": "2023-10-06T15:53:02.027909Z"
    }
   },
   "outputs": [
    {
     "data": {
      "text/plain": [
       "Pipeline(steps=[('ct',\n",
       "                 ColumnTransformer(transformers=[('subpipe_num',\n",
       "                                                  Pipeline(steps=[('num_impute',\n",
       "                                                                   SimpleImputer()),\n",
       "                                                                  ('ss',\n",
       "                                                                   StandardScaler())]),\n",
       "                                                  ['total day minutes',\n",
       "                                                   'total day charge',\n",
       "                                                   'total eve minutes',\n",
       "                                                   'total eve charge',\n",
       "                                                   'customer service calls',\n",
       "                                                   'number vmail messages',\n",
       "                                                   'total intl calls']),\n",
       "                                                 ('subpipe_cat',\n",
       "                                                  Pipeline(steps=[('cat_impute',\n",
       "                                                                   SimpleImputer(strategy='most_frequent')),\n",
       "                                                                  ('ohe',\n",
       "                                                                   OneHotEncoder(handle_unknown='ignore',\n",
       "                                                                                 sparse=False))]),\n",
       "                                                  ['state',\n",
       "                                                   'international plan',\n",
       "                                                   'voice mail plan',\n",
       "                                                   'area code'])])),\n",
       "                ('logreg', LogisticRegression())])"
      ]
     },
     "execution_count": 45,
     "metadata": {},
     "output_type": "execute_result"
    }
   ],
   "source": [
    "logreg_recall.fit(X_train, y_train)"
   ]
  },
  {
   "cell_type": "code",
   "execution_count": 46,
   "metadata": {
    "ExecuteTime": {
     "end_time": "2023-10-06T15:53:02.351353Z",
     "start_time": "2023-10-06T15:53:02.119039Z"
    }
   },
   "outputs": [
    {
     "data": {
      "text/plain": [
       "array([0.86893447, 0.86943472, 0.87043522, 0.87043522, 0.87      ])"
      ]
     },
     "execution_count": 46,
     "metadata": {},
     "output_type": "execute_result"
    }
   ],
   "source": [
    "cv_results = cross_validate(\n",
    "                    estimator=logreg_recall,\n",
    "                    X=X_train,\n",
    "                    y=y_train,\n",
    "                    cv=5,\n",
    "                    return_train_score=True\n",
    ")\n",
    "\n",
    "cv_results['train_score']"
   ]
  },
  {
   "cell_type": "code",
   "execution_count": 47,
   "metadata": {
    "ExecuteTime": {
     "end_time": "2023-10-06T15:53:02.444545Z",
     "start_time": "2023-10-06T15:53:02.352353Z"
    }
   },
   "outputs": [
    {
     "data": {
      "text/plain": [
       "<sklearn.metrics._plot.roc_curve.RocCurveDisplay at 0x245c707e820>"
      ]
     },
     "execution_count": 47,
     "metadata": {},
     "output_type": "execute_result"
    },
    {
     "data": {
      "image/png": "[encoded data removed]",
      "text/plain": [
       "<Figure size 432x288 with 1 Axes>"
      ]
     },
     "metadata": {
      "needs_background": "light"
     },
     "output_type": "display_data"
    }
   ],
   "source": [
    "plot_roc_curve(logreg_recall, X_train, y_train)"
   ]
  },
  {
   "cell_type": "code",
   "execution_count": 48,
   "metadata": {
    "ExecuteTime": {
     "end_time": "2023-10-06T15:53:02.568586Z",
     "start_time": "2023-10-06T15:53:02.445545Z"
    }
   },
   "outputs": [
    {
     "data": {
      "text/plain": [
       "<sklearn.metrics._plot.confusion_matrix.ConfusionMatrixDisplay at 0x245c708dfd0>"
      ]
     },
     "execution_count": 48,
     "metadata": {},
     "output_type": "execute_result"
    },
    {
     "data": {
      "image/png": "[encoded data removed]",
      "text/plain": [
       "<Figure size 432x288 with 2 Axes>"
      ]
     },
     "metadata": {
      "needs_background": "light"
     },
     "output_type": "display_data"
    }
   ],
   "source": [
    "plot_confusion_matrix(logreg_recall, X_test, y_test)"
   ]
  },
  {
   "cell_type": "code",
   "execution_count": 49,
   "metadata": {
    "ExecuteTime": {
     "end_time": "2023-10-06T15:53:02.583633Z",
     "start_time": "2023-10-06T15:53:02.569586Z"
    }
   },
   "outputs": [
    {
     "name": "stdout",
     "output_type": "stream",
     "text": [
      "              precision    recall  f1-score   support\n",
      "\n",
      "       False       0.88      0.96      0.92       719\n",
      "        True       0.45      0.18      0.26       115\n",
      "\n",
      "    accuracy                           0.86       834\n",
      "   macro avg       0.66      0.57      0.59       834\n",
      "weighted avg       0.82      0.86      0.83       834\n",
      "\n"
     ]
    }
   ],
   "source": [
    "print(classification_report(y_test, logreg_recall.predict(X_test)))"
   ]
  },
  {
   "cell_type": "markdown",
   "metadata": {},
   "source": [
    "Seems like it had the opposite effect, I will try doing a polynomial features on the columns to see if that increases the recall at all."
   ]
  },
  {
   "cell_type": "code",
   "execution_count": null,
   "metadata": {},
   "outputs": [],
   "source": []
  },
  {
   "cell_type": "code",
   "execution_count": 50,
   "metadata": {
    "ExecuteTime": {
     "end_time": "2023-10-06T15:53:02.598863Z",
     "start_time": "2023-10-06T15:53:02.584633Z"
    }
   },
   "outputs": [],
   "source": [
    "model_less_regularization = Pipeline([\n",
    "    ('ct', CT),\n",
    "    ('logreg',LogisticRegression(C=1e12, random_state=0, class_weight={1:0.28}))\n",
    "])"
   ]
  },
  {
   "cell_type": "code",
   "execution_count": 51,
   "metadata": {
    "ExecuteTime": {
     "end_time": "2023-10-06T15:53:02.691979Z",
     "start_time": "2023-10-06T15:53:02.600366Z"
    }
   },
   "outputs": [
    {
     "name": "stderr",
     "output_type": "stream",
     "text": [
      "C:\\Users\\rchag\\anaconda3\\envs\\learn-env\\lib\\site-packages\\sklearn\\linear_model\\_logistic.py:762: ConvergenceWarning: lbfgs failed to converge (status=1):\n",
      "STOP: TOTAL NO. of ITERATIONS REACHED LIMIT.\n",
      "\n",
      "Increase the number of iterations (max_iter) or scale the data as shown in:\n",
      "    https://scikit-learn.org/stable/modules/preprocessing.html\n",
      "Please also refer to the documentation for alternative solver options:\n",
      "    https://scikit-learn.org/stable/modules/linear_model.html#logistic-regression\n",
      "  n_iter_i = _check_optimize_result(\n"
     ]
    },
    {
     "data": {
      "text/plain": [
       "Pipeline(steps=[('ct',\n",
       "                 ColumnTransformer(transformers=[('subpipe_num',\n",
       "                                                  Pipeline(steps=[('num_impute',\n",
       "                                                                   SimpleImputer()),\n",
       "                                                                  ('ss',\n",
       "                                                                   StandardScaler())]),\n",
       "                                                  ['account length',\n",
       "                                                   'number vmail messages',\n",
       "                                                   'total day minutes',\n",
       "                                                   'total day calls',\n",
       "                                                   'total day charge',\n",
       "                                                   'total eve minutes',\n",
       "                                                   'total eve calls',\n",
       "                                                   'total eve charge',\n",
       "                                                   'total night minutes',\n",
       "                                                   'total night calls',\n",
       "                                                   'total night charge',\n",
       "                                                   'total intl...\n",
       "                                                   'total intl calls',\n",
       "                                                   'total intl charge',\n",
       "                                                   'customer service calls']),\n",
       "                                                 ('subpipe_cat',\n",
       "                                                  Pipeline(steps=[('cat_impute',\n",
       "                                                                   SimpleImputer(strategy='most_frequent')),\n",
       "                                                                  ('ohe',\n",
       "                                                                   OneHotEncoder(handle_unknown='ignore',\n",
       "                                                                                 sparse=False))]),\n",
       "                                                  ['state',\n",
       "                                                   'international plan',\n",
       "                                                   'voice mail plan',\n",
       "                                                   'area code'])])),\n",
       "                ('logreg',\n",
       "                 LogisticRegression(C=1000000000000.0, class_weight={1: 0.28},\n",
       "                                    random_state=0))])"
      ]
     },
     "execution_count": 51,
     "metadata": {},
     "output_type": "execute_result"
    }
   ],
   "source": [
    "model_less_regularization.fit(X_train,y_train)"
   ]
  },
  {
   "cell_type": "code",
   "execution_count": 52,
   "metadata": {
    "ExecuteTime": {
     "end_time": "2023-10-06T15:53:02.770714Z",
     "start_time": "2023-10-06T15:53:02.692980Z"
    }
   },
   "outputs": [
    {
     "data": {
      "text/plain": [
       "<sklearn.metrics._plot.roc_curve.RocCurveDisplay at 0x245c708d130>"
      ]
     },
     "execution_count": 52,
     "metadata": {},
     "output_type": "execute_result"
    },
    {
     "data": {
      "image/png": "[encoded data removed]",
      "text/plain": [
       "<Figure size 432x288 with 1 Axes>"
      ]
     },
     "metadata": {
      "needs_background": "light"
     },
     "output_type": "display_data"
    }
   ],
   "source": [
    "plot_roc_curve(model_less_regularization, X_train, y_train)"
   ]
  },
  {
   "cell_type": "code",
   "execution_count": 53,
   "metadata": {
    "ExecuteTime": {
     "end_time": "2023-10-06T15:53:02.786176Z",
     "start_time": "2023-10-06T15:53:02.771662Z"
    }
   },
   "outputs": [],
   "source": [
    "subpipe_numeric_pf = Pipeline(steps =[\n",
    "    ('num_impute', SimpleImputer()),\n",
    "    ('ss', StandardScaler()),\n",
    "    ('pf', PolynomialFeatures())\n",
    "])\n"
   ]
  },
  {
   "cell_type": "code",
   "execution_count": 54,
   "metadata": {
    "ExecuteTime": {
     "end_time": "2023-10-06T15:53:02.801688Z",
     "start_time": "2023-10-06T15:53:02.787176Z"
    }
   },
   "outputs": [],
   "source": [
    "CT_pf = ColumnTransformer(transformers = [\n",
    "    ('subpipe_num', subpipe_numeric_pf,numeric_cols),\n",
    "    ('subpipe_cat', subpipe_cat, cat_cols)\n",
    "])"
   ]
  },
  {
   "cell_type": "code",
   "execution_count": 55,
   "metadata": {
    "ExecuteTime": {
     "end_time": "2023-10-06T15:53:02.816758Z",
     "start_time": "2023-10-06T15:53:02.802688Z"
    }
   },
   "outputs": [],
   "source": [
    "logreg_pf = Pipeline(steps = [\n",
    "    ('ct',CT_pf),\n",
    "    ('logreg', LogisticRegression())\n",
    "])"
   ]
  },
  {
   "cell_type": "code",
   "execution_count": 56,
   "metadata": {
    "ExecuteTime": {
     "end_time": "2023-10-06T15:53:02.940506Z",
     "start_time": "2023-10-06T15:53:02.817759Z"
    }
   },
   "outputs": [
    {
     "name": "stderr",
     "output_type": "stream",
     "text": [
      "C:\\Users\\rchag\\anaconda3\\envs\\learn-env\\lib\\site-packages\\sklearn\\linear_model\\_logistic.py:762: ConvergenceWarning: lbfgs failed to converge (status=1):\n",
      "STOP: TOTAL NO. of ITERATIONS REACHED LIMIT.\n",
      "\n",
      "Increase the number of iterations (max_iter) or scale the data as shown in:\n",
      "    https://scikit-learn.org/stable/modules/preprocessing.html\n",
      "Please also refer to the documentation for alternative solver options:\n",
      "    https://scikit-learn.org/stable/modules/linear_model.html#logistic-regression\n",
      "  n_iter_i = _check_optimize_result(\n"
     ]
    },
    {
     "data": {
      "text/plain": [
       "Pipeline(steps=[('ct',\n",
       "                 ColumnTransformer(transformers=[('subpipe_num',\n",
       "                                                  Pipeline(steps=[('num_impute',\n",
       "                                                                   SimpleImputer()),\n",
       "                                                                  ('ss',\n",
       "                                                                   StandardScaler()),\n",
       "                                                                  ('pf',\n",
       "                                                                   PolynomialFeatures())]),\n",
       "                                                  ['account length',\n",
       "                                                   'number vmail messages',\n",
       "                                                   'total day minutes',\n",
       "                                                   'total day calls',\n",
       "                                                   'total day charge',\n",
       "                                                   'total eve minutes',\n",
       "                                                   'total eve calls',\n",
       "                                                   'total eve charge',\n",
       "                                                   'total night minutes',\n",
       "                                                   'total night calls',\n",
       "                                                   'total night charge',\n",
       "                                                   'total intl minutes',\n",
       "                                                   'total intl calls',\n",
       "                                                   'total intl charge',\n",
       "                                                   'customer service calls']),\n",
       "                                                 ('subpipe_cat',\n",
       "                                                  Pipeline(steps=[('cat_impute',\n",
       "                                                                   SimpleImputer(strategy='most_frequent')),\n",
       "                                                                  ('ohe',\n",
       "                                                                   OneHotEncoder(handle_unknown='ignore',\n",
       "                                                                                 sparse=False))]),\n",
       "                                                  ['state',\n",
       "                                                   'international plan',\n",
       "                                                   'voice mail plan',\n",
       "                                                   'area code'])])),\n",
       "                ('logreg', LogisticRegression())])"
      ]
     },
     "execution_count": 56,
     "metadata": {},
     "output_type": "execute_result"
    }
   ],
   "source": [
    "logreg_pf.fit(X_train,y_train)"
   ]
  },
  {
   "cell_type": "code",
   "execution_count": 57,
   "metadata": {
    "ExecuteTime": {
     "end_time": "2023-10-06T15:53:03.034012Z",
     "start_time": "2023-10-06T15:53:02.940506Z"
    }
   },
   "outputs": [
    {
     "data": {
      "text/plain": [
       "<sklearn.metrics._plot.roc_curve.RocCurveDisplay at 0x245c338b0d0>"
      ]
     },
     "execution_count": 57,
     "metadata": {},
     "output_type": "execute_result"
    },
    {
     "data": {
      "image/png": "[encoded data removed]",
      "text/plain": [
       "<Figure size 432x288 with 1 Axes>"
      ]
     },
     "metadata": {
      "needs_background": "light"
     },
     "output_type": "display_data"
    }
   ],
   "source": [
    "plot_roc_curve(logreg_pf, X_train, y_train)"
   ]
  },
  {
   "cell_type": "code",
   "execution_count": 58,
   "metadata": {
    "ExecuteTime": {
     "end_time": "2023-10-06T15:53:03.173118Z",
     "start_time": "2023-10-06T15:53:03.035012Z"
    }
   },
   "outputs": [
    {
     "data": {
      "text/plain": [
       "<sklearn.metrics._plot.confusion_matrix.ConfusionMatrixDisplay at 0x245c6dbb1f0>"
      ]
     },
     "execution_count": 58,
     "metadata": {},
     "output_type": "execute_result"
    },
    {
     "data": {
      "image/png": "[encoded data removed]",
      "text/plain": [
       "<Figure size 432x288 with 2 Axes>"
      ]
     },
     "metadata": {
      "needs_background": "light"
     },
     "output_type": "display_data"
    }
   ],
   "source": [
    "plot_confusion_matrix(logreg_pf, X_test, y_test)"
   ]
  },
  {
   "cell_type": "code",
   "execution_count": 59,
   "metadata": {
    "ExecuteTime": {
     "end_time": "2023-10-06T15:53:03.250807Z",
     "start_time": "2023-10-06T15:53:03.174041Z"
    }
   },
   "outputs": [
    {
     "data": {
      "text/plain": [
       "<sklearn.metrics._plot.roc_curve.RocCurveDisplay at 0x245c6c131f0>"
      ]
     },
     "execution_count": 59,
     "metadata": {},
     "output_type": "execute_result"
    },
    {
     "data": {
      "image/png": "[encoded data removed]",
      "text/plain": [
       "<Figure size 432x288 with 1 Axes>"
      ]
     },
     "metadata": {
      "needs_background": "light"
     },
     "output_type": "display_data"
    }
   ],
   "source": [
    "plot_roc_curve(logreg_pf, X_test, y_test)"
   ]
  },
  {
   "cell_type": "code",
   "execution_count": 60,
   "metadata": {
    "ExecuteTime": {
     "end_time": "2023-10-06T15:53:03.266255Z",
     "start_time": "2023-10-06T15:53:03.251752Z"
    }
   },
   "outputs": [
    {
     "name": "stdout",
     "output_type": "stream",
     "text": [
      "              precision    recall  f1-score   support\n",
      "\n",
      "       False       0.92      0.96      0.94       719\n",
      "        True       0.68      0.48      0.56       115\n",
      "\n",
      "    accuracy                           0.90       834\n",
      "   macro avg       0.80      0.72      0.75       834\n",
      "weighted avg       0.89      0.90      0.89       834\n",
      "\n"
     ]
    }
   ],
   "source": [
    "print(classification_report(y_test, logreg_pf.predict(X_test)))"
   ]
  },
  {
   "cell_type": "markdown",
   "metadata": {},
   "source": [
    "Wow, these polynomial features have more than doubled the recall and also increased the accuracy, I'll try increasing the degrees one more time"
   ]
  },
  {
   "cell_type": "code",
   "execution_count": 61,
   "metadata": {
    "ExecuteTime": {
     "end_time": "2023-10-06T15:53:03.281367Z",
     "start_time": "2023-10-06T15:53:03.267256Z"
    }
   },
   "outputs": [],
   "source": [
    "subpipe_numeric_pf2 = Pipeline(steps =[\n",
    "    ('num_impute', SimpleImputer()),\n",
    "    ('ss', StandardScaler()),\n",
    "    ('pf', PolynomialFeatures(degree = 3))\n",
    "])\n"
   ]
  },
  {
   "cell_type": "code",
   "execution_count": 62,
   "metadata": {
    "ExecuteTime": {
     "end_time": "2023-10-06T15:53:03.296307Z",
     "start_time": "2023-10-06T15:53:03.282292Z"
    }
   },
   "outputs": [],
   "source": [
    "CT_pf2 = ColumnTransformer(transformers = [\n",
    "    ('subpipe_num', subpipe_numeric_pf2,numeric_cols),\n",
    "    ('subpipe_cat', subpipe_cat, cat_cols)\n",
    "])"
   ]
  },
  {
   "cell_type": "code",
   "execution_count": 63,
   "metadata": {
    "ExecuteTime": {
     "end_time": "2023-10-06T15:53:03.311831Z",
     "start_time": "2023-10-06T15:53:03.297308Z"
    }
   },
   "outputs": [],
   "source": [
    "logreg_pf2 = Pipeline([\n",
    "    ('ct',CT_pf2),\n",
    "    ('logreg', LogisticRegression())\n",
    "])"
   ]
  },
  {
   "cell_type": "code",
   "execution_count": 64,
   "metadata": {
    "ExecuteTime": {
     "end_time": "2023-10-06T15:53:03.465559Z",
     "start_time": "2023-10-06T15:53:03.312832Z"
    }
   },
   "outputs": [
    {
     "name": "stderr",
     "output_type": "stream",
     "text": [
      "C:\\Users\\rchag\\anaconda3\\envs\\learn-env\\lib\\site-packages\\sklearn\\linear_model\\_logistic.py:762: ConvergenceWarning: lbfgs failed to converge (status=1):\n",
      "STOP: TOTAL NO. of ITERATIONS REACHED LIMIT.\n",
      "\n",
      "Increase the number of iterations (max_iter) or scale the data as shown in:\n",
      "    https://scikit-learn.org/stable/modules/preprocessing.html\n",
      "Please also refer to the documentation for alternative solver options:\n",
      "    https://scikit-learn.org/stable/modules/linear_model.html#logistic-regression\n",
      "  n_iter_i = _check_optimize_result(\n"
     ]
    },
    {
     "data": {
      "text/plain": [
       "Pipeline(steps=[('ct',\n",
       "                 ColumnTransformer(transformers=[('subpipe_num',\n",
       "                                                  Pipeline(steps=[('num_impute',\n",
       "                                                                   SimpleImputer()),\n",
       "                                                                  ('ss',\n",
       "                                                                   StandardScaler()),\n",
       "                                                                  ('pf',\n",
       "                                                                   PolynomialFeatures(degree=3))]),\n",
       "                                                  ['account length',\n",
       "                                                   'number vmail messages',\n",
       "                                                   'total day minutes',\n",
       "                                                   'total day calls',\n",
       "                                                   'total day charge',\n",
       "                                                   'total eve minutes',\n",
       "                                                   'total eve calls',\n",
       "                                                   'total eve charge',\n",
       "                                                   'total night minutes',\n",
       "                                                   'total night calls',\n",
       "                                                   'total night charge',\n",
       "                                                   'total intl minutes',\n",
       "                                                   'total intl calls',\n",
       "                                                   'total intl charge',\n",
       "                                                   'customer service calls']),\n",
       "                                                 ('subpipe_cat',\n",
       "                                                  Pipeline(steps=[('cat_impute',\n",
       "                                                                   SimpleImputer(strategy='most_frequent')),\n",
       "                                                                  ('ohe',\n",
       "                                                                   OneHotEncoder(handle_unknown='ignore',\n",
       "                                                                                 sparse=False))]),\n",
       "                                                  ['state',\n",
       "                                                   'international plan',\n",
       "                                                   'voice mail plan',\n",
       "                                                   'area code'])])),\n",
       "                ('logreg', LogisticRegression())])"
      ]
     },
     "execution_count": 64,
     "metadata": {},
     "output_type": "execute_result"
    }
   ],
   "source": [
    "logreg_pf2.fit(X_train, y_train)"
   ]
  },
  {
   "cell_type": "code",
   "execution_count": 65,
   "metadata": {
    "ExecuteTime": {
     "end_time": "2023-10-06T15:53:03.558318Z",
     "start_time": "2023-10-06T15:53:03.466559Z"
    }
   },
   "outputs": [
    {
     "data": {
      "text/plain": [
       "<sklearn.metrics._plot.roc_curve.RocCurveDisplay at 0x245c6dcdfd0>"
      ]
     },
     "execution_count": 65,
     "metadata": {},
     "output_type": "execute_result"
    },
    {
     "data": {
      "image/png": "[encoded data removed]",
      "text/plain": [
       "<Figure size 432x288 with 1 Axes>"
      ]
     },
     "metadata": {
      "needs_background": "light"
     },
     "output_type": "display_data"
    }
   ],
   "source": [
    "plot_roc_curve(logreg_pf2, X_train, y_train)"
   ]
  },
  {
   "cell_type": "code",
   "execution_count": 66,
   "metadata": {
    "ExecuteTime": {
     "end_time": "2023-10-06T15:53:03.651592Z",
     "start_time": "2023-10-06T15:53:03.559315Z"
    }
   },
   "outputs": [
    {
     "data": {
      "text/plain": [
       "<sklearn.metrics._plot.confusion_matrix.ConfusionMatrixDisplay at 0x245c72d7b80>"
      ]
     },
     "execution_count": 66,
     "metadata": {},
     "output_type": "execute_result"
    },
    {
     "data": {
      "image/png": "[encoded data removed]",
      "text/plain": [
       "<Figure size 432x288 with 2 Axes>"
      ]
     },
     "metadata": {
      "needs_background": "light"
     },
     "output_type": "display_data"
    }
   ],
   "source": [
    "plot_confusion_matrix(logreg_pf2, X_test, y_test)"
   ]
  },
  {
   "cell_type": "code",
   "execution_count": 67,
   "metadata": {
    "ExecuteTime": {
     "end_time": "2023-10-06T15:53:03.728356Z",
     "start_time": "2023-10-06T15:53:03.652592Z"
    }
   },
   "outputs": [
    {
     "data": {
      "text/plain": [
       "<sklearn.metrics._plot.roc_curve.RocCurveDisplay at 0x245c6d69a30>"
      ]
     },
     "execution_count": 67,
     "metadata": {},
     "output_type": "execute_result"
    },
    {
     "data": {
      "image/png": "[encoded data removed]",
      "text/plain": [
       "<Figure size 432x288 with 1 Axes>"
      ]
     },
     "metadata": {
      "needs_background": "light"
     },
     "output_type": "display_data"
    }
   ],
   "source": [
    "plot_roc_curve(logreg_pf2, X_test, y_test)"
   ]
  },
  {
   "cell_type": "code",
   "execution_count": 68,
   "metadata": {
    "ExecuteTime": {
     "end_time": "2023-10-06T15:53:03.758910Z",
     "start_time": "2023-10-06T15:53:03.730858Z"
    }
   },
   "outputs": [
    {
     "name": "stdout",
     "output_type": "stream",
     "text": [
      "              precision    recall  f1-score   support\n",
      "\n",
      "       False       0.93      0.91      0.92       719\n",
      "        True       0.49      0.57      0.53       115\n",
      "\n",
      "    accuracy                           0.86       834\n",
      "   macro avg       0.71      0.74      0.72       834\n",
      "weighted avg       0.87      0.86      0.86       834\n",
      "\n"
     ]
    }
   ],
   "source": [
    "print(classification_report(y_test, logreg_pf2.predict(X_test)))"
   ]
  },
  {
   "cell_type": "markdown",
   "metadata": {},
   "source": [
    "A degree of 3 seems to be a good point as the accuracy is starting to decrease and recall didn't increase as much between these two values, for fun let's go one step deeper tho"
   ]
  },
  {
   "cell_type": "code",
   "execution_count": 69,
   "metadata": {
    "ExecuteTime": {
     "end_time": "2023-10-06T15:53:03.774460Z",
     "start_time": "2023-10-06T15:53:03.760449Z"
    }
   },
   "outputs": [],
   "source": [
    "classifier = logreg_pf2.named_steps['logreg']"
   ]
  },
  {
   "cell_type": "code",
   "execution_count": 70,
   "metadata": {
    "ExecuteTime": {
     "end_time": "2023-10-06T15:53:03.789475Z",
     "start_time": "2023-10-06T15:53:03.775456Z"
    }
   },
   "outputs": [
    {
     "data": {
      "text/plain": [
       "array([-8.03875019e-01,  5.27790197e-01,  8.96075780e-01, -4.76334078e-01,\n",
       "        6.10897725e-02, -4.76575344e-01,  4.71275053e-01,  6.32895791e-01,\n",
       "        4.71829100e-01, -6.20439356e-01, -1.64140287e-02, -6.23256763e-01,\n",
       "        5.86064552e-01, -6.54528955e-01,  6.03376634e-01, -7.24063326e-01,\n",
       "       -6.75757077e-01, -6.46306497e-01,  8.08858017e-02,  3.08657252e-01,\n",
       "        8.38625570e-02,  6.38666225e-02,  3.96399558e-02,  6.12915425e-02,\n",
       "       -3.91396409e-01,  5.66091237e-02, -3.91811658e-01, -1.14538147e-01,\n",
       "        1.66187165e-02, -1.15565913e-01,  1.18693666e-02,  8.29418245e-01,\n",
       "       -3.35278345e-01, -2.86040282e-01, -3.35672062e-01, -7.92409155e-01,\n",
       "       -7.23893451e-01, -7.93242188e-01, -8.69398641e-01,  6.52223439e-01,\n",
       "       -8.67182381e-01,  1.05033545e-01,  9.07963897e-01,  8.86991408e-02,\n",
       "        8.13577941e-01,  2.57665733e-01,  7.97185892e-02,  2.58173105e-01,\n",
       "        3.63658953e-01, -3.29639897e-01,  3.64284588e-01,  2.27421032e-01,\n",
       "       -2.23176362e-01,  2.25613708e-01, -9.98566506e-02,  1.47316449e-01,\n",
       "       -8.83047050e-02, -5.62635193e-01, -1.18400997e-01,  7.89766675e-02,\n",
       "        3.66683838e-01,  5.64318181e-02,  3.64624287e-01,  1.35268019e-01,\n",
       "       -4.44701791e-01,  1.31551411e-01, -2.18207721e-01,  1.89845482e-01,\n",
       "       -1.95341269e-01, -3.18470156e-01,  2.58680124e-01,  3.64188256e-01,\n",
       "       -3.30479400e-01,  3.64813083e-01,  2.25280418e-01, -2.22444127e-01,\n",
       "        2.23471239e-01, -1.00886697e-01,  1.46971985e-01, -8.93368964e-02,\n",
       "       -5.62171499e-01, -1.34155906e-01,  1.82501988e-01, -1.38888698e-01,\n",
       "       -4.20891138e-02,  2.84725971e-01, -5.34695008e-02,  4.97973057e-02,\n",
       "        4.28463938e-02,  4.78177026e-02,  2.23371307e-01, -8.28162994e-01,\n",
       "        1.79259299e-01,  1.12008670e-02, -7.44389628e-02,  1.05609213e-02,\n",
       "       -7.35249985e-02,  7.33373514e-01, -6.18311600e-02, -1.79447667e-02,\n",
       "       -1.43623330e-01, -3.77700910e-02,  2.86358261e-01, -4.91442668e-02,\n",
       "        4.94408397e-02,  4.42480896e-02,  4.74712674e-02,  2.26900407e-01,\n",
       "       -1.92135216e-01,  2.34284575e-01, -1.95833177e-01, -5.16011955e-02,\n",
       "        3.90619097e-03, -3.77021911e-02,  1.73613817e-01, -3.37043151e-01,\n",
       "        2.32427894e-01, -6.46691182e-02,  1.75332479e-01, -4.77445356e-02,\n",
       "       -4.07730317e-01, -1.99527477e-01, -5.59763122e-02,  2.06067206e-03,\n",
       "       -4.20760048e-02,  1.72807011e-01, -1.96643515e-01,  2.48456348e-01,\n",
       "       -1.97177862e-01, -2.52943833e-01, -2.96779054e-01,  2.42548898e-01,\n",
       "       -1.23235573e-01, -1.97683766e-01, -2.69551044e-01,  5.58112767e-01,\n",
       "        1.90534304e-02, -5.38760564e-01,  1.41116470e-01, -2.06956807e-01,\n",
       "        1.45441664e-01,  2.95988516e-02, -3.47981231e-02,  2.85453193e-02,\n",
       "       -7.98461808e-02,  1.50229446e-01, -8.77559731e-02,  9.77255688e-03,\n",
       "       -4.26261627e-01,  2.53609681e-02,  3.43504520e-04,  7.50585886e-01,\n",
       "        6.00619791e-02,  7.49144329e-01,  5.83667443e-02,  6.57800111e-02,\n",
       "       -5.02453250e-01,  6.87943539e-02, -6.25629283e-03,  2.27130698e-01,\n",
       "        4.32350775e-04,  6.11945494e-02,  7.27155420e-02,  7.34179476e-02,\n",
       "        1.84837108e-01, -1.49794952e-01,  4.56557528e-02, -1.47546928e-01,\n",
       "       -1.77436586e-02, -3.67468784e-02, -1.84292321e-02,  1.59052190e-01,\n",
       "       -9.65517771e-02,  1.62805657e-01,  1.08608910e-02,  3.13662450e-02,\n",
       "       -1.19019568e-02, -2.86912392e-02, -4.22077263e-01,  4.52544843e-02,\n",
       "        1.35318757e-02, -4.31308318e-02,  1.03944739e-02,  1.24978060e-01,\n",
       "        9.80200618e-02,  1.16847692e-01, -1.58951952e-02, -7.11173600e-01,\n",
       "       -2.87927612e-02,  5.64215593e-01, -1.45298282e-01, -1.51907179e-02,\n",
       "       -3.83497008e-02, -1.58761971e-02,  1.57400002e-01, -9.69650921e-02,\n",
       "        1.61154136e-01,  9.46931769e-03,  3.06069686e-02, -1.32935533e-02,\n",
       "       -3.12774467e-02, -1.94828061e-02, -6.04472178e-02, -1.96641705e-02,\n",
       "       -9.56927474e-03, -7.20772186e-02, -7.83804700e-03, -1.70810575e-01,\n",
       "       -9.71789070e-02, -1.66425656e-01,  1.30825316e-01, -2.80418978e-02,\n",
       "       -6.16677563e-02,  4.78019754e-02, -3.18358014e-02,  4.78492318e-02,\n",
       "       -7.83488195e-02,  3.92861766e-01, -8.73296666e-02,  1.45879215e-01,\n",
       "       -1.98465979e-02, -1.31300738e-02, -7.19348815e-02, -1.14019335e-02,\n",
       "       -1.69314966e-01, -9.42813285e-02, -1.64934355e-01,  1.39910174e-01,\n",
       "       -1.36180390e-01, -7.48627994e-02, -1.40836644e-01, -2.58732033e-02,\n",
       "       -1.33053678e-01, -4.61573272e-03, -9.34868391e-02,  1.79602502e-01,\n",
       "       -7.59440752e-02,  1.23480237e-01, -5.06222930e-01,  1.09714775e-01,\n",
       "        6.79089313e-02, -1.45486556e-01, -2.41099501e-02, -1.24734640e-01,\n",
       "       -2.86661465e-03, -9.13029330e-02,  7.60923409e-02, -1.35863856e-01,\n",
       "        6.72618192e-02,  3.84843554e-01,  2.64043814e-01, -1.43410570e-01,\n",
       "       -2.58473204e-01,  5.84172379e-02,  4.02109233e-01, -2.00517523e-01,\n",
       "       -2.48579580e-02, -1.99080917e-01,  2.89512242e-01, -2.00407096e-01,\n",
       "        9.20163774e-02,  5.80848254e-01,  9.36723845e-02,  4.29433977e-01,\n",
       "        1.50575973e-01,  4.29991563e-01, -1.30683608e-01, -6.32375370e-01,\n",
       "       -1.46022626e-01, -1.95774103e-01, -3.21295785e-01,  2.37721431e-01,\n",
       "       -3.19417110e-01, -3.81364558e-01,  1.13316108e-01, -3.79633212e-01,\n",
       "       -1.58510478e-01, -2.33024055e-01, -1.53892992e-01, -1.24412465e-02,\n",
       "       -7.72338110e-02, -2.70179971e-02, -8.81010760e-02, -3.39238857e-01,\n",
       "        2.36872324e-01,  3.56152433e-02, -2.28451223e-01,  3.66035113e-02,\n",
       "       -1.45004490e-02, -1.58799993e-01, -6.70888325e-03, -2.20049183e-01,\n",
       "       -9.49279647e-02, -2.21562494e-01, -2.18061682e-01, -3.17538395e-01,\n",
       "       -3.82826753e-01,  1.12173816e-01, -3.81095457e-01, -1.58130456e-01,\n",
       "       -2.35280569e-01, -1.53514005e-01, -1.22741052e-02, -7.77314696e-02,\n",
       "       -2.68543705e-02, -8.72019586e-02, -1.46292470e-01,  2.40999346e-01,\n",
       "       -1.43858920e-01, -2.26193535e-01,  2.11906530e-01, -2.23724258e-01,\n",
       "       -7.35023639e-03, -3.01567492e-01, -3.29290989e-02,  2.18392926e-01,\n",
       "       -6.81076483e-01,  2.43376800e-01,  2.11786420e-01,  4.46685473e-01,\n",
       "        2.16497624e-01,  3.22616931e-01,  4.98892722e-01,  3.23820911e-01,\n",
       "       -1.88325913e-01, -1.41423484e-01, -2.24395765e-01,  2.08794825e-01,\n",
       "       -2.21928035e-01, -8.87087557e-03, -3.03492433e-01, -3.44390526e-02,\n",
       "        2.16554997e-01, -8.39675631e-02,  1.66065781e-02, -8.49262100e-02,\n",
       "        1.90429071e-01, -1.68305211e-01,  1.96475316e-01,  4.21709826e-01,\n",
       "       -3.65541908e-01,  1.73117049e-02, -7.54638299e-02,  6.41937281e-01,\n",
       "       -7.74512564e-02, -2.83596609e-01, -8.58741041e-02,  1.97808479e-01,\n",
       "       -1.65726829e-01,  2.03902930e-01,  4.21844461e-01,  5.29510256e-02,\n",
       "       -2.07718579e-01,  4.06513977e-02,  1.38633928e-01, -3.44227760e-01,\n",
       "       -1.99670617e-01,  2.24560795e-01,  2.84315904e-02,  1.32523951e-01,\n",
       "       -4.69257307e-02,  2.48493705e-01,  6.84714712e-02,  2.48635892e-01,\n",
       "        2.06833459e-01,  1.16719777e-01,  2.09579697e-01,  1.05445898e-01,\n",
       "       -8.09768938e-02,  9.72076773e-02, -9.84281715e-03,  9.51878838e-02,\n",
       "       -1.27036563e-02,  1.50671367e-01,  5.32783270e-02,  6.70217929e-02,\n",
       "       -8.72108465e-02,  2.82414083e-02, -8.52549228e-02, -1.96312360e-02,\n",
       "        1.82116607e-01, -1.69096527e-02,  6.66268813e-02, -8.44255805e-02,\n",
       "        7.21287245e-02,  1.83061653e-02,  2.48778037e-01,  2.07157851e-01,\n",
       "        1.15966891e-01,  2.09903717e-01,  1.04149638e-01, -8.29022333e-02,\n",
       "        9.59108910e-02, -1.08148301e-02,  9.60020233e-02, -1.36827306e-02,\n",
       "        1.52439801e-01,  8.45506066e-02,  2.37905503e-02,  8.18588428e-02,\n",
       "        7.03243651e-02, -5.43017894e-02,  6.69815084e-02, -1.39036886e-02,\n",
       "        6.05414963e-02, -2.48293438e-02,  2.29560018e-01,  9.23015995e-02,\n",
       "        2.19252696e-02,  1.34537876e-01, -3.29347454e-02,  1.35223660e-01,\n",
       "        2.41182929e-02, -1.54706482e-03,  1.68100796e-02,  2.54128383e-01,\n",
       "        7.91652672e-02,  7.48313963e-02, -5.66320231e-02,  7.14933449e-02,\n",
       "       -1.59696106e-02,  6.15950406e-02, -2.69095004e-02,  2.28748207e-01,\n",
       "        4.82649680e-03, -4.38527442e-02,  1.37814531e-02,  3.86679702e-02,\n",
       "        1.45366691e-01,  3.34235241e-02,  1.28890350e-01, -4.57075361e-02,\n",
       "       -3.65999284e-02,  8.88471081e-02,  2.19062337e-01,  6.78276653e-02,\n",
       "        1.92523122e-01,  2.27343320e-02,  3.96229378e-02,  1.44935085e-01,\n",
       "        3.44106132e-02,  1.28534316e-01,  9.74622971e-02, -7.42199626e-02,\n",
       "        7.63875710e-02,  8.51335207e-02,  1.06463906e-01, -5.07557222e-02,\n",
       "       -6.64773270e-02,  5.53279243e-02,  9.73168436e-02, -3.57265792e-01,\n",
       "       -5.98899413e-02,  5.44915948e-02, -1.65061778e-01, -1.22769680e-01,\n",
       "       -1.64836241e-01, -1.08379902e-01,  1.96410061e-01, -1.05763447e-01,\n",
       "        1.87402456e-02,  2.73833792e-01,  8.18135465e-02,  4.03254534e-01,\n",
       "        6.55721454e-02, -8.82688604e-02,  2.81342984e-02, -8.63133486e-02,\n",
       "       -1.85403689e-02,  1.82561996e-01, -1.58187677e-02,  6.77783028e-02,\n",
       "       -8.22867812e-02,  7.32676161e-02,  1.79700827e-02, -6.01389424e-02,\n",
       "       -1.24287958e-01, -6.19922013e-02,  1.27925643e-02, -1.36842306e-01,\n",
       "        1.43139189e-02, -7.14923877e-02, -4.92915287e-02, -9.00459789e-02,\n",
       "       -3.05689872e-01, -1.05733254e-01, -1.27731209e-01, -1.61536254e-01,\n",
       "        7.46727550e-01, -1.59723226e-01,  1.97891350e-01,  7.80277537e-02,\n",
       "        1.96524009e-01,  2.08274242e-01, -6.38461112e-02,  1.42605414e-02,\n",
       "       -1.34807872e-01,  1.57835461e-02, -7.00500852e-02, -5.31882074e-02,\n",
       "       -8.86119387e-02, -3.06226826e-01, -1.02188590e-01, -1.17877718e-01,\n",
       "       -1.04387338e-01,  5.89852538e-02,  2.06973993e-01,  6.61153118e-02,\n",
       "       -6.84566095e-02,  2.62729205e-02, -1.14386425e-01, -1.11948068e-01,\n",
       "       -2.21057906e-01, -1.14579280e-01, -8.08831802e-02, -1.06581949e-01,\n",
       "        5.69940025e-02,  2.10490588e-01,  6.41233666e-02, -6.95496644e-02,\n",
       "        1.17169909e-01, -1.94838328e-02,  1.14036161e-01,  1.01240945e-01,\n",
       "        1.62898673e-01, -2.84116528e-02, -1.03775179e-01,  1.10937465e-01,\n",
       "        1.20785734e-01,  3.26570595e-02,  2.48920139e-01,  2.07482467e-01,\n",
       "        1.15214171e-01,  2.10227960e-01,  1.02853589e-01, -8.48274932e-02,\n",
       "        9.46143163e-02, -1.17868550e-02,  9.68158427e-02, -1.46618155e-02,\n",
       "        1.54208223e-01,  8.38321290e-02,  2.44736724e-02,  8.11408835e-02,\n",
       "        7.09594947e-02, -5.35562101e-02,  6.76167757e-02, -1.37596292e-02,\n",
       "        5.99107954e-02, -2.46849589e-02,  2.31208329e-01,  9.32081236e-02,\n",
       "        2.26075447e-02,  1.33800073e-01, -3.32941937e-02,  1.34484715e-01,\n",
       "        2.40036817e-02, -1.08839411e-03,  1.67010904e-02,  2.52089145e-01,\n",
       "        7.84478258e-02,  7.54657004e-02, -5.58877601e-02,  7.21277874e-02,\n",
       "       -1.58256744e-02,  6.09639991e-02, -2.67652335e-02,  2.30396945e-01,\n",
       "        4.72127993e-03, -4.40395906e-02,  1.36764530e-02,  3.85928895e-02,\n",
       "        1.45310484e-01,  3.33536711e-02,  1.27646830e-01, -4.79404696e-02,\n",
       "       -3.67889034e-02,  8.87812973e-02,  2.19076502e-01,  6.77659366e-02,\n",
       "        1.94895230e-01,  2.26295501e-02,  3.95494697e-02,  1.44880605e-01,\n",
       "        3.43423726e-02,  1.27291940e-01,  9.63900110e-02, -7.34247329e-02,\n",
       "        7.53150136e-02,  8.43052946e-02,  1.08289864e-01, -4.99632880e-02,\n",
       "       -6.81201426e-02,  5.42550945e-02,  9.64912911e-02, -3.57047534e-01,\n",
       "        3.64406394e-03, -3.88204699e-02,  7.76455289e-04,  3.06872365e-02,\n",
       "        1.01787192e-03,  2.24474364e-02, -4.68294094e-02, -1.08604616e-01,\n",
       "       -1.24754524e-02,  1.02779902e-01, -5.54608680e-02, -3.48020258e-02,\n",
       "       -9.08158152e-02,  4.61244314e-02, -9.20297480e-02,  1.40335430e-01,\n",
       "       -6.99801421e-02,  1.27066375e-01, -1.27212159e-01, -2.09244321e-03,\n",
       "        2.90402168e-02, -7.81575016e-04,  2.07943988e-02, -4.45850326e-02,\n",
       "       -1.05709431e-01, -1.02218753e-02,  1.02788791e-01,  1.34838353e-02,\n",
       "       -1.32140796e-02,  9.87171129e-03, -1.08929136e-01, -3.17807842e-02,\n",
       "       -1.18946289e-01, -4.42686682e-02, -7.06577929e-02, -8.22062549e-03,\n",
       "       -5.82991764e-02,  6.38120068e-02, -7.00440988e-02, -6.66473987e-02,\n",
       "        6.25041913e-03, -1.08073323e-01, -2.68693648e-02, -1.18068369e-01,\n",
       "       -4.71950380e-02, -3.75171642e-02, -4.37701544e-03, -3.92326457e-02,\n",
       "        1.72468623e-01, -1.56235513e-01, -8.11319834e-03, -1.37797973e-01,\n",
       "       -4.09202040e-02,  1.66751228e-01, -4.26019042e-01, -5.17448302e-02,\n",
       "       -5.57153956e-02,  1.52959424e-01, -1.28608372e-01,  1.51763386e-01,\n",
       "       -6.85183537e-02, -2.51366124e-01, -5.80768015e-02,  2.03943851e-01,\n",
       "       -3.07837765e-02, -8.68711537e-02,  5.02730346e-02, -8.80893702e-02,\n",
       "        1.42191013e-01, -6.86178443e-02,  1.28933656e-01, -1.24385365e-01,\n",
       "       -3.07770714e-02, -1.11999639e-01, -3.36223226e-02,  2.32877599e-02,\n",
       "       -6.76313324e-02,  2.76289112e-02,  2.62609708e-01, -3.12904823e-01,\n",
       "       -1.13936060e-01,  1.07063772e-01, -4.74496111e-01,  9.64401316e-02,\n",
       "       -2.60468810e-01, -3.64565932e-02,  1.80530386e-02, -6.81325886e-02,\n",
       "        2.23954452e-02,  2.63495414e-01,  1.10741977e-01, -4.13046029e-02,\n",
       "        1.20806407e-01,  6.97106905e-02, -4.88131015e-01, -5.51450357e-02,\n",
       "       -7.31017700e-02,  1.30910388e-01,  7.68640323e-02,  5.51221729e-03,\n",
       "       -4.96262972e-03,  2.73938858e-02, -2.58109239e-03,  1.91420522e-02,\n",
       "       -4.23427330e-02, -1.02812750e-01, -7.97036922e-03,  1.02795460e-01,\n",
       "        1.37608390e-02, -9.40161071e-03,  1.01512149e-02, -1.08970069e-01,\n",
       "       -3.14685037e-02, -1.18996411e-01, -4.68767122e-02, -7.48647877e-02,\n",
       "       -4.40749950e-03, -5.80703816e-02,  6.38216891e-02, -6.98045465e-02,\n",
       "       -6.51093280e-02,  6.53241735e-03, -1.08115750e-01, -2.65530015e-02,\n",
       "       -1.18119984e-01, -4.98055688e-02, -3.98023093e-02, -2.33693610e-03,\n",
       "       -4.15089937e-02,  1.72000906e-01, -1.54629999e-01, -6.06532250e-03,\n",
       "       -1.37235264e-01, -4.31877181e-02,  1.66288180e-01, -4.22772716e-01,\n",
       "        1.18415942e-02,  8.87925905e-02,  1.00202250e-02,  1.40604715e-02,\n",
       "       -4.21892270e-02,  3.09825326e-02,  2.01418530e-01,  2.50512535e-01,\n",
       "        8.55918805e-02,  3.41457421e-02,  1.39158511e-01,  4.19837967e-02,\n",
       "       -1.15828547e-01,  8.19258431e-03,  7.93742485e-03, -4.31120681e-02,\n",
       "        2.48336953e-02,  1.98608531e-01, -2.85410567e-03, -1.80184280e-03,\n",
       "        1.29814164e-02,  1.38785742e-03, -7.85458720e-02, -9.97663615e-03,\n",
       "        2.25845374e-01,  2.87450942e-02, -1.61824744e-02, -5.79749738e-02,\n",
       "        6.04159604e-02,  2.51263388e-01,  7.85610800e-02, -2.07701811e-01,\n",
       "        8.65140461e-02,  1.16067154e-01,  8.23918378e-02,  3.52366632e-02,\n",
       "        1.39392870e-01,  4.30746977e-02, -1.05015528e-01,  1.56405673e-01,\n",
       "       -8.72779978e-02,  1.74356902e-01,  2.13714139e-01, -4.86449146e-01,\n",
       "       -8.78651504e-02, -4.73291197e-01,  1.92295196e-01,  2.12288392e-01,\n",
       "        1.19442389e-01,  6.35866752e-03,  1.81786580e-03, -4.40356182e-02,\n",
       "        1.86884001e-02,  1.95799503e-01, -4.25725243e-05, -6.39961695e-03,\n",
       "        1.58002014e-02, -2.69129378e-03, -7.62570417e-02, -1.45670586e-02,\n",
       "        2.31620463e-01,  3.15711223e-02, -2.02883237e-02, -5.29726457e-02,\n",
       "        1.37128447e-02,  6.82987609e-02,  1.18561657e-02,  3.47403624e-02,\n",
       "        1.45005650e-01,  4.80626141e-02, -2.74171383e-01,  1.00088810e-02,\n",
       "        4.80182518e-02, -6.49707464e-03,  7.79869176e-02,  1.69674408e-01,\n",
       "        4.57840274e-02,  2.78666584e-02, -2.61239508e-01, -6.88435408e-02,\n",
       "        8.17159956e-03,  6.13209566e-02, -2.61866028e-02,  9.34153696e-02,\n",
       "       -4.30067770e-01, -1.69538621e+00, -4.32200594e-01, -5.56629294e-01,\n",
       "        3.07519576e-01, -2.91048659e-01,  7.31862319e-01, -3.53702888e-01,\n",
       "       -4.83094153e-01, -3.79122743e-01, -8.56935283e-02, -8.91481858e-01,\n",
       "       -5.26872476e-01, -7.78116175e-01, -7.70352201e-01,  4.15551720e-01,\n",
       "        8.92388620e-01, -2.64688681e-01,  8.33442385e-01,  9.19253780e-02,\n",
       "        2.72774273e-01,  3.18162308e-01,  5.54201334e-01,  1.77161079e-01,\n",
       "        1.50821784e-01,  7.99156393e-01,  1.21212810e+00, -5.41557540e-01,\n",
       "        1.99281090e-01, -7.70701770e-01,  4.49330091e-01,  6.00827183e-01,\n",
       "       -5.92963825e-01,  4.15555728e-01, -4.80018122e-02,  8.91209337e-01,\n",
       "        1.52077514e-01, -5.77175354e-01,  8.38411780e-01,  6.81594278e-01,\n",
       "        6.20000599e-01, -4.93493585e-01, -7.72861739e-02,  5.99989591e-01,\n",
       "       -3.67504416e-01, -3.10871273e-01, -7.85403348e-01,  7.23440892e-01,\n",
       "       -1.34833299e-01, -9.48089373e-01, -1.46349367e-01, -2.65708972e+00,\n",
       "        1.85321470e+00, -4.52740340e-01, -3.51134679e-01, -1.19201879e-01,\n",
       "       -4.58680014e-01, -2.25993125e-01])"
      ]
     },
     "execution_count": 70,
     "metadata": {},
     "output_type": "execute_result"
    }
   ],
   "source": [
    "classifier.coef_[0]"
   ]
  },
  {
   "cell_type": "code",
   "execution_count": 71,
   "metadata": {
    "ExecuteTime": {
     "end_time": "2023-10-06T15:53:03.804879Z",
     "start_time": "2023-10-06T15:53:03.790475Z"
    }
   },
   "outputs": [],
   "source": [
    "subpipe_numeric_pf3 = Pipeline(steps =[\n",
    "    ('num_impute', SimpleImputer()),\n",
    "    ('ss', StandardScaler()),\n",
    "    ('pf', PolynomialFeatures(degree = 4))\n",
    "])\n"
   ]
  },
  {
   "cell_type": "code",
   "execution_count": 72,
   "metadata": {
    "ExecuteTime": {
     "end_time": "2023-10-06T15:53:03.820394Z",
     "start_time": "2023-10-06T15:53:03.805880Z"
    }
   },
   "outputs": [],
   "source": [
    "CT_pf3 = ColumnTransformer(transformers = [\n",
    "    ('subpipe_num', subpipe_numeric_pf3,numeric_cols),\n",
    "    ('subpipe_cat', subpipe_cat, cat_cols)\n",
    "])"
   ]
  },
  {
   "cell_type": "code",
   "execution_count": 73,
   "metadata": {
    "ExecuteTime": {
     "end_time": "2023-10-06T15:53:03.835534Z",
     "start_time": "2023-10-06T15:53:03.821400Z"
    }
   },
   "outputs": [],
   "source": [
    "logreg_pf3 = Pipeline([\n",
    "    ('ct',CT_pf3),\n",
    "    ('logreg', LogisticRegression(C = .0001))\n",
    "])"
   ]
  },
  {
   "cell_type": "code",
   "execution_count": 74,
   "metadata": {
    "ExecuteTime": {
     "end_time": "2023-10-06T15:53:04.343757Z",
     "start_time": "2023-10-06T15:53:03.836534Z"
    }
   },
   "outputs": [
    {
     "data": {
      "text/plain": [
       "Pipeline(steps=[('ct',\n",
       "                 ColumnTransformer(transformers=[('subpipe_num',\n",
       "                                                  Pipeline(steps=[('num_impute',\n",
       "                                                                   SimpleImputer()),\n",
       "                                                                  ('ss',\n",
       "                                                                   StandardScaler()),\n",
       "                                                                  ('pf',\n",
       "                                                                   PolynomialFeatures(degree=4))]),\n",
       "                                                  ['account length',\n",
       "                                                   'number vmail messages',\n",
       "                                                   'total day minutes',\n",
       "                                                   'total day calls',\n",
       "                                                   'total day charge',\n",
       "                                                   'total eve minutes',\n",
       "                                                   'total eve calls',\n",
       "                                                   'total eve charge',\n",
       "                                                   'total night minutes',\n",
       "                                                   'total night...',\n",
       "                                                   'total night charge',\n",
       "                                                   'total intl minutes',\n",
       "                                                   'total intl calls',\n",
       "                                                   'total intl charge',\n",
       "                                                   'customer service calls']),\n",
       "                                                 ('subpipe_cat',\n",
       "                                                  Pipeline(steps=[('cat_impute',\n",
       "                                                                   SimpleImputer(strategy='most_frequent')),\n",
       "                                                                  ('ohe',\n",
       "                                                                   OneHotEncoder(handle_unknown='ignore',\n",
       "                                                                                 sparse=False))]),\n",
       "                                                  ['state',\n",
       "                                                   'international plan',\n",
       "                                                   'voice mail plan',\n",
       "                                                   'area code'])])),\n",
       "                ('logreg', LogisticRegression(C=0.0001))])"
      ]
     },
     "execution_count": 74,
     "metadata": {},
     "output_type": "execute_result"
    }
   ],
   "source": [
    "logreg_pf3.fit(X_train, y_train)"
   ]
  },
  {
   "cell_type": "code",
   "execution_count": 75,
   "metadata": {
    "ExecuteTime": {
     "end_time": "2023-10-06T15:53:04.499885Z",
     "start_time": "2023-10-06T15:53:04.344757Z"
    }
   },
   "outputs": [
    {
     "data": {
      "text/plain": [
       "<sklearn.metrics._plot.roc_curve.RocCurveDisplay at 0x245c6c133a0>"
      ]
     },
     "execution_count": 75,
     "metadata": {},
     "output_type": "execute_result"
    },
    {
     "data": {
      "image/png": "[encoded data removed]",
      "text/plain": [
       "<Figure size 432x288 with 1 Axes>"
      ]
     },
     "metadata": {
      "needs_background": "light"
     },
     "output_type": "display_data"
    }
   ],
   "source": [
    "plot_roc_curve(logreg_pf3, X_train, y_train)"
   ]
  },
  {
   "cell_type": "code",
   "execution_count": 76,
   "metadata": {
    "ExecuteTime": {
     "end_time": "2023-10-06T15:53:04.608551Z",
     "start_time": "2023-10-06T15:53:04.500886Z"
    }
   },
   "outputs": [
    {
     "data": {
      "text/plain": [
       "<sklearn.metrics._plot.roc_curve.RocCurveDisplay at 0x245c73c6370>"
      ]
     },
     "execution_count": 76,
     "metadata": {},
     "output_type": "execute_result"
    },
    {
     "data": {
      "image/png": "[encoded data removed]",
      "text/plain": [
       "<Figure size 432x288 with 1 Axes>"
      ]
     },
     "metadata": {
      "needs_background": "light"
     },
     "output_type": "display_data"
    }
   ],
   "source": [
    "plot_roc_curve(logreg_pf3, X_test, y_test)"
   ]
  },
  {
   "cell_type": "code",
   "execution_count": 77,
   "metadata": {
    "ExecuteTime": {
     "end_time": "2023-10-06T15:53:04.654685Z",
     "start_time": "2023-10-06T15:53:04.609552Z"
    }
   },
   "outputs": [
    {
     "name": "stdout",
     "output_type": "stream",
     "text": [
      "              precision    recall  f1-score   support\n",
      "\n",
      "       False       0.90      0.99      0.94       719\n",
      "        True       0.82      0.32      0.46       115\n",
      "\n",
      "    accuracy                           0.90       834\n",
      "   macro avg       0.86      0.66      0.70       834\n",
      "weighted avg       0.89      0.90      0.88       834\n",
      "\n"
     ]
    }
   ],
   "source": [
    "print(classification_report(y_test, logreg_pf3.predict(X_test)))"
   ]
  },
  {
   "cell_type": "markdown",
   "metadata": {},
   "source": [
    "Seems like we should stick with a maximum degree of 3"
   ]
  },
  {
   "cell_type": "code",
   "execution_count": 78,
   "metadata": {
    "ExecuteTime": {
     "end_time": "2023-10-06T15:53:04.670773Z",
     "start_time": "2023-10-06T15:53:04.655685Z"
    }
   },
   "outputs": [],
   "source": [
    "logreg_pf2_more_regularization = Pipeline([\n",
    "    ('ct',CT_pf2),\n",
    "    ('logreg', LogisticRegression(C = .1))\n",
    "])"
   ]
  },
  {
   "cell_type": "code",
   "execution_count": 79,
   "metadata": {
    "ExecuteTime": {
     "end_time": "2023-10-06T15:53:04.838066Z",
     "start_time": "2023-10-06T15:53:04.671713Z"
    }
   },
   "outputs": [
    {
     "name": "stderr",
     "output_type": "stream",
     "text": [
      "C:\\Users\\rchag\\anaconda3\\envs\\learn-env\\lib\\site-packages\\sklearn\\linear_model\\_logistic.py:762: ConvergenceWarning: lbfgs failed to converge (status=1):\n",
      "STOP: TOTAL NO. of ITERATIONS REACHED LIMIT.\n",
      "\n",
      "Increase the number of iterations (max_iter) or scale the data as shown in:\n",
      "    https://scikit-learn.org/stable/modules/preprocessing.html\n",
      "Please also refer to the documentation for alternative solver options:\n",
      "    https://scikit-learn.org/stable/modules/linear_model.html#logistic-regression\n",
      "  n_iter_i = _check_optimize_result(\n"
     ]
    },
    {
     "data": {
      "text/plain": [
       "Pipeline(steps=[('ct',\n",
       "                 ColumnTransformer(transformers=[('subpipe_num',\n",
       "                                                  Pipeline(steps=[('num_impute',\n",
       "                                                                   SimpleImputer()),\n",
       "                                                                  ('ss',\n",
       "                                                                   StandardScaler()),\n",
       "                                                                  ('pf',\n",
       "                                                                   PolynomialFeatures(degree=3))]),\n",
       "                                                  ['account length',\n",
       "                                                   'number vmail messages',\n",
       "                                                   'total day minutes',\n",
       "                                                   'total day calls',\n",
       "                                                   'total day charge',\n",
       "                                                   'total eve minutes',\n",
       "                                                   'total eve calls',\n",
       "                                                   'total eve charge',\n",
       "                                                   'total night minutes',\n",
       "                                                   'total night calls',\n",
       "                                                   'total night charge',\n",
       "                                                   'total intl minutes',\n",
       "                                                   'total intl calls',\n",
       "                                                   'total intl charge',\n",
       "                                                   'customer service calls']),\n",
       "                                                 ('subpipe_cat',\n",
       "                                                  Pipeline(steps=[('cat_impute',\n",
       "                                                                   SimpleImputer(strategy='most_frequent')),\n",
       "                                                                  ('ohe',\n",
       "                                                                   OneHotEncoder(handle_unknown='ignore',\n",
       "                                                                                 sparse=False))]),\n",
       "                                                  ['state',\n",
       "                                                   'international plan',\n",
       "                                                   'voice mail plan',\n",
       "                                                   'area code'])])),\n",
       "                ('logreg', LogisticRegression(C=0.1))])"
      ]
     },
     "execution_count": 79,
     "metadata": {},
     "output_type": "execute_result"
    }
   ],
   "source": [
    "logreg_pf2_more_regularization.fit(X_train,y_train)"
   ]
  },
  {
   "cell_type": "code",
   "execution_count": 80,
   "metadata": {
    "ExecuteTime": {
     "end_time": "2023-10-06T15:53:04.930553Z",
     "start_time": "2023-10-06T15:53:04.839066Z"
    }
   },
   "outputs": [
    {
     "data": {
      "text/plain": [
       "<sklearn.metrics._plot.roc_curve.RocCurveDisplay at 0x245c74d6f70>"
      ]
     },
     "execution_count": 80,
     "metadata": {},
     "output_type": "execute_result"
    },
    {
     "data": {
      "image/png": "[encoded data removed]",
      "text/plain": [
       "<Figure size 432x288 with 1 Axes>"
      ]
     },
     "metadata": {
      "needs_background": "light"
     },
     "output_type": "display_data"
    }
   ],
   "source": [
    "plot_roc_curve(logreg_pf2_more_regularization, X_train, y_train)"
   ]
  },
  {
   "cell_type": "code",
   "execution_count": 81,
   "metadata": {
    "ExecuteTime": {
     "end_time": "2023-10-06T15:53:05.020525Z",
     "start_time": "2023-10-06T15:53:04.931555Z"
    }
   },
   "outputs": [
    {
     "data": {
      "text/plain": [
       "<sklearn.metrics._plot.roc_curve.RocCurveDisplay at 0x245c75481f0>"
      ]
     },
     "execution_count": 81,
     "metadata": {},
     "output_type": "execute_result"
    },
    {
     "data": {
      "image/png": "[encoded data removed]",
      "text/plain": [
       "<Figure size 432x288 with 1 Axes>"
      ]
     },
     "metadata": {
      "needs_background": "light"
     },
     "output_type": "display_data"
    }
   ],
   "source": [
    "plot_roc_curve(logreg_pf2_more_regularization, X_test, y_test)"
   ]
  },
  {
   "cell_type": "code",
   "execution_count": 82,
   "metadata": {
    "ExecuteTime": {
     "end_time": "2023-10-06T15:53:05.036536Z",
     "start_time": "2023-10-06T15:53:05.020525Z"
    }
   },
   "outputs": [
    {
     "name": "stdout",
     "output_type": "stream",
     "text": [
      "              precision    recall  f1-score   support\n",
      "\n",
      "       False       0.93      0.93      0.93       719\n",
      "        True       0.58      0.57      0.57       115\n",
      "\n",
      "    accuracy                           0.88       834\n",
      "   macro avg       0.75      0.75      0.75       834\n",
      "weighted avg       0.88      0.88      0.88       834\n",
      "\n"
     ]
    }
   ],
   "source": [
    "print(classification_report(y_test, logreg_pf2_more_regularization.predict(X_test)))"
   ]
  },
  {
   "cell_type": "code",
   "execution_count": 83,
   "metadata": {
    "ExecuteTime": {
     "end_time": "2023-10-06T15:53:05.051899Z",
     "start_time": "2023-10-06T15:53:05.037538Z"
    }
   },
   "outputs": [],
   "source": [
    "grid = {\n",
    "    'logreg__penalty' : ['none','l1','l2'],\n",
    "    'logreg__max_iter' : [10,100,1000],\n",
    "    'logreg__C' : [0.000001, 0.00001, 0.0001, 0.001, 10, 100 ],\n",
    "    'logreg__tol' : [.0001, .001, .01, .1]\n",
    "}"
   ]
  },
  {
   "cell_type": "code",
   "execution_count": 84,
   "metadata": {
    "ExecuteTime": {
     "end_time": "2023-10-06T15:53:05.067914Z",
     "start_time": "2023-10-06T15:53:05.052899Z"
    }
   },
   "outputs": [],
   "source": [
    "#gs = GridSearchCV(logreg_pf2_more_regularization, param_grid = grid, verbose =1 )"
   ]
  },
  {
   "cell_type": "code",
   "execution_count": 85,
   "metadata": {
    "ExecuteTime": {
     "end_time": "2023-10-06T15:53:05.083434Z",
     "start_time": "2023-10-06T15:53:05.068418Z"
    }
   },
   "outputs": [],
   "source": [
    "#gs.fit(X_train, y_train)"
   ]
  },
  {
   "cell_type": "code",
   "execution_count": 86,
   "metadata": {
    "ExecuteTime": {
     "end_time": "2023-10-06T15:53:05.099438Z",
     "start_time": "2023-10-06T15:53:05.084430Z"
    }
   },
   "outputs": [],
   "source": [
    "#print(gs.best_params_)\n",
    "#print(gs.best_score_)"
   ]
  },
  {
   "cell_type": "code",
   "execution_count": 87,
   "metadata": {
    "ExecuteTime": {
     "end_time": "2023-10-06T15:53:05.114504Z",
     "start_time": "2023-10-06T15:53:05.100439Z"
    }
   },
   "outputs": [],
   "source": [
    "grid2 = {\n",
    "    'logreg__penalty' : ['none','l1','l2','elasticnet'],\n",
    "    'logreg__max_iter' : [10,100,1000],\n",
    "    'logreg__C' : [0.000001, 0.00001, 0.0001, 0.001],\n",
    "    'logreg__tol' : [.0001, .001, .01, .1],\n",
    "    'logreg__solver': ['lbfgs', 'liblinear', 'newton-cg', 'newton-cholesky', 'sag', 'saga']\n",
    "}"
   ]
  },
  {
   "cell_type": "code",
   "execution_count": 88,
   "metadata": {
    "ExecuteTime": {
     "end_time": "2023-10-06T15:53:05.129810Z",
     "start_time": "2023-10-06T15:53:05.115785Z"
    }
   },
   "outputs": [],
   "source": [
    "# gs.score(X_train, y_train)"
   ]
  },
  {
   "cell_type": "code",
   "execution_count": 89,
   "metadata": {
    "ExecuteTime": {
     "end_time": "2023-10-06T15:53:05.145509Z",
     "start_time": "2023-10-06T15:53:05.130806Z"
    }
   },
   "outputs": [],
   "source": [
    "# gs.score(X_test, y_test)"
   ]
  },
  {
   "cell_type": "code",
   "execution_count": 90,
   "metadata": {
    "ExecuteTime": {
     "end_time": "2023-10-06T15:53:05.160678Z",
     "start_time": "2023-10-06T15:53:05.146511Z"
    }
   },
   "outputs": [],
   "source": [
    "# gs2 = GridSearchCV(logreg_pf2_more_regularization, param_grid = grid2, verbose =1, cv = 3)"
   ]
  },
  {
   "cell_type": "code",
   "execution_count": 91,
   "metadata": {
    "ExecuteTime": {
     "end_time": "2023-10-06T15:53:05.176202Z",
     "start_time": "2023-10-06T15:53:05.161682Z"
    }
   },
   "outputs": [],
   "source": [
    "# gs2.fit(X_train,y_train)"
   ]
  },
  {
   "cell_type": "code",
   "execution_count": 92,
   "metadata": {
    "ExecuteTime": {
     "end_time": "2023-10-06T15:53:05.191686Z",
     "start_time": "2023-10-06T15:53:05.177203Z"
    }
   },
   "outputs": [],
   "source": [
    "# print(gs2.best_params_)\n",
    "# print(gs2.best_score_)"
   ]
  },
  {
   "cell_type": "code",
   "execution_count": 93,
   "metadata": {
    "ExecuteTime": {
     "end_time": "2023-10-06T15:53:05.207337Z",
     "start_time": "2023-10-06T15:53:05.192687Z"
    }
   },
   "outputs": [],
   "source": [
    "CT_cols = ColumnTransformer(transformers=[\n",
    "    ('num_cols',subpipe_numeric_pf2, numeric_cols),\n",
    "    ('ohe', OneHotEncoder(), cat_cols)\n",
    "])"
   ]
  },
  {
   "cell_type": "code",
   "execution_count": 94,
   "metadata": {
    "ExecuteTime": {
     "end_time": "2023-10-06T15:53:05.222725Z",
     "start_time": "2023-10-06T15:53:05.208205Z"
    }
   },
   "outputs": [],
   "source": [
    "newreg = Pipeline([\n",
    "    ('ct', CT_cols),\n",
    "    ('logreg', LogisticRegression())\n",
    "])"
   ]
  },
  {
   "cell_type": "code",
   "execution_count": 95,
   "metadata": {
    "ExecuteTime": {
     "end_time": "2023-10-06T15:53:05.268601Z",
     "start_time": "2023-10-06T15:53:05.223724Z"
    }
   },
   "outputs": [
    {
     "data": {
      "text/plain": [
       "ColumnTransformer(transformers=[('num_cols',\n",
       "                                 Pipeline(steps=[('num_impute',\n",
       "                                                  SimpleImputer()),\n",
       "                                                 ('ss', StandardScaler()),\n",
       "                                                 ('pf',\n",
       "                                                  PolynomialFeatures(degree=3))]),\n",
       "                                 ['account length', 'number vmail messages',\n",
       "                                  'total day minutes', 'total day calls',\n",
       "                                  'total day charge', 'total eve minutes',\n",
       "                                  'total eve calls', 'total eve charge',\n",
       "                                  'total night minutes', 'total night calls',\n",
       "                                  'total night charge', 'total intl minutes',\n",
       "                                  'total intl calls', 'total intl charge',\n",
       "                                  'customer service calls']),\n",
       "                                ('ohe', OneHotEncoder(),\n",
       "                                 ['state', 'international plan',\n",
       "                                  'voice mail plan', 'area code'])])"
      ]
     },
     "execution_count": 95,
     "metadata": {},
     "output_type": "execute_result"
    }
   ],
   "source": [
    "CT_cols.fit(X_train)"
   ]
  },
  {
   "cell_type": "code",
   "execution_count": 96,
   "metadata": {
    "ExecuteTime": {
     "end_time": "2023-10-06T15:53:05.391916Z",
     "start_time": "2023-10-06T15:53:05.269548Z"
    }
   },
   "outputs": [
    {
     "name": "stderr",
     "output_type": "stream",
     "text": [
      "C:\\Users\\rchag\\anaconda3\\envs\\learn-env\\lib\\site-packages\\sklearn\\linear_model\\_logistic.py:762: ConvergenceWarning: lbfgs failed to converge (status=1):\n",
      "STOP: TOTAL NO. of ITERATIONS REACHED LIMIT.\n",
      "\n",
      "Increase the number of iterations (max_iter) or scale the data as shown in:\n",
      "    https://scikit-learn.org/stable/modules/preprocessing.html\n",
      "Please also refer to the documentation for alternative solver options:\n",
      "    https://scikit-learn.org/stable/modules/linear_model.html#logistic-regression\n",
      "  n_iter_i = _check_optimize_result(\n"
     ]
    },
    {
     "data": {
      "text/plain": [
       "Pipeline(steps=[('ct',\n",
       "                 ColumnTransformer(transformers=[('num_cols',\n",
       "                                                  Pipeline(steps=[('num_impute',\n",
       "                                                                   SimpleImputer()),\n",
       "                                                                  ('ss',\n",
       "                                                                   StandardScaler()),\n",
       "                                                                  ('pf',\n",
       "                                                                   PolynomialFeatures(degree=3))]),\n",
       "                                                  ['account length',\n",
       "                                                   'number vmail messages',\n",
       "                                                   'total day minutes',\n",
       "                                                   'total day calls',\n",
       "                                                   'total day charge',\n",
       "                                                   'total eve minutes',\n",
       "                                                   'total eve calls',\n",
       "                                                   'total eve charge',\n",
       "                                                   'total night minutes',\n",
       "                                                   'total night calls',\n",
       "                                                   'total night charge',\n",
       "                                                   'total intl minutes',\n",
       "                                                   'total intl calls',\n",
       "                                                   'total intl charge',\n",
       "                                                   'customer service calls']),\n",
       "                                                 ('ohe', OneHotEncoder(),\n",
       "                                                  ['state',\n",
       "                                                   'international plan',\n",
       "                                                   'voice mail plan',\n",
       "                                                   'area code'])])),\n",
       "                ('logreg', LogisticRegression())])"
      ]
     },
     "execution_count": 96,
     "metadata": {},
     "output_type": "execute_result"
    }
   ],
   "source": [
    "newreg.fit(X_train,y_train)"
   ]
  },
  {
   "cell_type": "code",
   "execution_count": 107,
   "metadata": {
    "ExecuteTime": {
     "end_time": "2023-10-06T15:56:20.760269Z",
     "start_time": "2023-10-06T15:56:20.757268Z"
    }
   },
   "outputs": [],
   "source": [
    "CT_pf = ColumnTransformer(transformers = [\n",
    "    ('subpipe_num', subpipe_numeric_pf,numeric_cols),\n",
    "    ('subpipe_cat', subpipe_cat, cat_cols)\n",
    "])"
   ]
  },
  {
   "cell_type": "code",
   "execution_count": 111,
   "metadata": {
    "ExecuteTime": {
     "end_time": "2023-10-06T15:57:30.411194Z",
     "start_time": "2023-10-06T15:57:30.405691Z"
    }
   },
   "outputs": [],
   "source": [
    "lasso = LogisticRegression()"
   ]
  },
  {
   "cell_type": "code",
   "execution_count": 112,
   "metadata": {
    "ExecuteTime": {
     "end_time": "2023-10-06T15:57:31.526656Z",
     "start_time": "2023-10-06T15:57:31.517649Z"
    }
   },
   "outputs": [],
   "source": [
    "logreg_pf = Pipeline(steps = [\n",
    "    ('ct',CT_pf),\n",
    "    ('logreg', lasso)\n",
    "])"
   ]
  },
  {
   "cell_type": "code",
   "execution_count": 114,
   "metadata": {
    "ExecuteTime": {
     "end_time": "2023-10-06T15:58:22.187775Z",
     "start_time": "2023-10-06T15:58:22.060934Z"
    }
   },
   "outputs": [
    {
     "name": "stderr",
     "output_type": "stream",
     "text": [
      "C:\\Users\\rchag\\anaconda3\\envs\\learn-env\\lib\\site-packages\\sklearn\\linear_model\\_logistic.py:762: ConvergenceWarning: lbfgs failed to converge (status=1):\n",
      "STOP: TOTAL NO. of ITERATIONS REACHED LIMIT.\n",
      "\n",
      "Increase the number of iterations (max_iter) or scale the data as shown in:\n",
      "    https://scikit-learn.org/stable/modules/preprocessing.html\n",
      "Please also refer to the documentation for alternative solver options:\n",
      "    https://scikit-learn.org/stable/modules/linear_model.html#logistic-regression\n",
      "  n_iter_i = _check_optimize_result(\n"
     ]
    },
    {
     "data": {
      "text/plain": [
       "Pipeline(steps=[('ct',\n",
       "                 ColumnTransformer(transformers=[('subpipe_num',\n",
       "                                                  Pipeline(steps=[('num_impute',\n",
       "                                                                   SimpleImputer()),\n",
       "                                                                  ('ss',\n",
       "                                                                   StandardScaler()),\n",
       "                                                                  ('pf',\n",
       "                                                                   PolynomialFeatures())]),\n",
       "                                                  ['account length',\n",
       "                                                   'number vmail messages',\n",
       "                                                   'total day minutes',\n",
       "                                                   'total day calls',\n",
       "                                                   'total day charge',\n",
       "                                                   'total eve minutes',\n",
       "                                                   'total eve calls',\n",
       "                                                   'total eve charge',\n",
       "                                                   'total night minutes',\n",
       "                                                   'total night calls',\n",
       "                                                   'total night charge',\n",
       "                                                   'total intl minutes',\n",
       "                                                   'total intl calls',\n",
       "                                                   'total intl charge',\n",
       "                                                   'customer service calls']),\n",
       "                                                 ('subpipe_cat',\n",
       "                                                  Pipeline(steps=[('cat_impute',\n",
       "                                                                   SimpleImputer(strategy='most_frequent')),\n",
       "                                                                  ('ohe',\n",
       "                                                                   OneHotEncoder(handle_unknown='ignore',\n",
       "                                                                                 sparse=False))]),\n",
       "                                                  ['state',\n",
       "                                                   'international plan',\n",
       "                                                   'voice mail plan',\n",
       "                                                   'area code'])])),\n",
       "                ('logreg', LogisticRegression())])"
      ]
     },
     "execution_count": 114,
     "metadata": {},
     "output_type": "execute_result"
    }
   ],
   "source": [
    "logreg_pf.fit(X_train, y_train)"
   ]
  },
  {
   "cell_type": "code",
   "execution_count": 115,
   "metadata": {
    "ExecuteTime": {
     "end_time": "2023-10-06T15:58:23.695842Z",
     "start_time": "2023-10-06T15:58:23.678823Z"
    }
   },
   "outputs": [
    {
     "data": {
      "text/plain": [
       "array(['state_AK', 'state_AL', 'state_AR', 'state_AZ', 'state_CA',\n",
       "       'state_CO', 'state_CT', 'state_DC', 'state_DE', 'state_FL',\n",
       "       'state_GA', 'state_HI', 'state_IA', 'state_ID', 'state_IL',\n",
       "       'state_IN', 'state_KS', 'state_KY', 'state_LA', 'state_MA',\n",
       "       'state_MD', 'state_ME', 'state_MI', 'state_MN', 'state_MO',\n",
       "       'state_MS', 'state_MT', 'state_NC', 'state_ND', 'state_NE',\n",
       "       'state_NH', 'state_NJ', 'state_NM', 'state_NV', 'state_NY',\n",
       "       'state_OH', 'state_OK', 'state_OR', 'state_PA', 'state_RI',\n",
       "       'state_SC', 'state_SD', 'state_TN', 'state_TX', 'state_UT',\n",
       "       'state_VA', 'state_VT', 'state_WA', 'state_WI', 'state_WV',\n",
       "       'state_WY', 'international plan_no', 'international plan_yes',\n",
       "       'voice mail plan_no', 'voice mail plan_yes', 'area code_408',\n",
       "       'area code_415', 'area code_510'], dtype=object)"
      ]
     },
     "execution_count": 115,
     "metadata": {},
     "output_type": "execute_result"
    }
   ],
   "source": [
    "categorical_feature_names = CT_pf.named_transformers_['subpipe_cat'].named_steps['ohe'].get_feature_names(input_features = cat_cols)\n",
    "categorical_feature_names"
   ]
  },
  {
   "cell_type": "code",
   "execution_count": 116,
   "metadata": {
    "ExecuteTime": {
     "end_time": "2023-10-06T15:58:24.558044Z",
     "start_time": "2023-10-06T15:58:24.542022Z"
    }
   },
   "outputs": [],
   "source": [
    "poly_feature_names = CT_pf.named_transformers_['subpipe_num'].named_steps['pf'].get_feature_names(input_features = numeric_cols)"
   ]
  },
  {
   "cell_type": "code",
   "execution_count": 117,
   "metadata": {
    "ExecuteTime": {
     "end_time": "2023-10-06T15:58:25.191691Z",
     "start_time": "2023-10-06T15:58:25.181166Z"
    }
   },
   "outputs": [],
   "source": [
    "allcols = poly_feature_names + list(categorical_feature_names)"
   ]
  },
  {
   "cell_type": "code",
   "execution_count": 118,
   "metadata": {
    "ExecuteTime": {
     "end_time": "2023-10-06T15:58:25.561892Z",
     "start_time": "2023-10-06T15:58:25.557387Z"
    }
   },
   "outputs": [],
   "source": [
    "coefs = LogisticRegression()"
   ]
  },
  {
   "cell_type": "code",
   "execution_count": 136,
   "metadata": {
    "ExecuteTime": {
     "end_time": "2023-10-06T17:34:09.639798Z",
     "start_time": "2023-10-06T17:34:09.627294Z"
    },
    "scrolled": true
   },
   "outputs": [
    {
     "data": {
      "text/plain": [
       "[('international plan_no', -74.18933193439783),\n",
       " ('state_HI', -73.14575743625949),\n",
       " ('state_VT', -62.260026072332174),\n",
       " ('state_AK', -50.03269737335461),\n",
       " ('state_AZ', -47.83689593781262),\n",
       " ('voice mail plan_yes', -45.64119703778737),\n",
       " ('state_NM', -43.46671922599612),\n",
       " ('state_UT', -39.97774883085352),\n",
       " ('state_AL', -39.60448168674764),\n",
       " ('state_NC', -37.16403146108757),\n",
       " ('state_IL', -36.392161741164784),\n",
       " ('state_VA', -36.162591354776765),\n",
       " ('state_FL', -36.058990216148565),\n",
       " ('state_CO', -35.929461361583094),\n",
       " ('total intl calls', -34.4959145453973),\n",
       " ('state_DC', -33.03044668201473),\n",
       " ('state_WV', -32.75866071659983),\n",
       " ('state_WI', -31.47805849270654),\n",
       " ('state_ND', -30.42181066438391),\n",
       " ('total day minutes customer service calls', -30.108474749752567),\n",
       " ('total day charge customer service calls', -29.261344880779085),\n",
       " ('state_WY', -28.062670043073933),\n",
       " ('state_DE', -26.885463461550387),\n",
       " ('state_RI', -23.566426215000757),\n",
       " ('number vmail messages total day minutes', -21.678639696923018),\n",
       " ('number vmail messages total day charge', -21.65422747182553),\n",
       " ('state_NE', -21.610885766071284),\n",
       " ('state_MO', -20.41832205189489),\n",
       " ('state_CT', -17.096724909868797),\n",
       " ('total eve minutes customer service calls', -16.050243782593874),\n",
       " ('total night calls total intl calls', -14.31882571359523),\n",
       " ('number vmail messages total eve minutes', -14.300984580842336),\n",
       " ('number vmail messages total eve charge', -14.000652935707103),\n",
       " ('total eve charge customer service calls', -13.74382608873117),\n",
       " ('1', -9.437850565230244),\n",
       " ('total intl charge customer service calls', -9.30202024115303),\n",
       " ('account length customer service calls', -9.261285766576044),\n",
       " ('total day calls total night calls', -9.190118820707294),\n",
       " ('number vmail messages', -8.494914050950442),\n",
       " ('total intl minutes customer service calls', -7.942565596550299),\n",
       " ('account length total night minutes', -7.532567403274848),\n",
       " ('account length total intl minutes', -7.494000707395443),\n",
       " ('account length total night charge', -7.328242698597299),\n",
       " ('total day minutes total eve calls', -7.08859253644607),\n",
       " ('total day charge total eve calls', -6.956801949050084),\n",
       " ('state_TN', -6.851088996012367),\n",
       " ('total eve calls^2', -5.641983972313702),\n",
       " ('account length total night calls', -5.366024546001036),\n",
       " ('number vmail messages total night charge', -5.354761285984155),\n",
       " ('area code_415', -5.350581101546004),\n",
       " ('total night charge total intl minutes', -5.263791911744075),\n",
       " ('state_KY', -5.205761162918354),\n",
       " ('total day charge total intl minutes', -5.061387157290975),\n",
       " ('total night charge customer service calls', -4.910186718646969),\n",
       " ('total day minutes total intl minutes', -4.7714809451118505),\n",
       " ('state_IN', -4.608055428326708),\n",
       " ('total eve calls total night calls', -4.548325420561794),\n",
       " ('number vmail messages total day calls', -4.390106688988904),\n",
       " ('total night charge^2', -4.3833949546692725),\n",
       " ('total eve calls total night charge', -4.248140755420504),\n",
       " ('total eve calls customer service calls', -3.9754055977959224),\n",
       " ('account length total eve charge', -3.885750969410806),\n",
       " ('total intl calls customer service calls', -3.8635881676104433),\n",
       " ('total night minutes customer service calls', -3.475941054330034),\n",
       " ('total night minutes total intl minutes', -3.3964494134300582),\n",
       " ('area code_510', -3.394359598645569),\n",
       " ('number vmail messages total intl calls', -3.2601152940648803),\n",
       " ('total eve calls total night minutes', -3.1902319226646214),\n",
       " ('total night charge total intl charge', -3.13218165663971),\n",
       " ('total night minutes total night charge', -3.0662911120141634),\n",
       " ('total day minutes total night calls', -3.0241822610811986),\n",
       " ('number vmail messages total night minutes', -2.9966837061206397),\n",
       " ('state_NH', -2.6317107668273554),\n",
       " ('account length total intl charge', -2.5573248667891346),\n",
       " ('total day calls total night minutes', -2.5551948391893453),\n",
       " ('total night charge total intl calls', -2.5442236518208428),\n",
       " ('total eve charge total intl charge', -2.4567376716287836),\n",
       " ('total day charge total night calls', -2.4490700942692123),\n",
       " ('total eve minutes total intl charge', -2.439269296124791),\n",
       " ('total eve minutes total intl calls', -2.2869580456077787),\n",
       " ('total eve minutes total night charge', -2.2068418234933995),\n",
       " ('total night calls^2', -2.1977579438504424),\n",
       " ('state_GA', -1.9947191895805738),\n",
       " ('number vmail messages total intl charge', -1.7647612389272926),\n",
       " ('total night minutes^2', -1.7291524518517454),\n",
       " ('total night minutes total intl calls', -1.704915942623253),\n",
       " ('total day calls total night charge', -1.3404421257910415),\n",
       " ('total day calls total intl minutes', -1.2999807540254094),\n",
       " ('account length total eve minutes', -1.26933762557766),\n",
       " ('total night minutes total intl charge', -1.2351246328233922),\n",
       " ('total eve calls total intl minutes', -1.1739697137690075),\n",
       " ('total intl minutes^2', -1.0805658773333837),\n",
       " ('total night calls total night charge', -1.016937102632498),\n",
       " ('area code_408', -0.9564300173841023),\n",
       " ('total eve charge^2', -0.8243946139817937),\n",
       " ('total eve calls total eve charge', -0.6918468029970537),\n",
       " ('total eve charge total intl calls', -0.606646424882118),\n",
       " ('total night minutes total night calls', -0.3573618657244815),\n",
       " ('total intl minutes total intl charge', -0.10644149240025547),\n",
       " ('total eve charge total night charge', 0.19146030524228586),\n",
       " ('total eve minutes total eve calls', 0.27721930252542215),\n",
       " ('total eve calls total intl charge', 0.2863100700965404),\n",
       " ('account length total eve calls', 0.3217391764902766),\n",
       " ('account length total intl calls', 0.46595545286807205),\n",
       " ('total day calls total day charge', 0.49095794237699053),\n",
       " ('account length^2', 0.5475799508997348),\n",
       " ('total intl charge^2', 0.8782010384974948),\n",
       " ('total day minutes total day calls', 1.0278959221537098),\n",
       " ('total eve minutes total eve charge', 1.056545843507939),\n",
       " ('number vmail messages total intl minutes', 1.3824499209682761),\n",
       " ('total day calls total intl charge', 1.3966629775310047),\n",
       " ('total night calls total intl minutes', 2.2778916832853824),\n",
       " ('account length total day calls', 2.4410377601098876),\n",
       " ('total day calls', 2.702192923320834),\n",
       " ('total eve minutes total night minutes', 2.8291232600085037),\n",
       " ('total eve minutes^2', 2.973439277352563),\n",
       " ('number vmail messages total night calls', 3.0599489544056224),\n",
       " ('number vmail messages customer service calls', 3.09218154877009),\n",
       " ('total night calls', 3.2910002214462386),\n",
       " ('total intl minutes total intl calls', 3.433237131850464),\n",
       " ('total day minutes total intl calls', 3.547569960406971),\n",
       " ('total day charge total intl calls', 3.6493890125752104),\n",
       " ('total eve charge total intl minutes', 3.823918054959874),\n",
       " ('total eve minutes total intl minutes', 3.845355623889879),\n",
       " ('total day charge total intl charge', 4.606095455056725),\n",
       " ('total eve charge total night calls', 4.894443129975512),\n",
       " ('total day minutes total intl charge', 4.9283495988165615),\n",
       " ('total intl calls total intl charge', 5.019530090951241),\n",
       " ('account length total day minutes', 5.246756768275063),\n",
       " ('total eve charge total night minutes', 5.350339498693213),\n",
       " ('total day calls customer service calls', 5.537253802250497),\n",
       " ('total night calls customer service calls', 5.703279196722844),\n",
       " ('total eve calls total intl calls', 5.782646680421588),\n",
       " ('total eve minutes total night calls', 5.823549039297027),\n",
       " ('total day calls total eve calls', 6.078454294568525),\n",
       " ('total day calls total intl calls', 6.521617860948248),\n",
       " ('state_SD', 6.6313360184377945),\n",
       " ('account length total day charge', 6.679452457168078),\n",
       " ('state_NY', 7.519857370331717),\n",
       " ('total day calls^2', 7.835327092032784),\n",
       " ('number vmail messages total eve calls', 8.642636973283558),\n",
       " ('total night charge', 8.95870850453553),\n",
       " ('state_OR', 10.310509368299314),\n",
       " ('total day charge total night charge', 10.643015535664691),\n",
       " ('total day calls total eve minutes', 10.779821898596342),\n",
       " ('total day minutes total night charge', 11.03327313053204),\n",
       " ('total night minutes', 11.157176420862891),\n",
       " ('total day calls total eve charge', 11.293593041542426),\n",
       " ('total day charge total night minutes', 11.390255370483416),\n",
       " ('total day minutes total night minutes', 11.783393787322094),\n",
       " ('total day charge total eve charge', 12.052288935709754),\n",
       " ('total intl minutes', 12.332189786909375),\n",
       " ('total day minutes total eve charge', 12.360342640856924),\n",
       " ('account length number vmail messages', 12.683826389523212),\n",
       " ('state_IA', 12.705786308589829),\n",
       " ('total eve calls', 12.780452142110343),\n",
       " ('total day charge total eve minutes', 13.771731497485806),\n",
       " ('total day charge^2', 14.032723279548476),\n",
       " ('total day minutes total eve minutes', 14.08443622578892),\n",
       " ('total night calls total intl charge', 14.779836846742489),\n",
       " ('total day minutes total day charge', 14.782609141460634),\n",
       " ('total intl calls^2', 15.131918376683306),\n",
       " ('total day minutes^2', 15.537282241197392),\n",
       " ('state_AR', 15.600078232228354),\n",
       " ('state_OK', 16.572165468066903),\n",
       " ('state_ID', 18.335947479877458),\n",
       " ('account length', 19.703618373748277),\n",
       " ('customer service calls^2', 20.704661944673663),\n",
       " ('number vmail messages^2', 20.99166932391574),\n",
       " ('total eve charge', 21.891961128379723),\n",
       " ('total eve minutes', 22.20350488813554),\n",
       " ('total intl charge', 27.49775264578751),\n",
       " ('state_MS', 27.835230915634668),\n",
       " ('state_MA', 29.432031761703836),\n",
       " ('state_MN', 31.556322441627206),\n",
       " ('state_MD', 35.546169025541374),\n",
       " ('state_LA', 38.0335989827389),\n",
       " ('state_NV', 39.979654354695256),\n",
       " ('state_OH', 46.15340259050207),\n",
       " ('total day minutes', 53.7327845102054),\n",
       " ('total day charge', 54.468755956127794),\n",
       " ('state_WA', 56.928925614112536),\n",
       " ('state_PA', 60.413853516588475),\n",
       " ('voice mail plan_no', 66.60070586492412),\n",
       " ('state_MI', 68.853242790952),\n",
       " ('state_SC', 80.13567564842707),\n",
       " ('state_ME', 93.64076782927266),\n",
       " ('state_TX', 99.86986185427904),\n",
       " ('customer service calls', 118.2860193930495),\n",
       " ('state_KS', 127.7933893123473),\n",
       " ('state_CA', 146.38155969394612),\n",
       " ('international plan_yes', 250.87100110926647),\n",
       " ('state_MT', 275.5958995502837),\n",
       " ('state_NJ', 277.022569839776)]"
      ]
     },
     "execution_count": 136,
     "metadata": {},
     "output_type": "execute_result"
    }
   ],
   "source": [
    "pflist = list(zip(allcols, (np.exp(logreg_pf.named_steps['logreg'].coef_[0]) - 1)  *100))\n",
    "sorted(pflist,key = lambda x:x[1])"
   ]
  },
  {
   "cell_type": "code",
   "execution_count": 121,
   "metadata": {
    "ExecuteTime": {
     "end_time": "2023-10-06T15:58:38.382973Z",
     "start_time": "2023-10-06T15:58:38.372964Z"
    }
   },
   "outputs": [
    {
     "data": {
      "text/plain": [
       "136"
      ]
     },
     "execution_count": 121,
     "metadata": {},
     "output_type": "execute_result"
    }
   ],
   "source": [
    "len(poly_feature_names)"
   ]
  },
  {
   "cell_type": "code",
   "execution_count": 122,
   "metadata": {
    "ExecuteTime": {
     "end_time": "2023-10-06T15:58:38.892935Z",
     "start_time": "2023-10-06T15:58:38.880929Z"
    }
   },
   "outputs": [],
   "source": [
    "logreg_pf_gs = Pipeline([\n",
    "    ('ct',CT_pf),\n",
    "    ('logreg', LogisticRegression(C = 1e-05, max_iter= 100, penalty= 'none', solver= 'sag', tol= 0.0001))\n",
    "])"
   ]
  },
  {
   "cell_type": "code",
   "execution_count": 123,
   "metadata": {
    "ExecuteTime": {
     "end_time": "2023-10-06T15:58:39.191705Z",
     "start_time": "2023-10-06T15:58:38.912748Z"
    }
   },
   "outputs": [
    {
     "name": "stderr",
     "output_type": "stream",
     "text": [
      "C:\\Users\\rchag\\anaconda3\\envs\\learn-env\\lib\\site-packages\\sklearn\\linear_model\\_logistic.py:1320: UserWarning: Setting penalty='none' will ignore the C and l1_ratio parameters\n",
      "  warnings.warn(\n",
      "C:\\Users\\rchag\\anaconda3\\envs\\learn-env\\lib\\site-packages\\sklearn\\linear_model\\_sag.py:329: ConvergenceWarning: The max_iter was reached which means the coef_ did not converge\n",
      "  warnings.warn(\"The max_iter was reached which means \"\n"
     ]
    },
    {
     "data": {
      "text/plain": [
       "Pipeline(steps=[('ct',\n",
       "                 ColumnTransformer(transformers=[('subpipe_num',\n",
       "                                                  Pipeline(steps=[('num_impute',\n",
       "                                                                   SimpleImputer()),\n",
       "                                                                  ('ss',\n",
       "                                                                   StandardScaler()),\n",
       "                                                                  ('pf',\n",
       "                                                                   PolynomialFeatures())]),\n",
       "                                                  ['account length',\n",
       "                                                   'number vmail messages',\n",
       "                                                   'total day minutes',\n",
       "                                                   'total day calls',\n",
       "                                                   'total day charge',\n",
       "                                                   'total eve minutes',\n",
       "                                                   'total eve calls',\n",
       "                                                   'total eve charge',\n",
       "                                                   'total night minutes',\n",
       "                                                   'total night calls',\n",
       "                                                   '...\n",
       "                                                   'total intl minutes',\n",
       "                                                   'total intl calls',\n",
       "                                                   'total intl charge',\n",
       "                                                   'customer service calls']),\n",
       "                                                 ('subpipe_cat',\n",
       "                                                  Pipeline(steps=[('cat_impute',\n",
       "                                                                   SimpleImputer(strategy='most_frequent')),\n",
       "                                                                  ('ohe',\n",
       "                                                                   OneHotEncoder(handle_unknown='ignore',\n",
       "                                                                                 sparse=False))]),\n",
       "                                                  ['state',\n",
       "                                                   'international plan',\n",
       "                                                   'voice mail plan',\n",
       "                                                   'area code'])])),\n",
       "                ('logreg',\n",
       "                 LogisticRegression(C=1e-05, penalty='none', solver='sag'))])"
      ]
     },
     "execution_count": 123,
     "metadata": {},
     "output_type": "execute_result"
    }
   ],
   "source": [
    "logreg_pf_gs.fit(X_train, y_train)"
   ]
  },
  {
   "cell_type": "code",
   "execution_count": 124,
   "metadata": {
    "ExecuteTime": {
     "end_time": "2023-10-06T15:58:39.283489Z",
     "start_time": "2023-10-06T15:58:39.192705Z"
    }
   },
   "outputs": [
    {
     "data": {
      "text/plain": [
       "<sklearn.metrics._plot.roc_curve.RocCurveDisplay at 0x245c56c82e0>"
      ]
     },
     "execution_count": 124,
     "metadata": {},
     "output_type": "execute_result"
    },
    {
     "data": {
      "image/png": "[encoded data removed]",
      "text/plain": [
       "<Figure size 432x288 with 1 Axes>"
      ]
     },
     "metadata": {
      "needs_background": "light"
     },
     "output_type": "display_data"
    }
   ],
   "source": [
    "plot_roc_curve(logreg_pf_gs, X_test, y_test)"
   ]
  },
  {
   "cell_type": "code",
   "execution_count": 125,
   "metadata": {
    "ExecuteTime": {
     "end_time": "2023-10-06T15:58:39.298497Z",
     "start_time": "2023-10-06T15:58:39.284491Z"
    }
   },
   "outputs": [
    {
     "name": "stdout",
     "output_type": "stream",
     "text": [
      "              precision    recall  f1-score   support\n",
      "\n",
      "       False       0.93      0.96      0.94       719\n",
      "        True       0.69      0.51      0.59       115\n",
      "\n",
      "    accuracy                           0.90       834\n",
      "   macro avg       0.81      0.74      0.77       834\n",
      "weighted avg       0.89      0.90      0.90       834\n",
      "\n"
     ]
    }
   ],
   "source": [
    "print(classification_report(y_test, logreg_pf_gs.predict(X_test)))"
   ]
  },
  {
   "cell_type": "code",
   "execution_count": 126,
   "metadata": {
    "ExecuteTime": {
     "end_time": "2023-10-06T15:58:39.314009Z",
     "start_time": "2023-10-06T15:58:39.298497Z"
    }
   },
   "outputs": [],
   "source": [
    "logreg_pf2_gs = Pipeline([\n",
    "    ('ct',CT_pf2),\n",
    "    ('logreg', LogisticRegression(C = 1e-05, max_iter= 100, penalty= 'none', solver= 'sag', tol= 0.0001))\n",
    "])"
   ]
  },
  {
   "cell_type": "code",
   "execution_count": 127,
   "metadata": {
    "ExecuteTime": {
     "end_time": "2023-10-06T15:58:40.276379Z",
     "start_time": "2023-10-06T15:58:39.315009Z"
    }
   },
   "outputs": [
    {
     "name": "stderr",
     "output_type": "stream",
     "text": [
      "C:\\Users\\rchag\\anaconda3\\envs\\learn-env\\lib\\site-packages\\sklearn\\linear_model\\_logistic.py:1320: UserWarning: Setting penalty='none' will ignore the C and l1_ratio parameters\n",
      "  warnings.warn(\n",
      "C:\\Users\\rchag\\anaconda3\\envs\\learn-env\\lib\\site-packages\\sklearn\\linear_model\\_sag.py:329: ConvergenceWarning: The max_iter was reached which means the coef_ did not converge\n",
      "  warnings.warn(\"The max_iter was reached which means \"\n"
     ]
    },
    {
     "data": {
      "text/plain": [
       "Pipeline(steps=[('ct',\n",
       "                 ColumnTransformer(transformers=[('subpipe_num',\n",
       "                                                  Pipeline(steps=[('num_impute',\n",
       "                                                                   SimpleImputer()),\n",
       "                                                                  ('ss',\n",
       "                                                                   StandardScaler()),\n",
       "                                                                  ('pf',\n",
       "                                                                   PolynomialFeatures(degree=3))]),\n",
       "                                                  ['account length',\n",
       "                                                   'number vmail messages',\n",
       "                                                   'total day minutes',\n",
       "                                                   'total day calls',\n",
       "                                                   'total day charge',\n",
       "                                                   'total eve minutes',\n",
       "                                                   'total eve calls',\n",
       "                                                   'total eve charge',\n",
       "                                                   'total night minutes',\n",
       "                                                   'total night...\n",
       "                                                   'total intl minutes',\n",
       "                                                   'total intl calls',\n",
       "                                                   'total intl charge',\n",
       "                                                   'customer service calls']),\n",
       "                                                 ('subpipe_cat',\n",
       "                                                  Pipeline(steps=[('cat_impute',\n",
       "                                                                   SimpleImputer(strategy='most_frequent')),\n",
       "                                                                  ('ohe',\n",
       "                                                                   OneHotEncoder(handle_unknown='ignore',\n",
       "                                                                                 sparse=False))]),\n",
       "                                                  ['state',\n",
       "                                                   'international plan',\n",
       "                                                   'voice mail plan',\n",
       "                                                   'area code'])])),\n",
       "                ('logreg',\n",
       "                 LogisticRegression(C=1e-05, penalty='none', solver='sag'))])"
      ]
     },
     "execution_count": 127,
     "metadata": {},
     "output_type": "execute_result"
    }
   ],
   "source": [
    "logreg_pf2_gs.fit(X_train,y_train)"
   ]
  },
  {
   "cell_type": "code",
   "execution_count": 128,
   "metadata": {
    "ExecuteTime": {
     "end_time": "2023-10-06T15:58:40.369763Z",
     "start_time": "2023-10-06T15:58:40.277375Z"
    }
   },
   "outputs": [
    {
     "data": {
      "text/plain": [
       "<sklearn.metrics._plot.roc_curve.RocCurveDisplay at 0x245c8220ca0>"
      ]
     },
     "execution_count": 128,
     "metadata": {},
     "output_type": "execute_result"
    },
    {
     "data": {
      "image/png": "[encoded data removed]",
      "text/plain": [
       "<Figure size 432x288 with 1 Axes>"
      ]
     },
     "metadata": {
      "needs_background": "light"
     },
     "output_type": "display_data"
    }
   ],
   "source": [
    "plot_roc_curve(logreg_pf2_gs, X_test, y_test)"
   ]
  },
  {
   "cell_type": "code",
   "execution_count": 129,
   "metadata": {
    "ExecuteTime": {
     "end_time": "2023-10-06T15:58:40.385208Z",
     "start_time": "2023-10-06T15:58:40.371032Z"
    }
   },
   "outputs": [
    {
     "name": "stdout",
     "output_type": "stream",
     "text": [
      "              precision    recall  f1-score   support\n",
      "\n",
      "       False       0.92      0.97      0.95       719\n",
      "        True       0.73      0.50      0.60       115\n",
      "\n",
      "    accuracy                           0.91       834\n",
      "   macro avg       0.83      0.74      0.77       834\n",
      "weighted avg       0.90      0.91      0.90       834\n",
      "\n"
     ]
    }
   ],
   "source": [
    "print(classification_report(y_test, logreg_pf2_gs.predict(X_test)))"
   ]
  },
  {
   "cell_type": "code",
   "execution_count": 143,
   "metadata": {
    "ExecuteTime": {
     "end_time": "2023-10-06T18:26:57.855210Z",
     "start_time": "2023-10-06T18:26:57.763459Z"
    }
   },
   "outputs": [
    {
     "data": {
      "text/plain": [
       "<sklearn.metrics._plot.confusion_matrix.ConfusionMatrixDisplay at 0x245c8bab730>"
      ]
     },
     "execution_count": 143,
     "metadata": {},
     "output_type": "execute_result"
    },
    {
     "data": {
      "image/png": "[encoded data removed]",
      "text/plain": [
       "<Figure size 432x288 with 2 Axes>"
      ]
     },
     "metadata": {
      "needs_background": "light"
     },
     "output_type": "display_data"
    }
   ],
   "source": [
    "plot_confusion_matrix(logreg_pf2_gs, X_test, y_test)"
   ]
  },
  {
   "cell_type": "code",
   "execution_count": null,
   "metadata": {},
   "outputs": [],
   "source": []
  },
  {
   "cell_type": "code",
   "execution_count": null,
   "metadata": {},
   "outputs": [],
   "source": []
  },
  {
   "cell_type": "code",
   "execution_count": null,
   "metadata": {},
   "outputs": [],
   "source": []
  },
  {
   "cell_type": "code",
   "execution_count": null,
   "metadata": {},
   "outputs": [],
   "source": []
  }
 ],
 "metadata": {
  "kernelspec": {
   "display_name": "learn-env",
   "language": "python",
   "name": "learn-env"
  },
  "language_info": {
   "codemirror_mode": {
    "name": "ipython",
    "version": 3
   },
   "file_extension": ".py",
   "mimetype": "text/x-python",
   "name": "python",
   "nbconvert_exporter": "python",
   "pygments_lexer": "ipython3",
   "version": "3.8.5"
  },
  "toc": {
   "base_numbering": 1,
   "nav_menu": {},
   "number_sections": true,
   "sideBar": true,
   "skip_h1_title": false,
   "title_cell": "Table of Contents",
   "title_sidebar": "Contents",
   "toc_cell": false,
   "toc_position": {},
   "toc_section_display": true,
   "toc_window_display": false
  }
 },
 "nbformat": 4,
 "nbformat_minor": 4
}
